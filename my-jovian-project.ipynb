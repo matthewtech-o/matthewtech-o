{
 "cells": [
  {
   "cell_type": "markdown",
   "metadata": {
    "id": "yxX7DH7gbkpV"
   },
   "source": [
    "# my-jovian-project\n",
    "\n",
    "Use the \"Run\" button to execute the code."
   ]
  },
  {
   "cell_type": "code",
   "execution_count": 2,
   "metadata": {
    "executionInfo": {
     "elapsed": 3696,
     "status": "ok",
     "timestamp": 1627572127338,
     "user": {
      "displayName": "Matthew Oladiran",
      "photoUrl": "https://lh3.googleusercontent.com/a-/AOh14Gh8gzFroomEcpCvX9DbYCy3EqIAhBaajOv9aNCNbg=s64",
      "userId": "09145176024951036598"
     },
     "user_tz": -60
    },
    "id": "456-pJTtbkpV"
   },
   "outputs": [],
   "source": [
    "!pip install jovian --upgrade --quiet"
   ]
  },
  {
   "cell_type": "code",
   "execution_count": 3,
   "metadata": {
    "executionInfo": {
     "elapsed": 13,
     "status": "ok",
     "timestamp": 1627572127339,
     "user": {
      "displayName": "Matthew Oladiran",
      "photoUrl": "https://lh3.googleusercontent.com/a-/AOh14Gh8gzFroomEcpCvX9DbYCy3EqIAhBaajOv9aNCNbg=s64",
      "userId": "09145176024951036598"
     },
     "user_tz": -60
    },
    "id": "5IPjNAzxbkpW"
   },
   "outputs": [],
   "source": [
    "import jovian"
   ]
  },
  {
   "cell_type": "code",
   "execution_count": 4,
   "metadata": {
    "colab": {
     "base_uri": "https://localhost:8080/",
     "height": 120
    },
    "executionInfo": {
     "elapsed": 218516,
     "status": "ok",
     "timestamp": 1627572345842,
     "user": {
      "displayName": "Matthew Oladiran",
      "photoUrl": "https://lh3.googleusercontent.com/a-/AOh14Gh8gzFroomEcpCvX9DbYCy3EqIAhBaajOv9aNCNbg=s64",
      "userId": "09145176024951036598"
     },
     "user_tz": -60
    },
    "id": "dqzxf_WebkpW",
    "outputId": "7ae98a07-9ead-4a86-b7dc-fa929ec7d55a"
   },
   "outputs": [
    {
     "name": "stdout",
     "output_type": "stream",
     "text": [
      "[jovian] Detected Colab notebook...\u001b[0m\n",
      "[jovian] Please enter your API key ( from https://jovian.ai/ ):\u001b[0m\n",
      "API KEY: ··········\n",
      "[jovian] Uploading colab notebook to Jovian...\u001b[0m\n",
      "Committed successfully! https://jovian.ai/toyoski/my-jovian-project\n"
     ]
    },
    {
     "data": {
      "application/vnd.google.colaboratory.intrinsic+json": {
       "type": "string"
      },
      "text/plain": [
       "'https://jovian.ai/toyoski/my-jovian-project'"
      ]
     },
     "execution_count": 4,
     "metadata": {
      "tags": []
     },
     "output_type": "execute_result"
    }
   ],
   "source": [
    "# Execute this to save new versions of the notebook\n",
    "jovian.commit(project=\"my-jovian-project\")"
   ]
  },
  {
   "cell_type": "code",
   "execution_count": 5,
   "metadata": {
    "executionInfo": {
     "elapsed": 2782,
     "status": "ok",
     "timestamp": 1627572348618,
     "user": {
      "displayName": "Matthew Oladiran",
      "photoUrl": "https://lh3.googleusercontent.com/a-/AOh14Gh8gzFroomEcpCvX9DbYCy3EqIAhBaajOv9aNCNbg=s64",
      "userId": "09145176024951036598"
     },
     "user_tz": -60
    },
    "id": "7dIGl7dfbkpY"
   },
   "outputs": [],
   "source": [
    "!pip install pandas numpy matplotlib seaborn plotly --quiet"
   ]
  },
  {
   "cell_type": "code",
   "execution_count": 6,
   "metadata": {
    "colab": {
     "base_uri": "https://localhost:8080/"
    },
    "executionInfo": {
     "elapsed": 13363,
     "status": "ok",
     "timestamp": 1627572361978,
     "user": {
      "displayName": "Matthew Oladiran",
      "photoUrl": "https://lh3.googleusercontent.com/a-/AOh14Gh8gzFroomEcpCvX9DbYCy3EqIAhBaajOv9aNCNbg=s64",
      "userId": "09145176024951036598"
     },
     "user_tz": -60
    },
    "id": "Qt5AiKSlbkpY",
    "outputId": "ce231781-9c94-4ca4-fb3e-1dbfadeddafe"
   },
   "outputs": [
    {
     "name": "stdout",
     "output_type": "stream",
     "text": [
      "\u001b[K     |████████████████████████████████| 22.3 MB 79.3 MB/s \n",
      "\u001b[?25h"
     ]
    }
   ],
   "source": [
    "!pip install opendatasets scikit-learn --quiet --upgrade"
   ]
  },
  {
   "cell_type": "code",
   "execution_count": 7,
   "metadata": {
    "executionInfo": {
     "elapsed": 25,
     "status": "ok",
     "timestamp": 1627572361980,
     "user": {
      "displayName": "Matthew Oladiran",
      "photoUrl": "https://lh3.googleusercontent.com/a-/AOh14Gh8gzFroomEcpCvX9DbYCy3EqIAhBaajOv9aNCNbg=s64",
      "userId": "09145176024951036598"
     },
     "user_tz": -60
    },
    "id": "Nan_es6ZbkpZ"
   },
   "outputs": [],
   "source": [
    "import opendatasets as od\n",
    "import matplotlib.pyplot as plt\n",
    "import seaborn as sns\n",
    "import pandas as pd\n",
    "import numpy as np\n",
    "import matplotlib\n",
    "import os\n",
    "%matplotlib inline\n",
    "\n",
    "pd.set_option('display.max_columns', None)\n",
    "pd.set_option('display.max_rows', 150)\n",
    "sns.set_style('darkgrid')\n",
    "matplotlib.rcParams['font.size'] = 14\n",
    "matplotlib.rcParams['figure.figsize'] = (10, 6)\n",
    "matplotlib.rcParams['figure.facecolor'] = '#00000000'"
   ]
  },
  {
   "cell_type": "markdown",
   "metadata": {
    "id": "iv-msBUAbkpZ"
   },
   "source": [
    "## Downloading the Data\n",
    "\n",
    "The dataset is available at https://www.kaggle.com/c/DontGetKicked.\n",
    "\n",
    "\n",
    "We'll use the [`opendatasets` library](https://github.com/JovianML/opendatasets) to download the data from Kaggle directly within Jupyter. "
   ]
  },
  {
   "cell_type": "code",
   "execution_count": 8,
   "metadata": {
    "colab": {
     "base_uri": "https://localhost:8080/"
    },
    "executionInfo": {
     "elapsed": 27567,
     "status": "ok",
     "timestamp": 1627572389523,
     "user": {
      "displayName": "Matthew Oladiran",
      "photoUrl": "https://lh3.googleusercontent.com/a-/AOh14Gh8gzFroomEcpCvX9DbYCy3EqIAhBaajOv9aNCNbg=s64",
      "userId": "09145176024951036598"
     },
     "user_tz": -60
    },
    "id": "4oV3fU3pbkpa",
    "outputId": "ba86655e-0fd1-4b41-8bbd-a78eaa43de71"
   },
   "outputs": [
    {
     "name": "stdout",
     "output_type": "stream",
     "text": [
      "Please provide your Kaggle credentials to download this dataset. Learn more: http://bit.ly/kaggle-creds\n",
      "Your Kaggle username: matthewoladiran\n",
      "Your Kaggle Key: ··········\n"
     ]
    },
    {
     "name": "stderr",
     "output_type": "stream",
     "text": [
      "100%|██████████| 10.2M/10.2M [00:00<00:00, 100MB/s]"
     ]
    },
    {
     "name": "stdout",
     "output_type": "stream",
     "text": [
      "Downloading DontGetKicked.zip to ./DontGetKicked\n",
      "\n",
      "Extracting archive ./DontGetKicked/DontGetKicked.zip to ./DontGetKicked\n"
     ]
    },
    {
     "name": "stderr",
     "output_type": "stream",
     "text": [
      "\n"
     ]
    }
   ],
   "source": [
    "od.download('https://www.kaggle.com/c/DontGetKicked')"
   ]
  },
  {
   "cell_type": "markdown",
   "metadata": {
    "id": "8PQ3tKwabkpb"
   },
   "source": [
    "The dataset is downloaded and extracted to the folder `DontGetKicked`."
   ]
  },
  {
   "cell_type": "code",
   "execution_count": 9,
   "metadata": {
    "colab": {
     "base_uri": "https://localhost:8080/"
    },
    "executionInfo": {
     "elapsed": 20,
     "status": "ok",
     "timestamp": 1627572389524,
     "user": {
      "displayName": "Matthew Oladiran",
      "photoUrl": "https://lh3.googleusercontent.com/a-/AOh14Gh8gzFroomEcpCvX9DbYCy3EqIAhBaajOv9aNCNbg=s64",
      "userId": "09145176024951036598"
     },
     "user_tz": -60
    },
    "id": "-wv4-nLbbkpb",
    "outputId": "ce7a0efc-0f81-40d0-9dc8-67d2bb5be04f"
   },
   "outputs": [
    {
     "data": {
      "text/plain": [
       "['training.csv',\n",
       " 'test.csv',\n",
       " 'training.zip',\n",
       " 'test.zip',\n",
       " 'Carvana_Data_Dictionary.txt',\n",
       " 'example_entry.csv']"
      ]
     },
     "execution_count": 9,
     "metadata": {
      "tags": []
     },
     "output_type": "execute_result"
    }
   ],
   "source": [
    "os.listdir('DontGetKicked')"
   ]
  },
  {
   "cell_type": "code",
   "execution_count": 10,
   "metadata": {
    "executionInfo": {
     "elapsed": 735,
     "status": "ok",
     "timestamp": 1627572390246,
     "user": {
      "displayName": "Matthew Oladiran",
      "photoUrl": "https://lh3.googleusercontent.com/a-/AOh14Gh8gzFroomEcpCvX9DbYCy3EqIAhBaajOv9aNCNbg=s64",
      "userId": "09145176024951036598"
     },
     "user_tz": -60
    },
    "id": "o_3dLepmbkpb"
   },
   "outputs": [],
   "source": [
    "train_df = pd.read_csv('./DontGetKicked/training.csv')\n",
    "test_df = pd.read_csv('./DontGetKicked/test.csv')\n",
    "entry_df = pd.read_csv('./DontGetKicked/example_entry.csv')"
   ]
  },
  {
   "cell_type": "code",
   "execution_count": 11,
   "metadata": {
    "colab": {
     "base_uri": "https://localhost:8080/",
     "height": 728
    },
    "executionInfo": {
     "elapsed": 5,
     "status": "ok",
     "timestamp": 1627572390247,
     "user": {
      "displayName": "Matthew Oladiran",
      "photoUrl": "https://lh3.googleusercontent.com/a-/AOh14Gh8gzFroomEcpCvX9DbYCy3EqIAhBaajOv9aNCNbg=s64",
      "userId": "09145176024951036598"
     },
     "user_tz": -60
    },
    "id": "jA25a4Qibkpc",
    "outputId": "31d27d55-6600-4f41-c190-164b20405dd6"
   },
   "outputs": [
    {
     "data": {
      "text/html": [
       "<div>\n",
       "<style scoped>\n",
       "    .dataframe tbody tr th:only-of-type {\n",
       "        vertical-align: middle;\n",
       "    }\n",
       "\n",
       "    .dataframe tbody tr th {\n",
       "        vertical-align: top;\n",
       "    }\n",
       "\n",
       "    .dataframe thead th {\n",
       "        text-align: right;\n",
       "    }\n",
       "</style>\n",
       "<table border=\"1\" class=\"dataframe\">\n",
       "  <thead>\n",
       "    <tr style=\"text-align: right;\">\n",
       "      <th></th>\n",
       "      <th>RefId</th>\n",
       "      <th>IsBadBuy</th>\n",
       "      <th>PurchDate</th>\n",
       "      <th>Auction</th>\n",
       "      <th>VehYear</th>\n",
       "      <th>VehicleAge</th>\n",
       "      <th>Make</th>\n",
       "      <th>Model</th>\n",
       "      <th>Trim</th>\n",
       "      <th>SubModel</th>\n",
       "      <th>Color</th>\n",
       "      <th>Transmission</th>\n",
       "      <th>WheelTypeID</th>\n",
       "      <th>WheelType</th>\n",
       "      <th>VehOdo</th>\n",
       "      <th>Nationality</th>\n",
       "      <th>Size</th>\n",
       "      <th>TopThreeAmericanName</th>\n",
       "      <th>MMRAcquisitionAuctionAveragePrice</th>\n",
       "      <th>MMRAcquisitionAuctionCleanPrice</th>\n",
       "      <th>MMRAcquisitionRetailAveragePrice</th>\n",
       "      <th>MMRAcquisitonRetailCleanPrice</th>\n",
       "      <th>MMRCurrentAuctionAveragePrice</th>\n",
       "      <th>MMRCurrentAuctionCleanPrice</th>\n",
       "      <th>MMRCurrentRetailAveragePrice</th>\n",
       "      <th>MMRCurrentRetailCleanPrice</th>\n",
       "      <th>PRIMEUNIT</th>\n",
       "      <th>AUCGUART</th>\n",
       "      <th>BYRNO</th>\n",
       "      <th>VNZIP1</th>\n",
       "      <th>VNST</th>\n",
       "      <th>VehBCost</th>\n",
       "      <th>IsOnlineSale</th>\n",
       "      <th>WarrantyCost</th>\n",
       "    </tr>\n",
       "  </thead>\n",
       "  <tbody>\n",
       "    <tr>\n",
       "      <th>0</th>\n",
       "      <td>1</td>\n",
       "      <td>0</td>\n",
       "      <td>12/7/2009</td>\n",
       "      <td>ADESA</td>\n",
       "      <td>2006</td>\n",
       "      <td>3</td>\n",
       "      <td>MAZDA</td>\n",
       "      <td>MAZDA3</td>\n",
       "      <td>i</td>\n",
       "      <td>4D SEDAN I</td>\n",
       "      <td>RED</td>\n",
       "      <td>AUTO</td>\n",
       "      <td>1.0</td>\n",
       "      <td>Alloy</td>\n",
       "      <td>89046</td>\n",
       "      <td>OTHER ASIAN</td>\n",
       "      <td>MEDIUM</td>\n",
       "      <td>OTHER</td>\n",
       "      <td>8155.0</td>\n",
       "      <td>9829.0</td>\n",
       "      <td>11636.0</td>\n",
       "      <td>13600.0</td>\n",
       "      <td>7451.0</td>\n",
       "      <td>8552.0</td>\n",
       "      <td>11597.0</td>\n",
       "      <td>12409.0</td>\n",
       "      <td>NaN</td>\n",
       "      <td>NaN</td>\n",
       "      <td>21973</td>\n",
       "      <td>33619</td>\n",
       "      <td>FL</td>\n",
       "      <td>7100.0</td>\n",
       "      <td>0</td>\n",
       "      <td>1113</td>\n",
       "    </tr>\n",
       "    <tr>\n",
       "      <th>1</th>\n",
       "      <td>2</td>\n",
       "      <td>0</td>\n",
       "      <td>12/7/2009</td>\n",
       "      <td>ADESA</td>\n",
       "      <td>2004</td>\n",
       "      <td>5</td>\n",
       "      <td>DODGE</td>\n",
       "      <td>1500 RAM PICKUP 2WD</td>\n",
       "      <td>ST</td>\n",
       "      <td>QUAD CAB 4.7L SLT</td>\n",
       "      <td>WHITE</td>\n",
       "      <td>AUTO</td>\n",
       "      <td>1.0</td>\n",
       "      <td>Alloy</td>\n",
       "      <td>93593</td>\n",
       "      <td>AMERICAN</td>\n",
       "      <td>LARGE TRUCK</td>\n",
       "      <td>CHRYSLER</td>\n",
       "      <td>6854.0</td>\n",
       "      <td>8383.0</td>\n",
       "      <td>10897.0</td>\n",
       "      <td>12572.0</td>\n",
       "      <td>7456.0</td>\n",
       "      <td>9222.0</td>\n",
       "      <td>11374.0</td>\n",
       "      <td>12791.0</td>\n",
       "      <td>NaN</td>\n",
       "      <td>NaN</td>\n",
       "      <td>19638</td>\n",
       "      <td>33619</td>\n",
       "      <td>FL</td>\n",
       "      <td>7600.0</td>\n",
       "      <td>0</td>\n",
       "      <td>1053</td>\n",
       "    </tr>\n",
       "    <tr>\n",
       "      <th>2</th>\n",
       "      <td>3</td>\n",
       "      <td>0</td>\n",
       "      <td>12/7/2009</td>\n",
       "      <td>ADESA</td>\n",
       "      <td>2005</td>\n",
       "      <td>4</td>\n",
       "      <td>DODGE</td>\n",
       "      <td>STRATUS V6</td>\n",
       "      <td>SXT</td>\n",
       "      <td>4D SEDAN SXT FFV</td>\n",
       "      <td>MAROON</td>\n",
       "      <td>AUTO</td>\n",
       "      <td>2.0</td>\n",
       "      <td>Covers</td>\n",
       "      <td>73807</td>\n",
       "      <td>AMERICAN</td>\n",
       "      <td>MEDIUM</td>\n",
       "      <td>CHRYSLER</td>\n",
       "      <td>3202.0</td>\n",
       "      <td>4760.0</td>\n",
       "      <td>6943.0</td>\n",
       "      <td>8457.0</td>\n",
       "      <td>4035.0</td>\n",
       "      <td>5557.0</td>\n",
       "      <td>7146.0</td>\n",
       "      <td>8702.0</td>\n",
       "      <td>NaN</td>\n",
       "      <td>NaN</td>\n",
       "      <td>19638</td>\n",
       "      <td>33619</td>\n",
       "      <td>FL</td>\n",
       "      <td>4900.0</td>\n",
       "      <td>0</td>\n",
       "      <td>1389</td>\n",
       "    </tr>\n",
       "    <tr>\n",
       "      <th>3</th>\n",
       "      <td>4</td>\n",
       "      <td>0</td>\n",
       "      <td>12/7/2009</td>\n",
       "      <td>ADESA</td>\n",
       "      <td>2004</td>\n",
       "      <td>5</td>\n",
       "      <td>DODGE</td>\n",
       "      <td>NEON</td>\n",
       "      <td>SXT</td>\n",
       "      <td>4D SEDAN</td>\n",
       "      <td>SILVER</td>\n",
       "      <td>AUTO</td>\n",
       "      <td>1.0</td>\n",
       "      <td>Alloy</td>\n",
       "      <td>65617</td>\n",
       "      <td>AMERICAN</td>\n",
       "      <td>COMPACT</td>\n",
       "      <td>CHRYSLER</td>\n",
       "      <td>1893.0</td>\n",
       "      <td>2675.0</td>\n",
       "      <td>4658.0</td>\n",
       "      <td>5690.0</td>\n",
       "      <td>1844.0</td>\n",
       "      <td>2646.0</td>\n",
       "      <td>4375.0</td>\n",
       "      <td>5518.0</td>\n",
       "      <td>NaN</td>\n",
       "      <td>NaN</td>\n",
       "      <td>19638</td>\n",
       "      <td>33619</td>\n",
       "      <td>FL</td>\n",
       "      <td>4100.0</td>\n",
       "      <td>0</td>\n",
       "      <td>630</td>\n",
       "    </tr>\n",
       "    <tr>\n",
       "      <th>4</th>\n",
       "      <td>5</td>\n",
       "      <td>0</td>\n",
       "      <td>12/7/2009</td>\n",
       "      <td>ADESA</td>\n",
       "      <td>2005</td>\n",
       "      <td>4</td>\n",
       "      <td>FORD</td>\n",
       "      <td>FOCUS</td>\n",
       "      <td>ZX3</td>\n",
       "      <td>2D COUPE ZX3</td>\n",
       "      <td>SILVER</td>\n",
       "      <td>MANUAL</td>\n",
       "      <td>2.0</td>\n",
       "      <td>Covers</td>\n",
       "      <td>69367</td>\n",
       "      <td>AMERICAN</td>\n",
       "      <td>COMPACT</td>\n",
       "      <td>FORD</td>\n",
       "      <td>3913.0</td>\n",
       "      <td>5054.0</td>\n",
       "      <td>7723.0</td>\n",
       "      <td>8707.0</td>\n",
       "      <td>3247.0</td>\n",
       "      <td>4384.0</td>\n",
       "      <td>6739.0</td>\n",
       "      <td>7911.0</td>\n",
       "      <td>NaN</td>\n",
       "      <td>NaN</td>\n",
       "      <td>19638</td>\n",
       "      <td>33619</td>\n",
       "      <td>FL</td>\n",
       "      <td>4000.0</td>\n",
       "      <td>0</td>\n",
       "      <td>1020</td>\n",
       "    </tr>\n",
       "    <tr>\n",
       "      <th>...</th>\n",
       "      <td>...</td>\n",
       "      <td>...</td>\n",
       "      <td>...</td>\n",
       "      <td>...</td>\n",
       "      <td>...</td>\n",
       "      <td>...</td>\n",
       "      <td>...</td>\n",
       "      <td>...</td>\n",
       "      <td>...</td>\n",
       "      <td>...</td>\n",
       "      <td>...</td>\n",
       "      <td>...</td>\n",
       "      <td>...</td>\n",
       "      <td>...</td>\n",
       "      <td>...</td>\n",
       "      <td>...</td>\n",
       "      <td>...</td>\n",
       "      <td>...</td>\n",
       "      <td>...</td>\n",
       "      <td>...</td>\n",
       "      <td>...</td>\n",
       "      <td>...</td>\n",
       "      <td>...</td>\n",
       "      <td>...</td>\n",
       "      <td>...</td>\n",
       "      <td>...</td>\n",
       "      <td>...</td>\n",
       "      <td>...</td>\n",
       "      <td>...</td>\n",
       "      <td>...</td>\n",
       "      <td>...</td>\n",
       "      <td>...</td>\n",
       "      <td>...</td>\n",
       "      <td>...</td>\n",
       "    </tr>\n",
       "    <tr>\n",
       "      <th>72978</th>\n",
       "      <td>73010</td>\n",
       "      <td>1</td>\n",
       "      <td>12/2/2009</td>\n",
       "      <td>ADESA</td>\n",
       "      <td>2001</td>\n",
       "      <td>8</td>\n",
       "      <td>MERCURY</td>\n",
       "      <td>SABLE</td>\n",
       "      <td>GS</td>\n",
       "      <td>4D SEDAN GS</td>\n",
       "      <td>BLACK</td>\n",
       "      <td>AUTO</td>\n",
       "      <td>1.0</td>\n",
       "      <td>Alloy</td>\n",
       "      <td>45234</td>\n",
       "      <td>AMERICAN</td>\n",
       "      <td>MEDIUM</td>\n",
       "      <td>FORD</td>\n",
       "      <td>1996.0</td>\n",
       "      <td>2993.0</td>\n",
       "      <td>2656.0</td>\n",
       "      <td>3732.0</td>\n",
       "      <td>2190.0</td>\n",
       "      <td>3055.0</td>\n",
       "      <td>4836.0</td>\n",
       "      <td>5937.0</td>\n",
       "      <td>NaN</td>\n",
       "      <td>NaN</td>\n",
       "      <td>18111</td>\n",
       "      <td>30212</td>\n",
       "      <td>GA</td>\n",
       "      <td>4200.0</td>\n",
       "      <td>0</td>\n",
       "      <td>993</td>\n",
       "    </tr>\n",
       "    <tr>\n",
       "      <th>72979</th>\n",
       "      <td>73011</td>\n",
       "      <td>0</td>\n",
       "      <td>12/2/2009</td>\n",
       "      <td>ADESA</td>\n",
       "      <td>2007</td>\n",
       "      <td>2</td>\n",
       "      <td>CHEVROLET</td>\n",
       "      <td>MALIBU 4C</td>\n",
       "      <td>LS</td>\n",
       "      <td>4D SEDAN LS</td>\n",
       "      <td>SILVER</td>\n",
       "      <td>AUTO</td>\n",
       "      <td>NaN</td>\n",
       "      <td>NaN</td>\n",
       "      <td>71759</td>\n",
       "      <td>AMERICAN</td>\n",
       "      <td>MEDIUM</td>\n",
       "      <td>GM</td>\n",
       "      <td>6418.0</td>\n",
       "      <td>7325.0</td>\n",
       "      <td>7431.0</td>\n",
       "      <td>8411.0</td>\n",
       "      <td>6785.0</td>\n",
       "      <td>8132.0</td>\n",
       "      <td>10151.0</td>\n",
       "      <td>11652.0</td>\n",
       "      <td>NaN</td>\n",
       "      <td>NaN</td>\n",
       "      <td>18881</td>\n",
       "      <td>30212</td>\n",
       "      <td>GA</td>\n",
       "      <td>6200.0</td>\n",
       "      <td>0</td>\n",
       "      <td>1038</td>\n",
       "    </tr>\n",
       "    <tr>\n",
       "      <th>72980</th>\n",
       "      <td>73012</td>\n",
       "      <td>0</td>\n",
       "      <td>12/2/2009</td>\n",
       "      <td>ADESA</td>\n",
       "      <td>2005</td>\n",
       "      <td>4</td>\n",
       "      <td>JEEP</td>\n",
       "      <td>GRAND CHEROKEE 2WD V</td>\n",
       "      <td>Lar</td>\n",
       "      <td>4D WAGON LAREDO</td>\n",
       "      <td>SILVER</td>\n",
       "      <td>AUTO</td>\n",
       "      <td>1.0</td>\n",
       "      <td>Alloy</td>\n",
       "      <td>88500</td>\n",
       "      <td>AMERICAN</td>\n",
       "      <td>MEDIUM SUV</td>\n",
       "      <td>CHRYSLER</td>\n",
       "      <td>8545.0</td>\n",
       "      <td>9959.0</td>\n",
       "      <td>9729.0</td>\n",
       "      <td>11256.0</td>\n",
       "      <td>8375.0</td>\n",
       "      <td>9802.0</td>\n",
       "      <td>11831.0</td>\n",
       "      <td>14402.0</td>\n",
       "      <td>NaN</td>\n",
       "      <td>NaN</td>\n",
       "      <td>18111</td>\n",
       "      <td>30212</td>\n",
       "      <td>GA</td>\n",
       "      <td>8200.0</td>\n",
       "      <td>0</td>\n",
       "      <td>1893</td>\n",
       "    </tr>\n",
       "    <tr>\n",
       "      <th>72981</th>\n",
       "      <td>73013</td>\n",
       "      <td>0</td>\n",
       "      <td>12/2/2009</td>\n",
       "      <td>ADESA</td>\n",
       "      <td>2006</td>\n",
       "      <td>3</td>\n",
       "      <td>CHEVROLET</td>\n",
       "      <td>IMPALA</td>\n",
       "      <td>LS</td>\n",
       "      <td>4D SEDAN LS</td>\n",
       "      <td>WHITE</td>\n",
       "      <td>AUTO</td>\n",
       "      <td>1.0</td>\n",
       "      <td>Alloy</td>\n",
       "      <td>79554</td>\n",
       "      <td>AMERICAN</td>\n",
       "      <td>LARGE</td>\n",
       "      <td>GM</td>\n",
       "      <td>6420.0</td>\n",
       "      <td>7604.0</td>\n",
       "      <td>7434.0</td>\n",
       "      <td>8712.0</td>\n",
       "      <td>6590.0</td>\n",
       "      <td>7684.0</td>\n",
       "      <td>10099.0</td>\n",
       "      <td>11228.0</td>\n",
       "      <td>NaN</td>\n",
       "      <td>NaN</td>\n",
       "      <td>18881</td>\n",
       "      <td>30212</td>\n",
       "      <td>GA</td>\n",
       "      <td>7000.0</td>\n",
       "      <td>0</td>\n",
       "      <td>1974</td>\n",
       "    </tr>\n",
       "    <tr>\n",
       "      <th>72982</th>\n",
       "      <td>73014</td>\n",
       "      <td>0</td>\n",
       "      <td>12/2/2009</td>\n",
       "      <td>ADESA</td>\n",
       "      <td>2006</td>\n",
       "      <td>3</td>\n",
       "      <td>MAZDA</td>\n",
       "      <td>MAZDA6</td>\n",
       "      <td>s</td>\n",
       "      <td>4D SEDAN S</td>\n",
       "      <td>SILVER</td>\n",
       "      <td>AUTO</td>\n",
       "      <td>1.0</td>\n",
       "      <td>Alloy</td>\n",
       "      <td>66855</td>\n",
       "      <td>OTHER ASIAN</td>\n",
       "      <td>MEDIUM</td>\n",
       "      <td>OTHER</td>\n",
       "      <td>7535.0</td>\n",
       "      <td>8771.0</td>\n",
       "      <td>8638.0</td>\n",
       "      <td>9973.0</td>\n",
       "      <td>7730.0</td>\n",
       "      <td>9102.0</td>\n",
       "      <td>11954.0</td>\n",
       "      <td>13246.0</td>\n",
       "      <td>NaN</td>\n",
       "      <td>NaN</td>\n",
       "      <td>18111</td>\n",
       "      <td>30212</td>\n",
       "      <td>GA</td>\n",
       "      <td>8000.0</td>\n",
       "      <td>0</td>\n",
       "      <td>1313</td>\n",
       "    </tr>\n",
       "  </tbody>\n",
       "</table>\n",
       "<p>72983 rows × 34 columns</p>\n",
       "</div>"
      ],
      "text/plain": [
       "       RefId  IsBadBuy  PurchDate Auction  VehYear  VehicleAge       Make  \\\n",
       "0          1         0  12/7/2009   ADESA     2006           3      MAZDA   \n",
       "1          2         0  12/7/2009   ADESA     2004           5      DODGE   \n",
       "2          3         0  12/7/2009   ADESA     2005           4      DODGE   \n",
       "3          4         0  12/7/2009   ADESA     2004           5      DODGE   \n",
       "4          5         0  12/7/2009   ADESA     2005           4       FORD   \n",
       "...      ...       ...        ...     ...      ...         ...        ...   \n",
       "72978  73010         1  12/2/2009   ADESA     2001           8    MERCURY   \n",
       "72979  73011         0  12/2/2009   ADESA     2007           2  CHEVROLET   \n",
       "72980  73012         0  12/2/2009   ADESA     2005           4       JEEP   \n",
       "72981  73013         0  12/2/2009   ADESA     2006           3  CHEVROLET   \n",
       "72982  73014         0  12/2/2009   ADESA     2006           3      MAZDA   \n",
       "\n",
       "                      Model Trim           SubModel   Color Transmission  \\\n",
       "0                    MAZDA3    i         4D SEDAN I     RED         AUTO   \n",
       "1       1500 RAM PICKUP 2WD   ST  QUAD CAB 4.7L SLT   WHITE         AUTO   \n",
       "2                STRATUS V6  SXT   4D SEDAN SXT FFV  MAROON         AUTO   \n",
       "3                      NEON  SXT           4D SEDAN  SILVER         AUTO   \n",
       "4                     FOCUS  ZX3       2D COUPE ZX3  SILVER       MANUAL   \n",
       "...                     ...  ...                ...     ...          ...   \n",
       "72978                 SABLE   GS        4D SEDAN GS   BLACK         AUTO   \n",
       "72979             MALIBU 4C   LS        4D SEDAN LS  SILVER         AUTO   \n",
       "72980  GRAND CHEROKEE 2WD V  Lar    4D WAGON LAREDO  SILVER         AUTO   \n",
       "72981                IMPALA   LS        4D SEDAN LS   WHITE         AUTO   \n",
       "72982                MAZDA6    s         4D SEDAN S  SILVER         AUTO   \n",
       "\n",
       "       WheelTypeID WheelType  VehOdo  Nationality         Size  \\\n",
       "0              1.0     Alloy   89046  OTHER ASIAN       MEDIUM   \n",
       "1              1.0     Alloy   93593     AMERICAN  LARGE TRUCK   \n",
       "2              2.0    Covers   73807     AMERICAN       MEDIUM   \n",
       "3              1.0     Alloy   65617     AMERICAN      COMPACT   \n",
       "4              2.0    Covers   69367     AMERICAN      COMPACT   \n",
       "...            ...       ...     ...          ...          ...   \n",
       "72978          1.0     Alloy   45234     AMERICAN       MEDIUM   \n",
       "72979          NaN       NaN   71759     AMERICAN       MEDIUM   \n",
       "72980          1.0     Alloy   88500     AMERICAN   MEDIUM SUV   \n",
       "72981          1.0     Alloy   79554     AMERICAN        LARGE   \n",
       "72982          1.0     Alloy   66855  OTHER ASIAN       MEDIUM   \n",
       "\n",
       "      TopThreeAmericanName  MMRAcquisitionAuctionAveragePrice  \\\n",
       "0                    OTHER                             8155.0   \n",
       "1                 CHRYSLER                             6854.0   \n",
       "2                 CHRYSLER                             3202.0   \n",
       "3                 CHRYSLER                             1893.0   \n",
       "4                     FORD                             3913.0   \n",
       "...                    ...                                ...   \n",
       "72978                 FORD                             1996.0   \n",
       "72979                   GM                             6418.0   \n",
       "72980             CHRYSLER                             8545.0   \n",
       "72981                   GM                             6420.0   \n",
       "72982                OTHER                             7535.0   \n",
       "\n",
       "       MMRAcquisitionAuctionCleanPrice  MMRAcquisitionRetailAveragePrice  \\\n",
       "0                               9829.0                           11636.0   \n",
       "1                               8383.0                           10897.0   \n",
       "2                               4760.0                            6943.0   \n",
       "3                               2675.0                            4658.0   \n",
       "4                               5054.0                            7723.0   \n",
       "...                                ...                               ...   \n",
       "72978                           2993.0                            2656.0   \n",
       "72979                           7325.0                            7431.0   \n",
       "72980                           9959.0                            9729.0   \n",
       "72981                           7604.0                            7434.0   \n",
       "72982                           8771.0                            8638.0   \n",
       "\n",
       "       MMRAcquisitonRetailCleanPrice  MMRCurrentAuctionAveragePrice  \\\n",
       "0                            13600.0                         7451.0   \n",
       "1                            12572.0                         7456.0   \n",
       "2                             8457.0                         4035.0   \n",
       "3                             5690.0                         1844.0   \n",
       "4                             8707.0                         3247.0   \n",
       "...                              ...                            ...   \n",
       "72978                         3732.0                         2190.0   \n",
       "72979                         8411.0                         6785.0   \n",
       "72980                        11256.0                         8375.0   \n",
       "72981                         8712.0                         6590.0   \n",
       "72982                         9973.0                         7730.0   \n",
       "\n",
       "       MMRCurrentAuctionCleanPrice  MMRCurrentRetailAveragePrice  \\\n",
       "0                           8552.0                       11597.0   \n",
       "1                           9222.0                       11374.0   \n",
       "2                           5557.0                        7146.0   \n",
       "3                           2646.0                        4375.0   \n",
       "4                           4384.0                        6739.0   \n",
       "...                            ...                           ...   \n",
       "72978                       3055.0                        4836.0   \n",
       "72979                       8132.0                       10151.0   \n",
       "72980                       9802.0                       11831.0   \n",
       "72981                       7684.0                       10099.0   \n",
       "72982                       9102.0                       11954.0   \n",
       "\n",
       "       MMRCurrentRetailCleanPrice PRIMEUNIT AUCGUART  BYRNO  VNZIP1 VNST  \\\n",
       "0                         12409.0       NaN      NaN  21973   33619   FL   \n",
       "1                         12791.0       NaN      NaN  19638   33619   FL   \n",
       "2                          8702.0       NaN      NaN  19638   33619   FL   \n",
       "3                          5518.0       NaN      NaN  19638   33619   FL   \n",
       "4                          7911.0       NaN      NaN  19638   33619   FL   \n",
       "...                           ...       ...      ...    ...     ...  ...   \n",
       "72978                      5937.0       NaN      NaN  18111   30212   GA   \n",
       "72979                     11652.0       NaN      NaN  18881   30212   GA   \n",
       "72980                     14402.0       NaN      NaN  18111   30212   GA   \n",
       "72981                     11228.0       NaN      NaN  18881   30212   GA   \n",
       "72982                     13246.0       NaN      NaN  18111   30212   GA   \n",
       "\n",
       "       VehBCost  IsOnlineSale  WarrantyCost  \n",
       "0        7100.0             0          1113  \n",
       "1        7600.0             0          1053  \n",
       "2        4900.0             0          1389  \n",
       "3        4100.0             0           630  \n",
       "4        4000.0             0          1020  \n",
       "...         ...           ...           ...  \n",
       "72978    4200.0             0           993  \n",
       "72979    6200.0             0          1038  \n",
       "72980    8200.0             0          1893  \n",
       "72981    7000.0             0          1974  \n",
       "72982    8000.0             0          1313  \n",
       "\n",
       "[72983 rows x 34 columns]"
      ]
     },
     "execution_count": 11,
     "metadata": {
      "tags": []
     },
     "output_type": "execute_result"
    }
   ],
   "source": [
    "train_df"
   ]
  },
  {
   "cell_type": "code",
   "execution_count": 12,
   "metadata": {
    "colab": {
     "base_uri": "https://localhost:8080/",
     "height": 575
    },
    "executionInfo": {
     "elapsed": 395,
     "status": "ok",
     "timestamp": 1627572390638,
     "user": {
      "displayName": "Matthew Oladiran",
      "photoUrl": "https://lh3.googleusercontent.com/a-/AOh14Gh8gzFroomEcpCvX9DbYCy3EqIAhBaajOv9aNCNbg=s64",
      "userId": "09145176024951036598"
     },
     "user_tz": -60
    },
    "id": "YMl0pUcLbkpc",
    "outputId": "e6afdc65-45bc-4667-9c0f-70ec72b67912"
   },
   "outputs": [
    {
     "data": {
      "text/html": [
       "<div>\n",
       "<style scoped>\n",
       "    .dataframe tbody tr th:only-of-type {\n",
       "        vertical-align: middle;\n",
       "    }\n",
       "\n",
       "    .dataframe tbody tr th {\n",
       "        vertical-align: top;\n",
       "    }\n",
       "\n",
       "    .dataframe thead th {\n",
       "        text-align: right;\n",
       "    }\n",
       "</style>\n",
       "<table border=\"1\" class=\"dataframe\">\n",
       "  <thead>\n",
       "    <tr style=\"text-align: right;\">\n",
       "      <th></th>\n",
       "      <th>RefId</th>\n",
       "      <th>PurchDate</th>\n",
       "      <th>Auction</th>\n",
       "      <th>VehYear</th>\n",
       "      <th>VehicleAge</th>\n",
       "      <th>Make</th>\n",
       "      <th>Model</th>\n",
       "      <th>Trim</th>\n",
       "      <th>SubModel</th>\n",
       "      <th>Color</th>\n",
       "      <th>Transmission</th>\n",
       "      <th>WheelTypeID</th>\n",
       "      <th>WheelType</th>\n",
       "      <th>VehOdo</th>\n",
       "      <th>Nationality</th>\n",
       "      <th>Size</th>\n",
       "      <th>TopThreeAmericanName</th>\n",
       "      <th>MMRAcquisitionAuctionAveragePrice</th>\n",
       "      <th>MMRAcquisitionAuctionCleanPrice</th>\n",
       "      <th>MMRAcquisitionRetailAveragePrice</th>\n",
       "      <th>MMRAcquisitonRetailCleanPrice</th>\n",
       "      <th>MMRCurrentAuctionAveragePrice</th>\n",
       "      <th>MMRCurrentAuctionCleanPrice</th>\n",
       "      <th>MMRCurrentRetailAveragePrice</th>\n",
       "      <th>MMRCurrentRetailCleanPrice</th>\n",
       "      <th>PRIMEUNIT</th>\n",
       "      <th>AUCGUART</th>\n",
       "      <th>BYRNO</th>\n",
       "      <th>VNZIP1</th>\n",
       "      <th>VNST</th>\n",
       "      <th>VehBCost</th>\n",
       "      <th>IsOnlineSale</th>\n",
       "      <th>WarrantyCost</th>\n",
       "    </tr>\n",
       "  </thead>\n",
       "  <tbody>\n",
       "    <tr>\n",
       "      <th>0</th>\n",
       "      <td>73015</td>\n",
       "      <td>12/2/2009</td>\n",
       "      <td>ADESA</td>\n",
       "      <td>2005</td>\n",
       "      <td>4</td>\n",
       "      <td>PONTIAC</td>\n",
       "      <td>GRAND PRIX</td>\n",
       "      <td>Bas</td>\n",
       "      <td>4D SEDAN</td>\n",
       "      <td>SILVER</td>\n",
       "      <td>AUTO</td>\n",
       "      <td>1.0</td>\n",
       "      <td>Alloy</td>\n",
       "      <td>85377</td>\n",
       "      <td>AMERICAN</td>\n",
       "      <td>LARGE</td>\n",
       "      <td>GM</td>\n",
       "      <td>5032.0</td>\n",
       "      <td>6386.0</td>\n",
       "      <td>5935.0</td>\n",
       "      <td>7397.0</td>\n",
       "      <td>4905.0</td>\n",
       "      <td>6181.0</td>\n",
       "      <td>8557.0</td>\n",
       "      <td>9752.0</td>\n",
       "      <td>NaN</td>\n",
       "      <td>NaN</td>\n",
       "      <td>18881</td>\n",
       "      <td>30212</td>\n",
       "      <td>GA</td>\n",
       "      <td>6500.0</td>\n",
       "      <td>0</td>\n",
       "      <td>2152</td>\n",
       "    </tr>\n",
       "    <tr>\n",
       "      <th>1</th>\n",
       "      <td>73016</td>\n",
       "      <td>12/2/2009</td>\n",
       "      <td>ADESA</td>\n",
       "      <td>2005</td>\n",
       "      <td>4</td>\n",
       "      <td>CHEVROLET</td>\n",
       "      <td>MALIBU V6</td>\n",
       "      <td>LS</td>\n",
       "      <td>4D SEDAN LS</td>\n",
       "      <td>SILVER</td>\n",
       "      <td>AUTO</td>\n",
       "      <td>1.0</td>\n",
       "      <td>Alloy</td>\n",
       "      <td>61873</td>\n",
       "      <td>AMERICAN</td>\n",
       "      <td>MEDIUM</td>\n",
       "      <td>GM</td>\n",
       "      <td>4502.0</td>\n",
       "      <td>5685.0</td>\n",
       "      <td>5362.0</td>\n",
       "      <td>6640.0</td>\n",
       "      <td>4645.0</td>\n",
       "      <td>5710.0</td>\n",
       "      <td>7562.0</td>\n",
       "      <td>9296.0</td>\n",
       "      <td>NaN</td>\n",
       "      <td>NaN</td>\n",
       "      <td>18111</td>\n",
       "      <td>30212</td>\n",
       "      <td>GA</td>\n",
       "      <td>6300.0</td>\n",
       "      <td>0</td>\n",
       "      <td>1118</td>\n",
       "    </tr>\n",
       "    <tr>\n",
       "      <th>2</th>\n",
       "      <td>73017</td>\n",
       "      <td>12/2/2009</td>\n",
       "      <td>ADESA</td>\n",
       "      <td>2006</td>\n",
       "      <td>3</td>\n",
       "      <td>DODGE</td>\n",
       "      <td>DURANGO 2WD V8</td>\n",
       "      <td>Adv</td>\n",
       "      <td>4D SUV 4.7L ADVENTURER</td>\n",
       "      <td>SILVER</td>\n",
       "      <td>AUTO</td>\n",
       "      <td>1.0</td>\n",
       "      <td>Alloy</td>\n",
       "      <td>69283</td>\n",
       "      <td>AMERICAN</td>\n",
       "      <td>MEDIUM SUV</td>\n",
       "      <td>CHRYSLER</td>\n",
       "      <td>10244.0</td>\n",
       "      <td>13041.0</td>\n",
       "      <td>11564.0</td>\n",
       "      <td>14584.0</td>\n",
       "      <td>10883.0</td>\n",
       "      <td>12166.0</td>\n",
       "      <td>15340.0</td>\n",
       "      <td>16512.0</td>\n",
       "      <td>NaN</td>\n",
       "      <td>NaN</td>\n",
       "      <td>18111</td>\n",
       "      <td>30212</td>\n",
       "      <td>GA</td>\n",
       "      <td>9700.0</td>\n",
       "      <td>0</td>\n",
       "      <td>1215</td>\n",
       "    </tr>\n",
       "    <tr>\n",
       "      <th>3</th>\n",
       "      <td>73018</td>\n",
       "      <td>12/2/2009</td>\n",
       "      <td>ADESA</td>\n",
       "      <td>2002</td>\n",
       "      <td>7</td>\n",
       "      <td>SATURN</td>\n",
       "      <td>L SERIES</td>\n",
       "      <td>L20</td>\n",
       "      <td>4D SEDAN L200</td>\n",
       "      <td>GOLD</td>\n",
       "      <td>AUTO</td>\n",
       "      <td>1.0</td>\n",
       "      <td>Alloy</td>\n",
       "      <td>87889</td>\n",
       "      <td>AMERICAN</td>\n",
       "      <td>MEDIUM</td>\n",
       "      <td>GM</td>\n",
       "      <td>2558.0</td>\n",
       "      <td>3542.0</td>\n",
       "      <td>3263.0</td>\n",
       "      <td>4325.0</td>\n",
       "      <td>2928.0</td>\n",
       "      <td>3607.0</td>\n",
       "      <td>5725.0</td>\n",
       "      <td>6398.0</td>\n",
       "      <td>NaN</td>\n",
       "      <td>NaN</td>\n",
       "      <td>18881</td>\n",
       "      <td>30212</td>\n",
       "      <td>GA</td>\n",
       "      <td>4150.0</td>\n",
       "      <td>0</td>\n",
       "      <td>1933</td>\n",
       "    </tr>\n",
       "    <tr>\n",
       "      <th>4</th>\n",
       "      <td>73019</td>\n",
       "      <td>12/2/2009</td>\n",
       "      <td>ADESA</td>\n",
       "      <td>2007</td>\n",
       "      <td>2</td>\n",
       "      <td>HYUNDAI</td>\n",
       "      <td>ACCENT</td>\n",
       "      <td>GS</td>\n",
       "      <td>2D COUPE GS</td>\n",
       "      <td>BLUE</td>\n",
       "      <td>AUTO</td>\n",
       "      <td>NaN</td>\n",
       "      <td>NaN</td>\n",
       "      <td>73432</td>\n",
       "      <td>OTHER ASIAN</td>\n",
       "      <td>COMPACT</td>\n",
       "      <td>OTHER</td>\n",
       "      <td>5013.0</td>\n",
       "      <td>6343.0</td>\n",
       "      <td>5914.0</td>\n",
       "      <td>7350.0</td>\n",
       "      <td>5013.0</td>\n",
       "      <td>6343.0</td>\n",
       "      <td>5914.0</td>\n",
       "      <td>7350.0</td>\n",
       "      <td>NaN</td>\n",
       "      <td>NaN</td>\n",
       "      <td>18111</td>\n",
       "      <td>30212</td>\n",
       "      <td>GA</td>\n",
       "      <td>4100.0</td>\n",
       "      <td>0</td>\n",
       "      <td>920</td>\n",
       "    </tr>\n",
       "    <tr>\n",
       "      <th>...</th>\n",
       "      <td>...</td>\n",
       "      <td>...</td>\n",
       "      <td>...</td>\n",
       "      <td>...</td>\n",
       "      <td>...</td>\n",
       "      <td>...</td>\n",
       "      <td>...</td>\n",
       "      <td>...</td>\n",
       "      <td>...</td>\n",
       "      <td>...</td>\n",
       "      <td>...</td>\n",
       "      <td>...</td>\n",
       "      <td>...</td>\n",
       "      <td>...</td>\n",
       "      <td>...</td>\n",
       "      <td>...</td>\n",
       "      <td>...</td>\n",
       "      <td>...</td>\n",
       "      <td>...</td>\n",
       "      <td>...</td>\n",
       "      <td>...</td>\n",
       "      <td>...</td>\n",
       "      <td>...</td>\n",
       "      <td>...</td>\n",
       "      <td>...</td>\n",
       "      <td>...</td>\n",
       "      <td>...</td>\n",
       "      <td>...</td>\n",
       "      <td>...</td>\n",
       "      <td>...</td>\n",
       "      <td>...</td>\n",
       "      <td>...</td>\n",
       "      <td>...</td>\n",
       "    </tr>\n",
       "    <tr>\n",
       "      <th>48702</th>\n",
       "      <td>121742</td>\n",
       "      <td>11/17/2010</td>\n",
       "      <td>MANHEIM</td>\n",
       "      <td>2005</td>\n",
       "      <td>5</td>\n",
       "      <td>FORD</td>\n",
       "      <td>FIVE HUNDRED</td>\n",
       "      <td>SEL</td>\n",
       "      <td>4D SEDAN SEL</td>\n",
       "      <td>BLACK</td>\n",
       "      <td>AUTO</td>\n",
       "      <td>1.0</td>\n",
       "      <td>Alloy</td>\n",
       "      <td>88645</td>\n",
       "      <td>AMERICAN</td>\n",
       "      <td>LARGE</td>\n",
       "      <td>FORD</td>\n",
       "      <td>5358.0</td>\n",
       "      <td>6836.0</td>\n",
       "      <td>8987.0</td>\n",
       "      <td>10905.0</td>\n",
       "      <td>5761.0</td>\n",
       "      <td>6965.0</td>\n",
       "      <td>9764.0</td>\n",
       "      <td>11395.0</td>\n",
       "      <td>NaN</td>\n",
       "      <td>NaN</td>\n",
       "      <td>20928</td>\n",
       "      <td>33411</td>\n",
       "      <td>FL</td>\n",
       "      <td>7955.0</td>\n",
       "      <td>0</td>\n",
       "      <td>1633</td>\n",
       "    </tr>\n",
       "    <tr>\n",
       "      <th>48703</th>\n",
       "      <td>121743</td>\n",
       "      <td>11/17/2010</td>\n",
       "      <td>MANHEIM</td>\n",
       "      <td>2007</td>\n",
       "      <td>3</td>\n",
       "      <td>TOYOTA</td>\n",
       "      <td>COROLLA</td>\n",
       "      <td>CE</td>\n",
       "      <td>4D SEDAN CE</td>\n",
       "      <td>GREEN</td>\n",
       "      <td>AUTO</td>\n",
       "      <td>2.0</td>\n",
       "      <td>Covers</td>\n",
       "      <td>81862</td>\n",
       "      <td>TOP LINE ASIAN</td>\n",
       "      <td>COMPACT</td>\n",
       "      <td>OTHER</td>\n",
       "      <td>6849.0</td>\n",
       "      <td>7992.0</td>\n",
       "      <td>10999.0</td>\n",
       "      <td>12021.0</td>\n",
       "      <td>6856.0</td>\n",
       "      <td>8183.0</td>\n",
       "      <td>10283.0</td>\n",
       "      <td>11565.0</td>\n",
       "      <td>NaN</td>\n",
       "      <td>NaN</td>\n",
       "      <td>20928</td>\n",
       "      <td>33411</td>\n",
       "      <td>FL</td>\n",
       "      <td>7035.0</td>\n",
       "      <td>0</td>\n",
       "      <td>594</td>\n",
       "    </tr>\n",
       "    <tr>\n",
       "      <th>48704</th>\n",
       "      <td>121744</td>\n",
       "      <td>11/17/2010</td>\n",
       "      <td>MANHEIM</td>\n",
       "      <td>2006</td>\n",
       "      <td>4</td>\n",
       "      <td>KIA</td>\n",
       "      <td>SPECTRA</td>\n",
       "      <td>EX</td>\n",
       "      <td>4D SEDAN EX</td>\n",
       "      <td>BLACK</td>\n",
       "      <td>AUTO</td>\n",
       "      <td>2.0</td>\n",
       "      <td>Covers</td>\n",
       "      <td>82451</td>\n",
       "      <td>OTHER ASIAN</td>\n",
       "      <td>MEDIUM</td>\n",
       "      <td>OTHER</td>\n",
       "      <td>4662.0</td>\n",
       "      <td>5655.0</td>\n",
       "      <td>7972.0</td>\n",
       "      <td>9670.0</td>\n",
       "      <td>4833.0</td>\n",
       "      <td>5856.0</td>\n",
       "      <td>7871.0</td>\n",
       "      <td>9490.0</td>\n",
       "      <td>NO</td>\n",
       "      <td>GREEN</td>\n",
       "      <td>20928</td>\n",
       "      <td>33411</td>\n",
       "      <td>FL</td>\n",
       "      <td>6335.0</td>\n",
       "      <td>0</td>\n",
       "      <td>594</td>\n",
       "    </tr>\n",
       "    <tr>\n",
       "      <th>48705</th>\n",
       "      <td>121745</td>\n",
       "      <td>11/17/2010</td>\n",
       "      <td>MANHEIM</td>\n",
       "      <td>2005</td>\n",
       "      <td>5</td>\n",
       "      <td>MAZDA</td>\n",
       "      <td>MAZDA3</td>\n",
       "      <td>s</td>\n",
       "      <td>4D SEDAN GT</td>\n",
       "      <td>SILVER</td>\n",
       "      <td>AUTO</td>\n",
       "      <td>1.0</td>\n",
       "      <td>Alloy</td>\n",
       "      <td>75760</td>\n",
       "      <td>OTHER ASIAN</td>\n",
       "      <td>MEDIUM</td>\n",
       "      <td>OTHER</td>\n",
       "      <td>5953.0</td>\n",
       "      <td>8166.0</td>\n",
       "      <td>9137.0</td>\n",
       "      <td>11949.0</td>\n",
       "      <td>5092.0</td>\n",
       "      <td>6853.0</td>\n",
       "      <td>8576.0</td>\n",
       "      <td>9937.0</td>\n",
       "      <td>NO</td>\n",
       "      <td>GREEN</td>\n",
       "      <td>20928</td>\n",
       "      <td>33411</td>\n",
       "      <td>FL</td>\n",
       "      <td>8055.0</td>\n",
       "      <td>0</td>\n",
       "      <td>1038</td>\n",
       "    </tr>\n",
       "    <tr>\n",
       "      <th>48706</th>\n",
       "      <td>121746</td>\n",
       "      <td>11/17/2010</td>\n",
       "      <td>MANHEIM</td>\n",
       "      <td>2003</td>\n",
       "      <td>7</td>\n",
       "      <td>BUICK</td>\n",
       "      <td>RENDEZVOUS AWD</td>\n",
       "      <td>CX</td>\n",
       "      <td>4D SUV CX</td>\n",
       "      <td>GOLD</td>\n",
       "      <td>AUTO</td>\n",
       "      <td>2.0</td>\n",
       "      <td>Covers</td>\n",
       "      <td>82174</td>\n",
       "      <td>AMERICAN</td>\n",
       "      <td>MEDIUM SUV</td>\n",
       "      <td>GM</td>\n",
       "      <td>3269.0</td>\n",
       "      <td>4435.0</td>\n",
       "      <td>6893.0</td>\n",
       "      <td>8221.0</td>\n",
       "      <td>4526.0</td>\n",
       "      <td>5761.0</td>\n",
       "      <td>8266.0</td>\n",
       "      <td>9388.0</td>\n",
       "      <td>NO</td>\n",
       "      <td>GREEN</td>\n",
       "      <td>20928</td>\n",
       "      <td>33411</td>\n",
       "      <td>FL</td>\n",
       "      <td>7755.0</td>\n",
       "      <td>0</td>\n",
       "      <td>5392</td>\n",
       "    </tr>\n",
       "  </tbody>\n",
       "</table>\n",
       "<p>48707 rows × 33 columns</p>\n",
       "</div>"
      ],
      "text/plain": [
       "        RefId   PurchDate  Auction  VehYear  VehicleAge       Make  \\\n",
       "0       73015   12/2/2009    ADESA     2005           4    PONTIAC   \n",
       "1       73016   12/2/2009    ADESA     2005           4  CHEVROLET   \n",
       "2       73017   12/2/2009    ADESA     2006           3      DODGE   \n",
       "3       73018   12/2/2009    ADESA     2002           7     SATURN   \n",
       "4       73019   12/2/2009    ADESA     2007           2    HYUNDAI   \n",
       "...       ...         ...      ...      ...         ...        ...   \n",
       "48702  121742  11/17/2010  MANHEIM     2005           5       FORD   \n",
       "48703  121743  11/17/2010  MANHEIM     2007           3     TOYOTA   \n",
       "48704  121744  11/17/2010  MANHEIM     2006           4        KIA   \n",
       "48705  121745  11/17/2010  MANHEIM     2005           5      MAZDA   \n",
       "48706  121746  11/17/2010  MANHEIM     2003           7      BUICK   \n",
       "\n",
       "                Model Trim                SubModel   Color Transmission  \\\n",
       "0          GRAND PRIX  Bas                4D SEDAN  SILVER         AUTO   \n",
       "1           MALIBU V6   LS             4D SEDAN LS  SILVER         AUTO   \n",
       "2      DURANGO 2WD V8  Adv  4D SUV 4.7L ADVENTURER  SILVER         AUTO   \n",
       "3            L SERIES  L20           4D SEDAN L200    GOLD         AUTO   \n",
       "4              ACCENT   GS             2D COUPE GS    BLUE         AUTO   \n",
       "...               ...  ...                     ...     ...          ...   \n",
       "48702    FIVE HUNDRED  SEL            4D SEDAN SEL   BLACK         AUTO   \n",
       "48703         COROLLA   CE             4D SEDAN CE   GREEN         AUTO   \n",
       "48704         SPECTRA   EX             4D SEDAN EX   BLACK         AUTO   \n",
       "48705          MAZDA3    s             4D SEDAN GT  SILVER         AUTO   \n",
       "48706  RENDEZVOUS AWD   CX               4D SUV CX    GOLD         AUTO   \n",
       "\n",
       "       WheelTypeID WheelType  VehOdo     Nationality        Size  \\\n",
       "0              1.0     Alloy   85377        AMERICAN       LARGE   \n",
       "1              1.0     Alloy   61873        AMERICAN      MEDIUM   \n",
       "2              1.0     Alloy   69283        AMERICAN  MEDIUM SUV   \n",
       "3              1.0     Alloy   87889        AMERICAN      MEDIUM   \n",
       "4              NaN       NaN   73432     OTHER ASIAN     COMPACT   \n",
       "...            ...       ...     ...             ...         ...   \n",
       "48702          1.0     Alloy   88645        AMERICAN       LARGE   \n",
       "48703          2.0    Covers   81862  TOP LINE ASIAN     COMPACT   \n",
       "48704          2.0    Covers   82451     OTHER ASIAN      MEDIUM   \n",
       "48705          1.0     Alloy   75760     OTHER ASIAN      MEDIUM   \n",
       "48706          2.0    Covers   82174        AMERICAN  MEDIUM SUV   \n",
       "\n",
       "      TopThreeAmericanName  MMRAcquisitionAuctionAveragePrice  \\\n",
       "0                       GM                             5032.0   \n",
       "1                       GM                             4502.0   \n",
       "2                 CHRYSLER                            10244.0   \n",
       "3                       GM                             2558.0   \n",
       "4                    OTHER                             5013.0   \n",
       "...                    ...                                ...   \n",
       "48702                 FORD                             5358.0   \n",
       "48703                OTHER                             6849.0   \n",
       "48704                OTHER                             4662.0   \n",
       "48705                OTHER                             5953.0   \n",
       "48706                   GM                             3269.0   \n",
       "\n",
       "       MMRAcquisitionAuctionCleanPrice  MMRAcquisitionRetailAveragePrice  \\\n",
       "0                               6386.0                            5935.0   \n",
       "1                               5685.0                            5362.0   \n",
       "2                              13041.0                           11564.0   \n",
       "3                               3542.0                            3263.0   \n",
       "4                               6343.0                            5914.0   \n",
       "...                                ...                               ...   \n",
       "48702                           6836.0                            8987.0   \n",
       "48703                           7992.0                           10999.0   \n",
       "48704                           5655.0                            7972.0   \n",
       "48705                           8166.0                            9137.0   \n",
       "48706                           4435.0                            6893.0   \n",
       "\n",
       "       MMRAcquisitonRetailCleanPrice  MMRCurrentAuctionAveragePrice  \\\n",
       "0                             7397.0                         4905.0   \n",
       "1                             6640.0                         4645.0   \n",
       "2                            14584.0                        10883.0   \n",
       "3                             4325.0                         2928.0   \n",
       "4                             7350.0                         5013.0   \n",
       "...                              ...                            ...   \n",
       "48702                        10905.0                         5761.0   \n",
       "48703                        12021.0                         6856.0   \n",
       "48704                         9670.0                         4833.0   \n",
       "48705                        11949.0                         5092.0   \n",
       "48706                         8221.0                         4526.0   \n",
       "\n",
       "       MMRCurrentAuctionCleanPrice  MMRCurrentRetailAveragePrice  \\\n",
       "0                           6181.0                        8557.0   \n",
       "1                           5710.0                        7562.0   \n",
       "2                          12166.0                       15340.0   \n",
       "3                           3607.0                        5725.0   \n",
       "4                           6343.0                        5914.0   \n",
       "...                            ...                           ...   \n",
       "48702                       6965.0                        9764.0   \n",
       "48703                       8183.0                       10283.0   \n",
       "48704                       5856.0                        7871.0   \n",
       "48705                       6853.0                        8576.0   \n",
       "48706                       5761.0                        8266.0   \n",
       "\n",
       "       MMRCurrentRetailCleanPrice PRIMEUNIT AUCGUART  BYRNO  VNZIP1 VNST  \\\n",
       "0                          9752.0       NaN      NaN  18881   30212   GA   \n",
       "1                          9296.0       NaN      NaN  18111   30212   GA   \n",
       "2                         16512.0       NaN      NaN  18111   30212   GA   \n",
       "3                          6398.0       NaN      NaN  18881   30212   GA   \n",
       "4                          7350.0       NaN      NaN  18111   30212   GA   \n",
       "...                           ...       ...      ...    ...     ...  ...   \n",
       "48702                     11395.0       NaN      NaN  20928   33411   FL   \n",
       "48703                     11565.0       NaN      NaN  20928   33411   FL   \n",
       "48704                      9490.0        NO    GREEN  20928   33411   FL   \n",
       "48705                      9937.0        NO    GREEN  20928   33411   FL   \n",
       "48706                      9388.0        NO    GREEN  20928   33411   FL   \n",
       "\n",
       "       VehBCost  IsOnlineSale  WarrantyCost  \n",
       "0        6500.0             0          2152  \n",
       "1        6300.0             0          1118  \n",
       "2        9700.0             0          1215  \n",
       "3        4150.0             0          1933  \n",
       "4        4100.0             0           920  \n",
       "...         ...           ...           ...  \n",
       "48702    7955.0             0          1633  \n",
       "48703    7035.0             0           594  \n",
       "48704    6335.0             0           594  \n",
       "48705    8055.0             0          1038  \n",
       "48706    7755.0             0          5392  \n",
       "\n",
       "[48707 rows x 33 columns]"
      ]
     },
     "execution_count": 12,
     "metadata": {
      "tags": []
     },
     "output_type": "execute_result"
    }
   ],
   "source": [
    "test_df"
   ]
  },
  {
   "cell_type": "code",
   "execution_count": 13,
   "metadata": {
    "colab": {
     "base_uri": "https://localhost:8080/",
     "height": 419
    },
    "executionInfo": {
     "elapsed": 11,
     "status": "ok",
     "timestamp": 1627572390639,
     "user": {
      "displayName": "Matthew Oladiran",
      "photoUrl": "https://lh3.googleusercontent.com/a-/AOh14Gh8gzFroomEcpCvX9DbYCy3EqIAhBaajOv9aNCNbg=s64",
      "userId": "09145176024951036598"
     },
     "user_tz": -60
    },
    "id": "Dw9NPaoGbkpc",
    "outputId": "9ced3a94-f65f-4c3a-d24e-c5ad8dc77ae2"
   },
   "outputs": [
    {
     "data": {
      "text/html": [
       "<div>\n",
       "<style scoped>\n",
       "    .dataframe tbody tr th:only-of-type {\n",
       "        vertical-align: middle;\n",
       "    }\n",
       "\n",
       "    .dataframe tbody tr th {\n",
       "        vertical-align: top;\n",
       "    }\n",
       "\n",
       "    .dataframe thead th {\n",
       "        text-align: right;\n",
       "    }\n",
       "</style>\n",
       "<table border=\"1\" class=\"dataframe\">\n",
       "  <thead>\n",
       "    <tr style=\"text-align: right;\">\n",
       "      <th></th>\n",
       "      <th>RefId</th>\n",
       "      <th>IsBadBuy</th>\n",
       "    </tr>\n",
       "  </thead>\n",
       "  <tbody>\n",
       "    <tr>\n",
       "      <th>0</th>\n",
       "      <td>73015</td>\n",
       "      <td>0</td>\n",
       "    </tr>\n",
       "    <tr>\n",
       "      <th>1</th>\n",
       "      <td>73016</td>\n",
       "      <td>0</td>\n",
       "    </tr>\n",
       "    <tr>\n",
       "      <th>2</th>\n",
       "      <td>73017</td>\n",
       "      <td>0</td>\n",
       "    </tr>\n",
       "    <tr>\n",
       "      <th>3</th>\n",
       "      <td>73018</td>\n",
       "      <td>0</td>\n",
       "    </tr>\n",
       "    <tr>\n",
       "      <th>4</th>\n",
       "      <td>73019</td>\n",
       "      <td>0</td>\n",
       "    </tr>\n",
       "    <tr>\n",
       "      <th>...</th>\n",
       "      <td>...</td>\n",
       "      <td>...</td>\n",
       "    </tr>\n",
       "    <tr>\n",
       "      <th>48702</th>\n",
       "      <td>121742</td>\n",
       "      <td>0</td>\n",
       "    </tr>\n",
       "    <tr>\n",
       "      <th>48703</th>\n",
       "      <td>121743</td>\n",
       "      <td>0</td>\n",
       "    </tr>\n",
       "    <tr>\n",
       "      <th>48704</th>\n",
       "      <td>121744</td>\n",
       "      <td>0</td>\n",
       "    </tr>\n",
       "    <tr>\n",
       "      <th>48705</th>\n",
       "      <td>121745</td>\n",
       "      <td>0</td>\n",
       "    </tr>\n",
       "    <tr>\n",
       "      <th>48706</th>\n",
       "      <td>121746</td>\n",
       "      <td>0</td>\n",
       "    </tr>\n",
       "  </tbody>\n",
       "</table>\n",
       "<p>48707 rows × 2 columns</p>\n",
       "</div>"
      ],
      "text/plain": [
       "        RefId  IsBadBuy\n",
       "0       73015         0\n",
       "1       73016         0\n",
       "2       73017         0\n",
       "3       73018         0\n",
       "4       73019         0\n",
       "...       ...       ...\n",
       "48702  121742         0\n",
       "48703  121743         0\n",
       "48704  121744         0\n",
       "48705  121745         0\n",
       "48706  121746         0\n",
       "\n",
       "[48707 rows x 2 columns]"
      ]
     },
     "execution_count": 13,
     "metadata": {
      "tags": []
     },
     "output_type": "execute_result"
    }
   ],
   "source": [
    "entry_df"
   ]
  },
  {
   "cell_type": "code",
   "execution_count": 14,
   "metadata": {
    "colab": {
     "base_uri": "https://localhost:8080/"
    },
    "executionInfo": {
     "elapsed": 12,
     "status": "ok",
     "timestamp": 1627572390640,
     "user": {
      "displayName": "Matthew Oladiran",
      "photoUrl": "https://lh3.googleusercontent.com/a-/AOh14Gh8gzFroomEcpCvX9DbYCy3EqIAhBaajOv9aNCNbg=s64",
      "userId": "09145176024951036598"
     },
     "user_tz": -60
    },
    "id": "SW__kh0ubkpd",
    "outputId": "7ef8e1f0-2958-4a6a-efae-aaffe04ad523"
   },
   "outputs": [
    {
     "name": "stdout",
     "output_type": "stream",
     "text": [
      "<class 'pandas.core.frame.DataFrame'>\n",
      "RangeIndex: 72983 entries, 0 to 72982\n",
      "Data columns (total 34 columns):\n",
      " #   Column                             Non-Null Count  Dtype  \n",
      "---  ------                             --------------  -----  \n",
      " 0   RefId                              72983 non-null  int64  \n",
      " 1   IsBadBuy                           72983 non-null  int64  \n",
      " 2   PurchDate                          72983 non-null  object \n",
      " 3   Auction                            72983 non-null  object \n",
      " 4   VehYear                            72983 non-null  int64  \n",
      " 5   VehicleAge                         72983 non-null  int64  \n",
      " 6   Make                               72983 non-null  object \n",
      " 7   Model                              72983 non-null  object \n",
      " 8   Trim                               70623 non-null  object \n",
      " 9   SubModel                           72975 non-null  object \n",
      " 10  Color                              72975 non-null  object \n",
      " 11  Transmission                       72974 non-null  object \n",
      " 12  WheelTypeID                        69814 non-null  float64\n",
      " 13  WheelType                          69809 non-null  object \n",
      " 14  VehOdo                             72983 non-null  int64  \n",
      " 15  Nationality                        72978 non-null  object \n",
      " 16  Size                               72978 non-null  object \n",
      " 17  TopThreeAmericanName               72978 non-null  object \n",
      " 18  MMRAcquisitionAuctionAveragePrice  72965 non-null  float64\n",
      " 19  MMRAcquisitionAuctionCleanPrice    72965 non-null  float64\n",
      " 20  MMRAcquisitionRetailAveragePrice   72965 non-null  float64\n",
      " 21  MMRAcquisitonRetailCleanPrice      72965 non-null  float64\n",
      " 22  MMRCurrentAuctionAveragePrice      72668 non-null  float64\n",
      " 23  MMRCurrentAuctionCleanPrice        72668 non-null  float64\n",
      " 24  MMRCurrentRetailAveragePrice       72668 non-null  float64\n",
      " 25  MMRCurrentRetailCleanPrice         72668 non-null  float64\n",
      " 26  PRIMEUNIT                          3419 non-null   object \n",
      " 27  AUCGUART                           3419 non-null   object \n",
      " 28  BYRNO                              72983 non-null  int64  \n",
      " 29  VNZIP1                             72983 non-null  int64  \n",
      " 30  VNST                               72983 non-null  object \n",
      " 31  VehBCost                           72983 non-null  float64\n",
      " 32  IsOnlineSale                       72983 non-null  int64  \n",
      " 33  WarrantyCost                       72983 non-null  int64  \n",
      "dtypes: float64(10), int64(9), object(15)\n",
      "memory usage: 18.9+ MB\n"
     ]
    }
   ],
   "source": [
    "train_df.info()"
   ]
  },
  {
   "cell_type": "code",
   "execution_count": 15,
   "metadata": {
    "colab": {
     "base_uri": "https://localhost:8080/"
    },
    "executionInfo": {
     "elapsed": 10,
     "status": "ok",
     "timestamp": 1627572390640,
     "user": {
      "displayName": "Matthew Oladiran",
      "photoUrl": "https://lh3.googleusercontent.com/a-/AOh14Gh8gzFroomEcpCvX9DbYCy3EqIAhBaajOv9aNCNbg=s64",
      "userId": "09145176024951036598"
     },
     "user_tz": -60
    },
    "id": "YOIRd2etbkpd",
    "outputId": "e78c0e68-ab6e-4c5a-9995-bb7d460aeef9"
   },
   "outputs": [
    {
     "name": "stdout",
     "output_type": "stream",
     "text": [
      "<class 'pandas.core.frame.DataFrame'>\n",
      "RangeIndex: 48707 entries, 0 to 48706\n",
      "Data columns (total 33 columns):\n",
      " #   Column                             Non-Null Count  Dtype  \n",
      "---  ------                             --------------  -----  \n",
      " 0   RefId                              48707 non-null  int64  \n",
      " 1   PurchDate                          48707 non-null  object \n",
      " 2   Auction                            48707 non-null  object \n",
      " 3   VehYear                            48707 non-null  int64  \n",
      " 4   VehicleAge                         48707 non-null  int64  \n",
      " 5   Make                               48707 non-null  object \n",
      " 6   Model                              48707 non-null  object \n",
      " 7   Trim                               47157 non-null  object \n",
      " 8   SubModel                           48702 non-null  object \n",
      " 9   Color                              48703 non-null  object \n",
      " 10  Transmission                       48704 non-null  object \n",
      " 11  WheelTypeID                        46519 non-null  float64\n",
      " 12  WheelType                          46519 non-null  object \n",
      " 13  VehOdo                             48707 non-null  int64  \n",
      " 14  Nationality                        48700 non-null  object \n",
      " 15  Size                               48700 non-null  object \n",
      " 16  TopThreeAmericanName               48700 non-null  object \n",
      " 17  MMRAcquisitionAuctionAveragePrice  48697 non-null  float64\n",
      " 18  MMRAcquisitionAuctionCleanPrice    48697 non-null  float64\n",
      " 19  MMRAcquisitionRetailAveragePrice   48697 non-null  float64\n",
      " 20  MMRAcquisitonRetailCleanPrice      48697 non-null  float64\n",
      " 21  MMRCurrentAuctionAveragePrice      48564 non-null  float64\n",
      " 22  MMRCurrentAuctionCleanPrice        48564 non-null  float64\n",
      " 23  MMRCurrentRetailAveragePrice       48564 non-null  float64\n",
      " 24  MMRCurrentRetailCleanPrice         48564 non-null  float64\n",
      " 25  PRIMEUNIT                          2516 non-null   object \n",
      " 26  AUCGUART                           2516 non-null   object \n",
      " 27  BYRNO                              48707 non-null  int64  \n",
      " 28  VNZIP1                             48707 non-null  int64  \n",
      " 29  VNST                               48707 non-null  object \n",
      " 30  VehBCost                           48707 non-null  float64\n",
      " 31  IsOnlineSale                       48707 non-null  int64  \n",
      " 32  WarrantyCost                       48707 non-null  int64  \n",
      "dtypes: float64(10), int64(8), object(15)\n",
      "memory usage: 12.3+ MB\n"
     ]
    }
   ],
   "source": [
    "test_df.info()"
   ]
  },
  {
   "cell_type": "code",
   "execution_count": 16,
   "metadata": {
    "colab": {
     "base_uri": "https://localhost:8080/",
     "height": 317
    },
    "executionInfo": {
     "elapsed": 9,
     "status": "ok",
     "timestamp": 1627572390641,
     "user": {
      "displayName": "Matthew Oladiran",
      "photoUrl": "https://lh3.googleusercontent.com/a-/AOh14Gh8gzFroomEcpCvX9DbYCy3EqIAhBaajOv9aNCNbg=s64",
      "userId": "09145176024951036598"
     },
     "user_tz": -60
    },
    "id": "95_qyLmebkpe",
    "outputId": "2d131664-d1ee-4f56-deba-10f2bb0874fe"
   },
   "outputs": [
    {
     "data": {
      "text/html": [
       "<div>\n",
       "<style scoped>\n",
       "    .dataframe tbody tr th:only-of-type {\n",
       "        vertical-align: middle;\n",
       "    }\n",
       "\n",
       "    .dataframe tbody tr th {\n",
       "        vertical-align: top;\n",
       "    }\n",
       "\n",
       "    .dataframe thead th {\n",
       "        text-align: right;\n",
       "    }\n",
       "</style>\n",
       "<table border=\"1\" class=\"dataframe\">\n",
       "  <thead>\n",
       "    <tr style=\"text-align: right;\">\n",
       "      <th></th>\n",
       "      <th>RefId</th>\n",
       "      <th>IsBadBuy</th>\n",
       "      <th>VehYear</th>\n",
       "      <th>VehicleAge</th>\n",
       "      <th>WheelTypeID</th>\n",
       "      <th>VehOdo</th>\n",
       "      <th>MMRAcquisitionAuctionAveragePrice</th>\n",
       "      <th>MMRAcquisitionAuctionCleanPrice</th>\n",
       "      <th>MMRAcquisitionRetailAveragePrice</th>\n",
       "      <th>MMRAcquisitonRetailCleanPrice</th>\n",
       "      <th>MMRCurrentAuctionAveragePrice</th>\n",
       "      <th>MMRCurrentAuctionCleanPrice</th>\n",
       "      <th>MMRCurrentRetailAveragePrice</th>\n",
       "      <th>MMRCurrentRetailCleanPrice</th>\n",
       "      <th>BYRNO</th>\n",
       "      <th>VNZIP1</th>\n",
       "      <th>VehBCost</th>\n",
       "      <th>IsOnlineSale</th>\n",
       "      <th>WarrantyCost</th>\n",
       "    </tr>\n",
       "  </thead>\n",
       "  <tbody>\n",
       "    <tr>\n",
       "      <th>count</th>\n",
       "      <td>72983.000000</td>\n",
       "      <td>72983.000000</td>\n",
       "      <td>72983.000000</td>\n",
       "      <td>72983.000000</td>\n",
       "      <td>69814.000000</td>\n",
       "      <td>72983.000000</td>\n",
       "      <td>72965.000000</td>\n",
       "      <td>72965.000000</td>\n",
       "      <td>72965.000000</td>\n",
       "      <td>72965.000000</td>\n",
       "      <td>72668.000000</td>\n",
       "      <td>72668.000000</td>\n",
       "      <td>72668.000000</td>\n",
       "      <td>72668.000000</td>\n",
       "      <td>72983.000000</td>\n",
       "      <td>72983.000000</td>\n",
       "      <td>72983.000000</td>\n",
       "      <td>72983.000000</td>\n",
       "      <td>72983.000000</td>\n",
       "    </tr>\n",
       "    <tr>\n",
       "      <th>mean</th>\n",
       "      <td>36511.428497</td>\n",
       "      <td>0.122988</td>\n",
       "      <td>2005.343052</td>\n",
       "      <td>4.176644</td>\n",
       "      <td>1.494299</td>\n",
       "      <td>71499.995917</td>\n",
       "      <td>6128.909217</td>\n",
       "      <td>7373.636031</td>\n",
       "      <td>8497.034332</td>\n",
       "      <td>9850.928240</td>\n",
       "      <td>6132.081287</td>\n",
       "      <td>7390.681827</td>\n",
       "      <td>8775.723331</td>\n",
       "      <td>10145.385314</td>\n",
       "      <td>26345.842155</td>\n",
       "      <td>58043.059945</td>\n",
       "      <td>6730.934326</td>\n",
       "      <td>0.025280</td>\n",
       "      <td>1276.580985</td>\n",
       "    </tr>\n",
       "    <tr>\n",
       "      <th>std</th>\n",
       "      <td>21077.241302</td>\n",
       "      <td>0.328425</td>\n",
       "      <td>1.731252</td>\n",
       "      <td>1.712210</td>\n",
       "      <td>0.521290</td>\n",
       "      <td>14578.913128</td>\n",
       "      <td>2461.992768</td>\n",
       "      <td>2722.491986</td>\n",
       "      <td>3156.285284</td>\n",
       "      <td>3385.789541</td>\n",
       "      <td>2434.567723</td>\n",
       "      <td>2686.248852</td>\n",
       "      <td>3090.702941</td>\n",
       "      <td>3310.254351</td>\n",
       "      <td>25717.351219</td>\n",
       "      <td>26151.640415</td>\n",
       "      <td>1767.846435</td>\n",
       "      <td>0.156975</td>\n",
       "      <td>598.846788</td>\n",
       "    </tr>\n",
       "    <tr>\n",
       "      <th>min</th>\n",
       "      <td>1.000000</td>\n",
       "      <td>0.000000</td>\n",
       "      <td>2001.000000</td>\n",
       "      <td>0.000000</td>\n",
       "      <td>0.000000</td>\n",
       "      <td>4825.000000</td>\n",
       "      <td>0.000000</td>\n",
       "      <td>0.000000</td>\n",
       "      <td>0.000000</td>\n",
       "      <td>0.000000</td>\n",
       "      <td>0.000000</td>\n",
       "      <td>0.000000</td>\n",
       "      <td>0.000000</td>\n",
       "      <td>0.000000</td>\n",
       "      <td>835.000000</td>\n",
       "      <td>2764.000000</td>\n",
       "      <td>1.000000</td>\n",
       "      <td>0.000000</td>\n",
       "      <td>462.000000</td>\n",
       "    </tr>\n",
       "    <tr>\n",
       "      <th>25%</th>\n",
       "      <td>18257.500000</td>\n",
       "      <td>0.000000</td>\n",
       "      <td>2004.000000</td>\n",
       "      <td>3.000000</td>\n",
       "      <td>1.000000</td>\n",
       "      <td>61837.000000</td>\n",
       "      <td>4273.000000</td>\n",
       "      <td>5406.000000</td>\n",
       "      <td>6280.000000</td>\n",
       "      <td>7493.000000</td>\n",
       "      <td>4275.000000</td>\n",
       "      <td>5414.000000</td>\n",
       "      <td>6536.000000</td>\n",
       "      <td>7784.000000</td>\n",
       "      <td>17212.000000</td>\n",
       "      <td>32124.000000</td>\n",
       "      <td>5435.000000</td>\n",
       "      <td>0.000000</td>\n",
       "      <td>837.000000</td>\n",
       "    </tr>\n",
       "    <tr>\n",
       "      <th>50%</th>\n",
       "      <td>36514.000000</td>\n",
       "      <td>0.000000</td>\n",
       "      <td>2005.000000</td>\n",
       "      <td>4.000000</td>\n",
       "      <td>1.000000</td>\n",
       "      <td>73361.000000</td>\n",
       "      <td>6097.000000</td>\n",
       "      <td>7303.000000</td>\n",
       "      <td>8444.000000</td>\n",
       "      <td>9789.000000</td>\n",
       "      <td>6062.000000</td>\n",
       "      <td>7313.000000</td>\n",
       "      <td>8729.000000</td>\n",
       "      <td>10103.000000</td>\n",
       "      <td>19662.000000</td>\n",
       "      <td>73108.000000</td>\n",
       "      <td>6700.000000</td>\n",
       "      <td>0.000000</td>\n",
       "      <td>1155.000000</td>\n",
       "    </tr>\n",
       "    <tr>\n",
       "      <th>75%</th>\n",
       "      <td>54764.500000</td>\n",
       "      <td>0.000000</td>\n",
       "      <td>2007.000000</td>\n",
       "      <td>5.000000</td>\n",
       "      <td>2.000000</td>\n",
       "      <td>82436.000000</td>\n",
       "      <td>7765.000000</td>\n",
       "      <td>9021.000000</td>\n",
       "      <td>10651.000000</td>\n",
       "      <td>12088.000000</td>\n",
       "      <td>7736.000000</td>\n",
       "      <td>9013.000000</td>\n",
       "      <td>10911.000000</td>\n",
       "      <td>12309.000000</td>\n",
       "      <td>22808.000000</td>\n",
       "      <td>80022.000000</td>\n",
       "      <td>7900.000000</td>\n",
       "      <td>0.000000</td>\n",
       "      <td>1623.000000</td>\n",
       "    </tr>\n",
       "    <tr>\n",
       "      <th>max</th>\n",
       "      <td>73014.000000</td>\n",
       "      <td>1.000000</td>\n",
       "      <td>2010.000000</td>\n",
       "      <td>9.000000</td>\n",
       "      <td>3.000000</td>\n",
       "      <td>115717.000000</td>\n",
       "      <td>35722.000000</td>\n",
       "      <td>36859.000000</td>\n",
       "      <td>39080.000000</td>\n",
       "      <td>41482.000000</td>\n",
       "      <td>35722.000000</td>\n",
       "      <td>36859.000000</td>\n",
       "      <td>39080.000000</td>\n",
       "      <td>41062.000000</td>\n",
       "      <td>99761.000000</td>\n",
       "      <td>99224.000000</td>\n",
       "      <td>45469.000000</td>\n",
       "      <td>1.000000</td>\n",
       "      <td>7498.000000</td>\n",
       "    </tr>\n",
       "  </tbody>\n",
       "</table>\n",
       "</div>"
      ],
      "text/plain": [
       "              RefId      IsBadBuy       VehYear    VehicleAge   WheelTypeID  \\\n",
       "count  72983.000000  72983.000000  72983.000000  72983.000000  69814.000000   \n",
       "mean   36511.428497      0.122988   2005.343052      4.176644      1.494299   \n",
       "std    21077.241302      0.328425      1.731252      1.712210      0.521290   \n",
       "min        1.000000      0.000000   2001.000000      0.000000      0.000000   \n",
       "25%    18257.500000      0.000000   2004.000000      3.000000      1.000000   \n",
       "50%    36514.000000      0.000000   2005.000000      4.000000      1.000000   \n",
       "75%    54764.500000      0.000000   2007.000000      5.000000      2.000000   \n",
       "max    73014.000000      1.000000   2010.000000      9.000000      3.000000   \n",
       "\n",
       "              VehOdo  MMRAcquisitionAuctionAveragePrice  \\\n",
       "count   72983.000000                       72965.000000   \n",
       "mean    71499.995917                        6128.909217   \n",
       "std     14578.913128                        2461.992768   \n",
       "min      4825.000000                           0.000000   \n",
       "25%     61837.000000                        4273.000000   \n",
       "50%     73361.000000                        6097.000000   \n",
       "75%     82436.000000                        7765.000000   \n",
       "max    115717.000000                       35722.000000   \n",
       "\n",
       "       MMRAcquisitionAuctionCleanPrice  MMRAcquisitionRetailAveragePrice  \\\n",
       "count                     72965.000000                      72965.000000   \n",
       "mean                       7373.636031                       8497.034332   \n",
       "std                        2722.491986                       3156.285284   \n",
       "min                           0.000000                          0.000000   \n",
       "25%                        5406.000000                       6280.000000   \n",
       "50%                        7303.000000                       8444.000000   \n",
       "75%                        9021.000000                      10651.000000   \n",
       "max                       36859.000000                      39080.000000   \n",
       "\n",
       "       MMRAcquisitonRetailCleanPrice  MMRCurrentAuctionAveragePrice  \\\n",
       "count                   72965.000000                   72668.000000   \n",
       "mean                     9850.928240                    6132.081287   \n",
       "std                      3385.789541                    2434.567723   \n",
       "min                         0.000000                       0.000000   \n",
       "25%                      7493.000000                    4275.000000   \n",
       "50%                      9789.000000                    6062.000000   \n",
       "75%                     12088.000000                    7736.000000   \n",
       "max                     41482.000000                   35722.000000   \n",
       "\n",
       "       MMRCurrentAuctionCleanPrice  MMRCurrentRetailAveragePrice  \\\n",
       "count                 72668.000000                  72668.000000   \n",
       "mean                   7390.681827                   8775.723331   \n",
       "std                    2686.248852                   3090.702941   \n",
       "min                       0.000000                      0.000000   \n",
       "25%                    5414.000000                   6536.000000   \n",
       "50%                    7313.000000                   8729.000000   \n",
       "75%                    9013.000000                  10911.000000   \n",
       "max                   36859.000000                  39080.000000   \n",
       "\n",
       "       MMRCurrentRetailCleanPrice         BYRNO        VNZIP1      VehBCost  \\\n",
       "count                72668.000000  72983.000000  72983.000000  72983.000000   \n",
       "mean                 10145.385314  26345.842155  58043.059945   6730.934326   \n",
       "std                   3310.254351  25717.351219  26151.640415   1767.846435   \n",
       "min                      0.000000    835.000000   2764.000000      1.000000   \n",
       "25%                   7784.000000  17212.000000  32124.000000   5435.000000   \n",
       "50%                  10103.000000  19662.000000  73108.000000   6700.000000   \n",
       "75%                  12309.000000  22808.000000  80022.000000   7900.000000   \n",
       "max                  41062.000000  99761.000000  99224.000000  45469.000000   \n",
       "\n",
       "       IsOnlineSale  WarrantyCost  \n",
       "count  72983.000000  72983.000000  \n",
       "mean       0.025280   1276.580985  \n",
       "std        0.156975    598.846788  \n",
       "min        0.000000    462.000000  \n",
       "25%        0.000000    837.000000  \n",
       "50%        0.000000   1155.000000  \n",
       "75%        0.000000   1623.000000  \n",
       "max        1.000000   7498.000000  "
      ]
     },
     "execution_count": 16,
     "metadata": {
      "tags": []
     },
     "output_type": "execute_result"
    }
   ],
   "source": [
    "train_df.describe()"
   ]
  },
  {
   "cell_type": "code",
   "execution_count": 17,
   "metadata": {
    "colab": {
     "base_uri": "https://localhost:8080/",
     "height": 476
    },
    "executionInfo": {
     "elapsed": 597,
     "status": "ok",
     "timestamp": 1627572391230,
     "user": {
      "displayName": "Matthew Oladiran",
      "photoUrl": "https://lh3.googleusercontent.com/a-/AOh14Gh8gzFroomEcpCvX9DbYCy3EqIAhBaajOv9aNCNbg=s64",
      "userId": "09145176024951036598"
     },
     "user_tz": -60
    },
    "id": "vWqX_16Obkpe",
    "outputId": "2ad9fdf3-2bd8-4a1f-fb3e-21748e6676ee"
   },
   "outputs": [
    {
     "data": {
      "image/png": "[encoded data removed]",
      "text/plain": [
       "<Figure size 720x432 with 1 Axes>"
      ]
     },
     "metadata": {
      "needs_background": "light",
      "tags": []
     },
     "output_type": "display_data"
    }
   ],
   "source": [
    "train_df.groupby(\"Color\").mean()[\"IsBadBuy\"].plot.bar(title = \"Color Vs IsBadBuy\")\n",
    "plt.show()"
   ]
  },
  {
   "cell_type": "code",
   "execution_count": 18,
   "metadata": {
    "colab": {
     "base_uri": "https://localhost:8080/"
    },
    "executionInfo": {
     "elapsed": 7,
     "status": "ok",
     "timestamp": 1627572391231,
     "user": {
      "displayName": "Matthew Oladiran",
      "photoUrl": "https://lh3.googleusercontent.com/a-/AOh14Gh8gzFroomEcpCvX9DbYCy3EqIAhBaajOv9aNCNbg=s64",
      "userId": "09145176024951036598"
     },
     "user_tz": -60
    },
    "id": "Kln908jnbkpe",
    "outputId": "cafaabe5-8d3c-414f-af03-d735ee53f387"
   },
   "outputs": [
    {
     "name": "stdout",
     "output_type": "stream",
     "text": [
      "IsBadBuy\n",
      "0    64007\n",
      "1     8976\n",
      "dtype: int64\n"
     ]
    }
   ],
   "source": [
    "print(train_df.groupby(\"IsBadBuy\").size())"
   ]
  },
  {
   "cell_type": "code",
   "execution_count": 19,
   "metadata": {
    "colab": {
     "base_uri": "https://localhost:8080/",
     "height": 437
    },
    "executionInfo": {
     "elapsed": 827,
     "status": "ok",
     "timestamp": 1627572392053,
     "user": {
      "displayName": "Matthew Oladiran",
      "photoUrl": "https://lh3.googleusercontent.com/a-/AOh14Gh8gzFroomEcpCvX9DbYCy3EqIAhBaajOv9aNCNbg=s64",
      "userId": "09145176024951036598"
     },
     "user_tz": -60
    },
    "id": "UVbgSOuHbkpf",
    "outputId": "97973d6c-a6d6-4867-f4c0-9d4fa3a85903"
   },
   "outputs": [
    {
     "data": {
      "image/png": "[encoded data removed]",
      "text/plain": [
       "<Figure size 720x432 with 1 Axes>"
      ]
     },
     "metadata": {
      "needs_background": "light",
      "tags": []
     },
     "output_type": "display_data"
    }
   ],
   "source": [
    "train_df.groupby(\"VehYear\").mean()[\"IsBadBuy\"].plot.bar(title = \"VehYear Vs IsBadBuy\")\n",
    "plt.show()"
   ]
  },
  {
   "cell_type": "code",
   "execution_count": 20,
   "metadata": {
    "colab": {
     "base_uri": "https://localhost:8080/",
     "height": 446
    },
    "executionInfo": {
     "elapsed": 10,
     "status": "ok",
     "timestamp": 1627572392054,
     "user": {
      "displayName": "Matthew Oladiran",
      "photoUrl": "https://lh3.googleusercontent.com/a-/AOh14Gh8gzFroomEcpCvX9DbYCy3EqIAhBaajOv9aNCNbg=s64",
      "userId": "09145176024951036598"
     },
     "user_tz": -60
    },
    "id": "QpJ6A0vzbkpf",
    "outputId": "6d5d9609-0b8f-4def-dcd2-2f4ea648b387"
   },
   "outputs": [
    {
     "data": {
      "image/png": "[encoded data removed]",
      "text/plain": [
       "<Figure size 1008x360 with 1 Axes>"
      ]
     },
     "metadata": {
      "needs_background": "light",
      "tags": []
     },
     "output_type": "display_data"
    }
   ],
   "source": [
    "train_df.groupby('Make').agg([np.mean,np.size])['IsBadBuy'].query('size > 100')['mean'].plot.bar(figsize=(14,5), title = \"Make Vs IsBadBuy\")\n",
    "plt.show()"
   ]
  },
  {
   "cell_type": "code",
   "execution_count": 21,
   "metadata": {
    "colab": {
     "base_uri": "https://localhost:8080/"
    },
    "executionInfo": {
     "elapsed": 9,
     "status": "ok",
     "timestamp": 1627572392055,
     "user": {
      "displayName": "Matthew Oladiran",
      "photoUrl": "https://lh3.googleusercontent.com/a-/AOh14Gh8gzFroomEcpCvX9DbYCy3EqIAhBaajOv9aNCNbg=s64",
      "userId": "09145176024951036598"
     },
     "user_tz": -60
    },
    "id": "FnbnUL-Nbkpf",
    "outputId": "3d087138-3e47-4802-b579-ef5b1b26c802"
   },
   "outputs": [
    {
     "data": {
      "text/plain": [
       "Index(['RefId', 'IsBadBuy', 'PurchDate', 'Auction', 'VehYear', 'VehicleAge',\n",
       "       'Make', 'Model', 'Trim', 'SubModel', 'Color', 'Transmission',\n",
       "       'WheelTypeID', 'WheelType', 'VehOdo', 'Nationality', 'Size',\n",
       "       'TopThreeAmericanName', 'MMRAcquisitionAuctionAveragePrice',\n",
       "       'MMRAcquisitionAuctionCleanPrice', 'MMRAcquisitionRetailAveragePrice',\n",
       "       'MMRAcquisitonRetailCleanPrice', 'MMRCurrentAuctionAveragePrice',\n",
       "       'MMRCurrentAuctionCleanPrice', 'MMRCurrentRetailAveragePrice',\n",
       "       'MMRCurrentRetailCleanPrice', 'PRIMEUNIT', 'AUCGUART', 'BYRNO',\n",
       "       'VNZIP1', 'VNST', 'VehBCost', 'IsOnlineSale', 'WarrantyCost'],\n",
       "      dtype='object')"
      ]
     },
     "execution_count": 21,
     "metadata": {
      "tags": []
     },
     "output_type": "execute_result"
    }
   ],
   "source": [
    "train_df.columns"
   ]
  },
  {
   "cell_type": "code",
   "execution_count": 22,
   "metadata": {
    "colab": {
     "base_uri": "https://localhost:8080/",
     "height": 658
    },
    "executionInfo": {
     "elapsed": 625,
     "status": "ok",
     "timestamp": 1627572392673,
     "user": {
      "displayName": "Matthew Oladiran",
      "photoUrl": "https://lh3.googleusercontent.com/a-/AOh14Gh8gzFroomEcpCvX9DbYCy3EqIAhBaajOv9aNCNbg=s64",
      "userId": "09145176024951036598"
     },
     "user_tz": -60
    },
    "id": "U5hk4AM5bkpg",
    "outputId": "a1c46fd3-beb7-4f68-ba0e-a303c013804b"
   },
   "outputs": [
    {
     "data": {
      "text/html": [
       "<div>\n",
       "<style scoped>\n",
       "    .dataframe tbody tr th:only-of-type {\n",
       "        vertical-align: middle;\n",
       "    }\n",
       "\n",
       "    .dataframe tbody tr th {\n",
       "        vertical-align: top;\n",
       "    }\n",
       "\n",
       "    .dataframe thead th {\n",
       "        text-align: right;\n",
       "    }\n",
       "</style>\n",
       "<table border=\"1\" class=\"dataframe\">\n",
       "  <thead>\n",
       "    <tr style=\"text-align: right;\">\n",
       "      <th></th>\n",
       "      <th>RefId</th>\n",
       "      <th>IsBadBuy</th>\n",
       "      <th>VehYear</th>\n",
       "      <th>VehicleAge</th>\n",
       "      <th>WheelTypeID</th>\n",
       "      <th>VehOdo</th>\n",
       "      <th>MMRAcquisitionAuctionAveragePrice</th>\n",
       "      <th>MMRAcquisitionAuctionCleanPrice</th>\n",
       "      <th>MMRAcquisitionRetailAveragePrice</th>\n",
       "      <th>MMRAcquisitonRetailCleanPrice</th>\n",
       "      <th>MMRCurrentAuctionAveragePrice</th>\n",
       "      <th>MMRCurrentAuctionCleanPrice</th>\n",
       "      <th>MMRCurrentRetailAveragePrice</th>\n",
       "      <th>MMRCurrentRetailCleanPrice</th>\n",
       "      <th>BYRNO</th>\n",
       "      <th>VNZIP1</th>\n",
       "      <th>VehBCost</th>\n",
       "      <th>IsOnlineSale</th>\n",
       "      <th>WarrantyCost</th>\n",
       "    </tr>\n",
       "  </thead>\n",
       "  <tbody>\n",
       "    <tr>\n",
       "      <th>RefId</th>\n",
       "      <td>1.000000</td>\n",
       "      <td>0.023973</td>\n",
       "      <td>0.010580</td>\n",
       "      <td>-0.025404</td>\n",
       "      <td>0.013110</td>\n",
       "      <td>-0.026553</td>\n",
       "      <td>-0.011568</td>\n",
       "      <td>-0.015704</td>\n",
       "      <td>-0.032208</td>\n",
       "      <td>-0.034324</td>\n",
       "      <td>-0.008742</td>\n",
       "      <td>-0.013015</td>\n",
       "      <td>-0.021616</td>\n",
       "      <td>-0.024369</td>\n",
       "      <td>0.032896</td>\n",
       "      <td>0.131898</td>\n",
       "      <td>-0.011873</td>\n",
       "      <td>-0.048851</td>\n",
       "      <td>-0.023478</td>\n",
       "    </tr>\n",
       "    <tr>\n",
       "      <th>IsBadBuy</th>\n",
       "      <td>0.023973</td>\n",
       "      <td>1.000000</td>\n",
       "      <td>-0.158886</td>\n",
       "      <td>0.167164</td>\n",
       "      <td>-0.044620</td>\n",
       "      <td>0.082560</td>\n",
       "      <td>-0.109252</td>\n",
       "      <td>-0.102954</td>\n",
       "      <td>-0.087418</td>\n",
       "      <td>-0.083665</td>\n",
       "      <td>-0.109112</td>\n",
       "      <td>-0.104020</td>\n",
       "      <td>-0.103914</td>\n",
       "      <td>-0.100245</td>\n",
       "      <td>-0.061488</td>\n",
       "      <td>0.005796</td>\n",
       "      <td>-0.099911</td>\n",
       "      <td>-0.003697</td>\n",
       "      <td>0.052319</td>\n",
       "    </tr>\n",
       "    <tr>\n",
       "      <th>VehYear</th>\n",
       "      <td>0.010580</td>\n",
       "      <td>-0.158886</td>\n",
       "      <td>1.000000</td>\n",
       "      <td>-0.957957</td>\n",
       "      <td>0.259660</td>\n",
       "      <td>-0.283719</td>\n",
       "      <td>0.581146</td>\n",
       "      <td>0.532927</td>\n",
       "      <td>0.581191</td>\n",
       "      <td>0.539230</td>\n",
       "      <td>0.590820</td>\n",
       "      <td>0.548426</td>\n",
       "      <td>0.598490</td>\n",
       "      <td>0.558669</td>\n",
       "      <td>0.280791</td>\n",
       "      <td>0.068276</td>\n",
       "      <td>0.349965</td>\n",
       "      <td>0.057380</td>\n",
       "      <td>-0.268696</td>\n",
       "    </tr>\n",
       "    <tr>\n",
       "      <th>VehicleAge</th>\n",
       "      <td>-0.025404</td>\n",
       "      <td>0.167164</td>\n",
       "      <td>-0.957957</td>\n",
       "      <td>1.000000</td>\n",
       "      <td>-0.250801</td>\n",
       "      <td>0.319794</td>\n",
       "      <td>-0.565690</td>\n",
       "      <td>-0.518810</td>\n",
       "      <td>-0.460854</td>\n",
       "      <td>-0.426382</td>\n",
       "      <td>-0.575607</td>\n",
       "      <td>-0.532505</td>\n",
       "      <td>-0.504062</td>\n",
       "      <td>-0.469359</td>\n",
       "      <td>-0.268269</td>\n",
       "      <td>-0.074857</td>\n",
       "      <td>-0.312329</td>\n",
       "      <td>-0.024771</td>\n",
       "      <td>0.259310</td>\n",
       "    </tr>\n",
       "    <tr>\n",
       "      <th>WheelTypeID</th>\n",
       "      <td>0.013110</td>\n",
       "      <td>-0.044620</td>\n",
       "      <td>0.259660</td>\n",
       "      <td>-0.250801</td>\n",
       "      <td>1.000000</td>\n",
       "      <td>-0.213558</td>\n",
       "      <td>-0.095471</td>\n",
       "      <td>-0.129597</td>\n",
       "      <td>-0.072700</td>\n",
       "      <td>-0.102019</td>\n",
       "      <td>-0.088597</td>\n",
       "      <td>-0.121211</td>\n",
       "      <td>-0.074420</td>\n",
       "      <td>-0.102488</td>\n",
       "      <td>0.187199</td>\n",
       "      <td>0.007901</td>\n",
       "      <td>-0.162826</td>\n",
       "      <td>-0.006747</td>\n",
       "      <td>-0.132798</td>\n",
       "    </tr>\n",
       "    <tr>\n",
       "      <th>VehOdo</th>\n",
       "      <td>-0.026553</td>\n",
       "      <td>0.082560</td>\n",
       "      <td>-0.283719</td>\n",
       "      <td>0.319794</td>\n",
       "      <td>-0.213558</td>\n",
       "      <td>1.000000</td>\n",
       "      <td>-0.017022</td>\n",
       "      <td>0.024617</td>\n",
       "      <td>0.031306</td>\n",
       "      <td>0.063165</td>\n",
       "      <td>-0.028568</td>\n",
       "      <td>0.012107</td>\n",
       "      <td>0.015811</td>\n",
       "      <td>0.048005</td>\n",
       "      <td>-0.288456</td>\n",
       "      <td>-0.053041</td>\n",
       "      <td>-0.062008</td>\n",
       "      <td>0.029556</td>\n",
       "      <td>0.411718</td>\n",
       "    </tr>\n",
       "    <tr>\n",
       "      <th>MMRAcquisitionAuctionAveragePrice</th>\n",
       "      <td>-0.011568</td>\n",
       "      <td>-0.109252</td>\n",
       "      <td>0.581146</td>\n",
       "      <td>-0.565690</td>\n",
       "      <td>-0.095471</td>\n",
       "      <td>-0.017022</td>\n",
       "      <td>1.000000</td>\n",
       "      <td>0.990347</td>\n",
       "      <td>0.910391</td>\n",
       "      <td>0.910187</td>\n",
       "      <td>0.937817</td>\n",
       "      <td>0.932492</td>\n",
       "      <td>0.871755</td>\n",
       "      <td>0.871042</td>\n",
       "      <td>0.107734</td>\n",
       "      <td>0.045694</td>\n",
       "      <td>0.789840</td>\n",
       "      <td>0.038818</td>\n",
       "      <td>-0.050417</td>\n",
       "    </tr>\n",
       "    <tr>\n",
       "      <th>MMRAcquisitionAuctionCleanPrice</th>\n",
       "      <td>-0.015704</td>\n",
       "      <td>-0.102954</td>\n",
       "      <td>0.532927</td>\n",
       "      <td>-0.518810</td>\n",
       "      <td>-0.129597</td>\n",
       "      <td>0.024617</td>\n",
       "      <td>0.990347</td>\n",
       "      <td>1.000000</td>\n",
       "      <td>0.902718</td>\n",
       "      <td>0.918242</td>\n",
       "      <td>0.923610</td>\n",
       "      <td>0.932114</td>\n",
       "      <td>0.860716</td>\n",
       "      <td>0.871203</td>\n",
       "      <td>0.062502</td>\n",
       "      <td>0.040675</td>\n",
       "      <td>0.781516</td>\n",
       "      <td>0.038667</td>\n",
       "      <td>-0.020644</td>\n",
       "    </tr>\n",
       "    <tr>\n",
       "      <th>MMRAcquisitionRetailAveragePrice</th>\n",
       "      <td>-0.032208</td>\n",
       "      <td>-0.087418</td>\n",
       "      <td>0.581191</td>\n",
       "      <td>-0.460854</td>\n",
       "      <td>-0.072700</td>\n",
       "      <td>0.031306</td>\n",
       "      <td>0.910391</td>\n",
       "      <td>0.902718</td>\n",
       "      <td>1.000000</td>\n",
       "      <td>0.990201</td>\n",
       "      <td>0.851647</td>\n",
       "      <td>0.849407</td>\n",
       "      <td>0.913108</td>\n",
       "      <td>0.906054</td>\n",
       "      <td>0.107516</td>\n",
       "      <td>0.035489</td>\n",
       "      <td>0.746126</td>\n",
       "      <td>0.080627</td>\n",
       "      <td>-0.053444</td>\n",
       "    </tr>\n",
       "    <tr>\n",
       "      <th>MMRAcquisitonRetailCleanPrice</th>\n",
       "      <td>-0.034324</td>\n",
       "      <td>-0.083665</td>\n",
       "      <td>0.539230</td>\n",
       "      <td>-0.426382</td>\n",
       "      <td>-0.102019</td>\n",
       "      <td>0.063165</td>\n",
       "      <td>0.910187</td>\n",
       "      <td>0.918242</td>\n",
       "      <td>0.990201</td>\n",
       "      <td>1.000000</td>\n",
       "      <td>0.846914</td>\n",
       "      <td>0.855689</td>\n",
       "      <td>0.903188</td>\n",
       "      <td>0.906810</td>\n",
       "      <td>0.069676</td>\n",
       "      <td>0.031284</td>\n",
       "      <td>0.744966</td>\n",
       "      <td>0.077670</td>\n",
       "      <td>-0.026933</td>\n",
       "    </tr>\n",
       "    <tr>\n",
       "      <th>MMRCurrentAuctionAveragePrice</th>\n",
       "      <td>-0.008742</td>\n",
       "      <td>-0.109112</td>\n",
       "      <td>0.590820</td>\n",
       "      <td>-0.575607</td>\n",
       "      <td>-0.088597</td>\n",
       "      <td>-0.028568</td>\n",
       "      <td>0.937817</td>\n",
       "      <td>0.923610</td>\n",
       "      <td>0.851647</td>\n",
       "      <td>0.846914</td>\n",
       "      <td>1.000000</td>\n",
       "      <td>0.990329</td>\n",
       "      <td>0.915073</td>\n",
       "      <td>0.912231</td>\n",
       "      <td>0.111363</td>\n",
       "      <td>0.048965</td>\n",
       "      <td>0.778738</td>\n",
       "      <td>0.039876</td>\n",
       "      <td>-0.056798</td>\n",
       "    </tr>\n",
       "    <tr>\n",
       "      <th>MMRCurrentAuctionCleanPrice</th>\n",
       "      <td>-0.013015</td>\n",
       "      <td>-0.104020</td>\n",
       "      <td>0.548426</td>\n",
       "      <td>-0.532505</td>\n",
       "      <td>-0.121211</td>\n",
       "      <td>0.012107</td>\n",
       "      <td>0.932492</td>\n",
       "      <td>0.932114</td>\n",
       "      <td>0.849407</td>\n",
       "      <td>0.855689</td>\n",
       "      <td>0.990329</td>\n",
       "      <td>1.000000</td>\n",
       "      <td>0.908669</td>\n",
       "      <td>0.921536</td>\n",
       "      <td>0.068801</td>\n",
       "      <td>0.043684</td>\n",
       "      <td>0.775100</td>\n",
       "      <td>0.040240</td>\n",
       "      <td>-0.028131</td>\n",
       "    </tr>\n",
       "    <tr>\n",
       "      <th>MMRCurrentRetailAveragePrice</th>\n",
       "      <td>-0.021616</td>\n",
       "      <td>-0.103914</td>\n",
       "      <td>0.598490</td>\n",
       "      <td>-0.504062</td>\n",
       "      <td>-0.074420</td>\n",
       "      <td>0.015811</td>\n",
       "      <td>0.871755</td>\n",
       "      <td>0.860716</td>\n",
       "      <td>0.913108</td>\n",
       "      <td>0.903188</td>\n",
       "      <td>0.915073</td>\n",
       "      <td>0.908669</td>\n",
       "      <td>1.000000</td>\n",
       "      <td>0.989760</td>\n",
       "      <td>0.111190</td>\n",
       "      <td>0.039190</td>\n",
       "      <td>0.756816</td>\n",
       "      <td>0.079535</td>\n",
       "      <td>-0.058025</td>\n",
       "    </tr>\n",
       "    <tr>\n",
       "      <th>MMRCurrentRetailCleanPrice</th>\n",
       "      <td>-0.024369</td>\n",
       "      <td>-0.100245</td>\n",
       "      <td>0.558669</td>\n",
       "      <td>-0.469359</td>\n",
       "      <td>-0.102488</td>\n",
       "      <td>0.048005</td>\n",
       "      <td>0.871042</td>\n",
       "      <td>0.871203</td>\n",
       "      <td>0.906054</td>\n",
       "      <td>0.906810</td>\n",
       "      <td>0.912231</td>\n",
       "      <td>0.921536</td>\n",
       "      <td>0.989760</td>\n",
       "      <td>1.000000</td>\n",
       "      <td>0.074903</td>\n",
       "      <td>0.034688</td>\n",
       "      <td>0.756662</td>\n",
       "      <td>0.076587</td>\n",
       "      <td>-0.031683</td>\n",
       "    </tr>\n",
       "    <tr>\n",
       "      <th>BYRNO</th>\n",
       "      <td>0.032896</td>\n",
       "      <td>-0.061488</td>\n",
       "      <td>0.280791</td>\n",
       "      <td>-0.268269</td>\n",
       "      <td>0.187199</td>\n",
       "      <td>-0.288456</td>\n",
       "      <td>0.107734</td>\n",
       "      <td>0.062502</td>\n",
       "      <td>0.107516</td>\n",
       "      <td>0.069676</td>\n",
       "      <td>0.111363</td>\n",
       "      <td>0.068801</td>\n",
       "      <td>0.111190</td>\n",
       "      <td>0.074903</td>\n",
       "      <td>1.000000</td>\n",
       "      <td>0.040260</td>\n",
       "      <td>0.046215</td>\n",
       "      <td>-0.142444</td>\n",
       "      <td>-0.086201</td>\n",
       "    </tr>\n",
       "    <tr>\n",
       "      <th>VNZIP1</th>\n",
       "      <td>0.131898</td>\n",
       "      <td>0.005796</td>\n",
       "      <td>0.068276</td>\n",
       "      <td>-0.074857</td>\n",
       "      <td>0.007901</td>\n",
       "      <td>-0.053041</td>\n",
       "      <td>0.045694</td>\n",
       "      <td>0.040675</td>\n",
       "      <td>0.035489</td>\n",
       "      <td>0.031284</td>\n",
       "      <td>0.048965</td>\n",
       "      <td>0.043684</td>\n",
       "      <td>0.039190</td>\n",
       "      <td>0.034688</td>\n",
       "      <td>0.040260</td>\n",
       "      <td>1.000000</td>\n",
       "      <td>0.017065</td>\n",
       "      <td>0.024889</td>\n",
       "      <td>-0.036173</td>\n",
       "    </tr>\n",
       "    <tr>\n",
       "      <th>VehBCost</th>\n",
       "      <td>-0.011873</td>\n",
       "      <td>-0.099911</td>\n",
       "      <td>0.349965</td>\n",
       "      <td>-0.312329</td>\n",
       "      <td>-0.162826</td>\n",
       "      <td>-0.062008</td>\n",
       "      <td>0.789840</td>\n",
       "      <td>0.781516</td>\n",
       "      <td>0.746126</td>\n",
       "      <td>0.744966</td>\n",
       "      <td>0.778738</td>\n",
       "      <td>0.775100</td>\n",
       "      <td>0.756816</td>\n",
       "      <td>0.756662</td>\n",
       "      <td>0.046215</td>\n",
       "      <td>0.017065</td>\n",
       "      <td>1.000000</td>\n",
       "      <td>0.034120</td>\n",
       "      <td>-0.033210</td>\n",
       "    </tr>\n",
       "    <tr>\n",
       "      <th>IsOnlineSale</th>\n",
       "      <td>-0.048851</td>\n",
       "      <td>-0.003697</td>\n",
       "      <td>0.057380</td>\n",
       "      <td>-0.024771</td>\n",
       "      <td>-0.006747</td>\n",
       "      <td>0.029556</td>\n",
       "      <td>0.038818</td>\n",
       "      <td>0.038667</td>\n",
       "      <td>0.080627</td>\n",
       "      <td>0.077670</td>\n",
       "      <td>0.039876</td>\n",
       "      <td>0.040240</td>\n",
       "      <td>0.079535</td>\n",
       "      <td>0.076587</td>\n",
       "      <td>-0.142444</td>\n",
       "      <td>0.024889</td>\n",
       "      <td>0.034120</td>\n",
       "      <td>1.000000</td>\n",
       "      <td>0.003837</td>\n",
       "    </tr>\n",
       "    <tr>\n",
       "      <th>WarrantyCost</th>\n",
       "      <td>-0.023478</td>\n",
       "      <td>0.052319</td>\n",
       "      <td>-0.268696</td>\n",
       "      <td>0.259310</td>\n",
       "      <td>-0.132798</td>\n",
       "      <td>0.411718</td>\n",
       "      <td>-0.050417</td>\n",
       "      <td>-0.020644</td>\n",
       "      <td>-0.053444</td>\n",
       "      <td>-0.026933</td>\n",
       "      <td>-0.056798</td>\n",
       "      <td>-0.028131</td>\n",
       "      <td>-0.058025</td>\n",
       "      <td>-0.031683</td>\n",
       "      <td>-0.086201</td>\n",
       "      <td>-0.036173</td>\n",
       "      <td>-0.033210</td>\n",
       "      <td>0.003837</td>\n",
       "      <td>1.000000</td>\n",
       "    </tr>\n",
       "  </tbody>\n",
       "</table>\n",
       "</div>"
      ],
      "text/plain": [
       "                                      RefId  IsBadBuy   VehYear  VehicleAge  \\\n",
       "RefId                              1.000000  0.023973  0.010580   -0.025404   \n",
       "IsBadBuy                           0.023973  1.000000 -0.158886    0.167164   \n",
       "VehYear                            0.010580 -0.158886  1.000000   -0.957957   \n",
       "VehicleAge                        -0.025404  0.167164 -0.957957    1.000000   \n",
       "WheelTypeID                        0.013110 -0.044620  0.259660   -0.250801   \n",
       "VehOdo                            -0.026553  0.082560 -0.283719    0.319794   \n",
       "MMRAcquisitionAuctionAveragePrice -0.011568 -0.109252  0.581146   -0.565690   \n",
       "MMRAcquisitionAuctionCleanPrice   -0.015704 -0.102954  0.532927   -0.518810   \n",
       "MMRAcquisitionRetailAveragePrice  -0.032208 -0.087418  0.581191   -0.460854   \n",
       "MMRAcquisitonRetailCleanPrice     -0.034324 -0.083665  0.539230   -0.426382   \n",
       "MMRCurrentAuctionAveragePrice     -0.008742 -0.109112  0.590820   -0.575607   \n",
       "MMRCurrentAuctionCleanPrice       -0.013015 -0.104020  0.548426   -0.532505   \n",
       "MMRCurrentRetailAveragePrice      -0.021616 -0.103914  0.598490   -0.504062   \n",
       "MMRCurrentRetailCleanPrice        -0.024369 -0.100245  0.558669   -0.469359   \n",
       "BYRNO                              0.032896 -0.061488  0.280791   -0.268269   \n",
       "VNZIP1                             0.131898  0.005796  0.068276   -0.074857   \n",
       "VehBCost                          -0.011873 -0.099911  0.349965   -0.312329   \n",
       "IsOnlineSale                      -0.048851 -0.003697  0.057380   -0.024771   \n",
       "WarrantyCost                      -0.023478  0.052319 -0.268696    0.259310   \n",
       "\n",
       "                                   WheelTypeID    VehOdo  \\\n",
       "RefId                                 0.013110 -0.026553   \n",
       "IsBadBuy                             -0.044620  0.082560   \n",
       "VehYear                               0.259660 -0.283719   \n",
       "VehicleAge                           -0.250801  0.319794   \n",
       "WheelTypeID                           1.000000 -0.213558   \n",
       "VehOdo                               -0.213558  1.000000   \n",
       "MMRAcquisitionAuctionAveragePrice    -0.095471 -0.017022   \n",
       "MMRAcquisitionAuctionCleanPrice      -0.129597  0.024617   \n",
       "MMRAcquisitionRetailAveragePrice     -0.072700  0.031306   \n",
       "MMRAcquisitonRetailCleanPrice        -0.102019  0.063165   \n",
       "MMRCurrentAuctionAveragePrice        -0.088597 -0.028568   \n",
       "MMRCurrentAuctionCleanPrice          -0.121211  0.012107   \n",
       "MMRCurrentRetailAveragePrice         -0.074420  0.015811   \n",
       "MMRCurrentRetailCleanPrice           -0.102488  0.048005   \n",
       "BYRNO                                 0.187199 -0.288456   \n",
       "VNZIP1                                0.007901 -0.053041   \n",
       "VehBCost                             -0.162826 -0.062008   \n",
       "IsOnlineSale                         -0.006747  0.029556   \n",
       "WarrantyCost                         -0.132798  0.411718   \n",
       "\n",
       "                                   MMRAcquisitionAuctionAveragePrice  \\\n",
       "RefId                                                      -0.011568   \n",
       "IsBadBuy                                                   -0.109252   \n",
       "VehYear                                                     0.581146   \n",
       "VehicleAge                                                 -0.565690   \n",
       "WheelTypeID                                                -0.095471   \n",
       "VehOdo                                                     -0.017022   \n",
       "MMRAcquisitionAuctionAveragePrice                           1.000000   \n",
       "MMRAcquisitionAuctionCleanPrice                             0.990347   \n",
       "MMRAcquisitionRetailAveragePrice                            0.910391   \n",
       "MMRAcquisitonRetailCleanPrice                               0.910187   \n",
       "MMRCurrentAuctionAveragePrice                               0.937817   \n",
       "MMRCurrentAuctionCleanPrice                                 0.932492   \n",
       "MMRCurrentRetailAveragePrice                                0.871755   \n",
       "MMRCurrentRetailCleanPrice                                  0.871042   \n",
       "BYRNO                                                       0.107734   \n",
       "VNZIP1                                                      0.045694   \n",
       "VehBCost                                                    0.789840   \n",
       "IsOnlineSale                                                0.038818   \n",
       "WarrantyCost                                               -0.050417   \n",
       "\n",
       "                                   MMRAcquisitionAuctionCleanPrice  \\\n",
       "RefId                                                    -0.015704   \n",
       "IsBadBuy                                                 -0.102954   \n",
       "VehYear                                                   0.532927   \n",
       "VehicleAge                                               -0.518810   \n",
       "WheelTypeID                                              -0.129597   \n",
       "VehOdo                                                    0.024617   \n",
       "MMRAcquisitionAuctionAveragePrice                         0.990347   \n",
       "MMRAcquisitionAuctionCleanPrice                           1.000000   \n",
       "MMRAcquisitionRetailAveragePrice                          0.902718   \n",
       "MMRAcquisitonRetailCleanPrice                             0.918242   \n",
       "MMRCurrentAuctionAveragePrice                             0.923610   \n",
       "MMRCurrentAuctionCleanPrice                               0.932114   \n",
       "MMRCurrentRetailAveragePrice                              0.860716   \n",
       "MMRCurrentRetailCleanPrice                                0.871203   \n",
       "BYRNO                                                     0.062502   \n",
       "VNZIP1                                                    0.040675   \n",
       "VehBCost                                                  0.781516   \n",
       "IsOnlineSale                                              0.038667   \n",
       "WarrantyCost                                             -0.020644   \n",
       "\n",
       "                                   MMRAcquisitionRetailAveragePrice  \\\n",
       "RefId                                                     -0.032208   \n",
       "IsBadBuy                                                  -0.087418   \n",
       "VehYear                                                    0.581191   \n",
       "VehicleAge                                                -0.460854   \n",
       "WheelTypeID                                               -0.072700   \n",
       "VehOdo                                                     0.031306   \n",
       "MMRAcquisitionAuctionAveragePrice                          0.910391   \n",
       "MMRAcquisitionAuctionCleanPrice                            0.902718   \n",
       "MMRAcquisitionRetailAveragePrice                           1.000000   \n",
       "MMRAcquisitonRetailCleanPrice                              0.990201   \n",
       "MMRCurrentAuctionAveragePrice                              0.851647   \n",
       "MMRCurrentAuctionCleanPrice                                0.849407   \n",
       "MMRCurrentRetailAveragePrice                               0.913108   \n",
       "MMRCurrentRetailCleanPrice                                 0.906054   \n",
       "BYRNO                                                      0.107516   \n",
       "VNZIP1                                                     0.035489   \n",
       "VehBCost                                                   0.746126   \n",
       "IsOnlineSale                                               0.080627   \n",
       "WarrantyCost                                              -0.053444   \n",
       "\n",
       "                                   MMRAcquisitonRetailCleanPrice  \\\n",
       "RefId                                                  -0.034324   \n",
       "IsBadBuy                                               -0.083665   \n",
       "VehYear                                                 0.539230   \n",
       "VehicleAge                                             -0.426382   \n",
       "WheelTypeID                                            -0.102019   \n",
       "VehOdo                                                  0.063165   \n",
       "MMRAcquisitionAuctionAveragePrice                       0.910187   \n",
       "MMRAcquisitionAuctionCleanPrice                         0.918242   \n",
       "MMRAcquisitionRetailAveragePrice                        0.990201   \n",
       "MMRAcquisitonRetailCleanPrice                           1.000000   \n",
       "MMRCurrentAuctionAveragePrice                           0.846914   \n",
       "MMRCurrentAuctionCleanPrice                             0.855689   \n",
       "MMRCurrentRetailAveragePrice                            0.903188   \n",
       "MMRCurrentRetailCleanPrice                              0.906810   \n",
       "BYRNO                                                   0.069676   \n",
       "VNZIP1                                                  0.031284   \n",
       "VehBCost                                                0.744966   \n",
       "IsOnlineSale                                            0.077670   \n",
       "WarrantyCost                                           -0.026933   \n",
       "\n",
       "                                   MMRCurrentAuctionAveragePrice  \\\n",
       "RefId                                                  -0.008742   \n",
       "IsBadBuy                                               -0.109112   \n",
       "VehYear                                                 0.590820   \n",
       "VehicleAge                                             -0.575607   \n",
       "WheelTypeID                                            -0.088597   \n",
       "VehOdo                                                 -0.028568   \n",
       "MMRAcquisitionAuctionAveragePrice                       0.937817   \n",
       "MMRAcquisitionAuctionCleanPrice                         0.923610   \n",
       "MMRAcquisitionRetailAveragePrice                        0.851647   \n",
       "MMRAcquisitonRetailCleanPrice                           0.846914   \n",
       "MMRCurrentAuctionAveragePrice                           1.000000   \n",
       "MMRCurrentAuctionCleanPrice                             0.990329   \n",
       "MMRCurrentRetailAveragePrice                            0.915073   \n",
       "MMRCurrentRetailCleanPrice                              0.912231   \n",
       "BYRNO                                                   0.111363   \n",
       "VNZIP1                                                  0.048965   \n",
       "VehBCost                                                0.778738   \n",
       "IsOnlineSale                                            0.039876   \n",
       "WarrantyCost                                           -0.056798   \n",
       "\n",
       "                                   MMRCurrentAuctionCleanPrice  \\\n",
       "RefId                                                -0.013015   \n",
       "IsBadBuy                                             -0.104020   \n",
       "VehYear                                               0.548426   \n",
       "VehicleAge                                           -0.532505   \n",
       "WheelTypeID                                          -0.121211   \n",
       "VehOdo                                                0.012107   \n",
       "MMRAcquisitionAuctionAveragePrice                     0.932492   \n",
       "MMRAcquisitionAuctionCleanPrice                       0.932114   \n",
       "MMRAcquisitionRetailAveragePrice                      0.849407   \n",
       "MMRAcquisitonRetailCleanPrice                         0.855689   \n",
       "MMRCurrentAuctionAveragePrice                         0.990329   \n",
       "MMRCurrentAuctionCleanPrice                           1.000000   \n",
       "MMRCurrentRetailAveragePrice                          0.908669   \n",
       "MMRCurrentRetailCleanPrice                            0.921536   \n",
       "BYRNO                                                 0.068801   \n",
       "VNZIP1                                                0.043684   \n",
       "VehBCost                                              0.775100   \n",
       "IsOnlineSale                                          0.040240   \n",
       "WarrantyCost                                         -0.028131   \n",
       "\n",
       "                                   MMRCurrentRetailAveragePrice  \\\n",
       "RefId                                                 -0.021616   \n",
       "IsBadBuy                                              -0.103914   \n",
       "VehYear                                                0.598490   \n",
       "VehicleAge                                            -0.504062   \n",
       "WheelTypeID                                           -0.074420   \n",
       "VehOdo                                                 0.015811   \n",
       "MMRAcquisitionAuctionAveragePrice                      0.871755   \n",
       "MMRAcquisitionAuctionCleanPrice                        0.860716   \n",
       "MMRAcquisitionRetailAveragePrice                       0.913108   \n",
       "MMRAcquisitonRetailCleanPrice                          0.903188   \n",
       "MMRCurrentAuctionAveragePrice                          0.915073   \n",
       "MMRCurrentAuctionCleanPrice                            0.908669   \n",
       "MMRCurrentRetailAveragePrice                           1.000000   \n",
       "MMRCurrentRetailCleanPrice                             0.989760   \n",
       "BYRNO                                                  0.111190   \n",
       "VNZIP1                                                 0.039190   \n",
       "VehBCost                                               0.756816   \n",
       "IsOnlineSale                                           0.079535   \n",
       "WarrantyCost                                          -0.058025   \n",
       "\n",
       "                                   MMRCurrentRetailCleanPrice     BYRNO  \\\n",
       "RefId                                               -0.024369  0.032896   \n",
       "IsBadBuy                                            -0.100245 -0.061488   \n",
       "VehYear                                              0.558669  0.280791   \n",
       "VehicleAge                                          -0.469359 -0.268269   \n",
       "WheelTypeID                                         -0.102488  0.187199   \n",
       "VehOdo                                               0.048005 -0.288456   \n",
       "MMRAcquisitionAuctionAveragePrice                    0.871042  0.107734   \n",
       "MMRAcquisitionAuctionCleanPrice                      0.871203  0.062502   \n",
       "MMRAcquisitionRetailAveragePrice                     0.906054  0.107516   \n",
       "MMRAcquisitonRetailCleanPrice                        0.906810  0.069676   \n",
       "MMRCurrentAuctionAveragePrice                        0.912231  0.111363   \n",
       "MMRCurrentAuctionCleanPrice                          0.921536  0.068801   \n",
       "MMRCurrentRetailAveragePrice                         0.989760  0.111190   \n",
       "MMRCurrentRetailCleanPrice                           1.000000  0.074903   \n",
       "BYRNO                                                0.074903  1.000000   \n",
       "VNZIP1                                               0.034688  0.040260   \n",
       "VehBCost                                             0.756662  0.046215   \n",
       "IsOnlineSale                                         0.076587 -0.142444   \n",
       "WarrantyCost                                        -0.031683 -0.086201   \n",
       "\n",
       "                                     VNZIP1  VehBCost  IsOnlineSale  \\\n",
       "RefId                              0.131898 -0.011873     -0.048851   \n",
       "IsBadBuy                           0.005796 -0.099911     -0.003697   \n",
       "VehYear                            0.068276  0.349965      0.057380   \n",
       "VehicleAge                        -0.074857 -0.312329     -0.024771   \n",
       "WheelTypeID                        0.007901 -0.162826     -0.006747   \n",
       "VehOdo                            -0.053041 -0.062008      0.029556   \n",
       "MMRAcquisitionAuctionAveragePrice  0.045694  0.789840      0.038818   \n",
       "MMRAcquisitionAuctionCleanPrice    0.040675  0.781516      0.038667   \n",
       "MMRAcquisitionRetailAveragePrice   0.035489  0.746126      0.080627   \n",
       "MMRAcquisitonRetailCleanPrice      0.031284  0.744966      0.077670   \n",
       "MMRCurrentAuctionAveragePrice      0.048965  0.778738      0.039876   \n",
       "MMRCurrentAuctionCleanPrice        0.043684  0.775100      0.040240   \n",
       "MMRCurrentRetailAveragePrice       0.039190  0.756816      0.079535   \n",
       "MMRCurrentRetailCleanPrice         0.034688  0.756662      0.076587   \n",
       "BYRNO                              0.040260  0.046215     -0.142444   \n",
       "VNZIP1                             1.000000  0.017065      0.024889   \n",
       "VehBCost                           0.017065  1.000000      0.034120   \n",
       "IsOnlineSale                       0.024889  0.034120      1.000000   \n",
       "WarrantyCost                      -0.036173 -0.033210      0.003837   \n",
       "\n",
       "                                   WarrantyCost  \n",
       "RefId                                 -0.023478  \n",
       "IsBadBuy                               0.052319  \n",
       "VehYear                               -0.268696  \n",
       "VehicleAge                             0.259310  \n",
       "WheelTypeID                           -0.132798  \n",
       "VehOdo                                 0.411718  \n",
       "MMRAcquisitionAuctionAveragePrice     -0.050417  \n",
       "MMRAcquisitionAuctionCleanPrice       -0.020644  \n",
       "MMRAcquisitionRetailAveragePrice      -0.053444  \n",
       "MMRAcquisitonRetailCleanPrice         -0.026933  \n",
       "MMRCurrentAuctionAveragePrice         -0.056798  \n",
       "MMRCurrentAuctionCleanPrice           -0.028131  \n",
       "MMRCurrentRetailAveragePrice          -0.058025  \n",
       "MMRCurrentRetailCleanPrice            -0.031683  \n",
       "BYRNO                                 -0.086201  \n",
       "VNZIP1                                -0.036173  \n",
       "VehBCost                              -0.033210  \n",
       "IsOnlineSale                           0.003837  \n",
       "WarrantyCost                           1.000000  "
      ]
     },
     "execution_count": 22,
     "metadata": {
      "tags": []
     },
     "output_type": "execute_result"
    }
   ],
   "source": [
    "train_df.corr()"
   ]
  },
  {
   "cell_type": "code",
   "execution_count": 23,
   "metadata": {
    "colab": {
     "base_uri": "https://localhost:8080/"
    },
    "executionInfo": {
     "elapsed": 19,
     "status": "ok",
     "timestamp": 1627572392674,
     "user": {
      "displayName": "Matthew Oladiran",
      "photoUrl": "https://lh3.googleusercontent.com/a-/AOh14Gh8gzFroomEcpCvX9DbYCy3EqIAhBaajOv9aNCNbg=s64",
      "userId": "09145176024951036598"
     },
     "user_tz": -60
    },
    "id": "TeUAs9HBbkpg",
    "outputId": "35fd18b4-2dc1-4d30-a645-522bcb5f0ba3"
   },
   "outputs": [
    {
     "data": {
      "text/plain": [
       "Index(['RefId', 'IsBadBuy', 'PurchDate', 'Auction', 'VehYear', 'VehicleAge',\n",
       "       'Make', 'Model', 'Trim', 'SubModel', 'Color', 'Transmission',\n",
       "       'WheelTypeID', 'WheelType', 'VehOdo', 'Nationality', 'Size',\n",
       "       'TopThreeAmericanName', 'MMRAcquisitionAuctionAveragePrice',\n",
       "       'MMRAcquisitionAuctionCleanPrice', 'MMRAcquisitionRetailAveragePrice',\n",
       "       'MMRAcquisitonRetailCleanPrice', 'MMRCurrentAuctionAveragePrice',\n",
       "       'MMRCurrentAuctionCleanPrice', 'MMRCurrentRetailAveragePrice',\n",
       "       'MMRCurrentRetailCleanPrice', 'PRIMEUNIT', 'AUCGUART', 'BYRNO',\n",
       "       'VNZIP1', 'VNST', 'VehBCost', 'IsOnlineSale', 'WarrantyCost'],\n",
       "      dtype='object')"
      ]
     },
     "execution_count": 23,
     "metadata": {
      "tags": []
     },
     "output_type": "execute_result"
    }
   ],
   "source": [
    "train_df.columns"
   ]
  },
  {
   "cell_type": "code",
   "execution_count": 24,
   "metadata": {
    "executionInfo": {
     "elapsed": 17,
     "status": "ok",
     "timestamp": 1627572392675,
     "user": {
      "displayName": "Matthew Oladiran",
      "photoUrl": "https://lh3.googleusercontent.com/a-/AOh14Gh8gzFroomEcpCvX9DbYCy3EqIAhBaajOv9aNCNbg=s64",
      "userId": "09145176024951036598"
     },
     "user_tz": -60
    },
    "id": "qg3_0IyMbkpi"
   },
   "outputs": [],
   "source": [
    "#import train_test_split library\n",
    "from sklearn.model_selection import train_test_split\n",
    "\n",
    "# create train test split\n",
    "training_df, testing_df= train_test_split( train_df, test_size=0.3, random_state=0)"
   ]
  },
  {
   "cell_type": "code",
   "execution_count": 25,
   "metadata": {
    "colab": {
     "base_uri": "https://localhost:8080/",
     "height": 728
    },
    "executionInfo": {
     "elapsed": 18,
     "status": "ok",
     "timestamp": 1627572392676,
     "user": {
      "displayName": "Matthew Oladiran",
      "photoUrl": "https://lh3.googleusercontent.com/a-/AOh14Gh8gzFroomEcpCvX9DbYCy3EqIAhBaajOv9aNCNbg=s64",
      "userId": "09145176024951036598"
     },
     "user_tz": -60
    },
    "id": "a51Z4SG2bkpj",
    "outputId": "8133a039-28fc-4b9d-cffb-79b513c70622"
   },
   "outputs": [
    {
     "data": {
      "text/html": [
       "<div>\n",
       "<style scoped>\n",
       "    .dataframe tbody tr th:only-of-type {\n",
       "        vertical-align: middle;\n",
       "    }\n",
       "\n",
       "    .dataframe tbody tr th {\n",
       "        vertical-align: top;\n",
       "    }\n",
       "\n",
       "    .dataframe thead th {\n",
       "        text-align: right;\n",
       "    }\n",
       "</style>\n",
       "<table border=\"1\" class=\"dataframe\">\n",
       "  <thead>\n",
       "    <tr style=\"text-align: right;\">\n",
       "      <th></th>\n",
       "      <th>RefId</th>\n",
       "      <th>IsBadBuy</th>\n",
       "      <th>PurchDate</th>\n",
       "      <th>Auction</th>\n",
       "      <th>VehYear</th>\n",
       "      <th>VehicleAge</th>\n",
       "      <th>Make</th>\n",
       "      <th>Model</th>\n",
       "      <th>Trim</th>\n",
       "      <th>SubModel</th>\n",
       "      <th>Color</th>\n",
       "      <th>Transmission</th>\n",
       "      <th>WheelTypeID</th>\n",
       "      <th>WheelType</th>\n",
       "      <th>VehOdo</th>\n",
       "      <th>Nationality</th>\n",
       "      <th>Size</th>\n",
       "      <th>TopThreeAmericanName</th>\n",
       "      <th>MMRAcquisitionAuctionAveragePrice</th>\n",
       "      <th>MMRAcquisitionAuctionCleanPrice</th>\n",
       "      <th>MMRAcquisitionRetailAveragePrice</th>\n",
       "      <th>MMRAcquisitonRetailCleanPrice</th>\n",
       "      <th>MMRCurrentAuctionAveragePrice</th>\n",
       "      <th>MMRCurrentAuctionCleanPrice</th>\n",
       "      <th>MMRCurrentRetailAveragePrice</th>\n",
       "      <th>MMRCurrentRetailCleanPrice</th>\n",
       "      <th>PRIMEUNIT</th>\n",
       "      <th>AUCGUART</th>\n",
       "      <th>BYRNO</th>\n",
       "      <th>VNZIP1</th>\n",
       "      <th>VNST</th>\n",
       "      <th>VehBCost</th>\n",
       "      <th>IsOnlineSale</th>\n",
       "      <th>WarrantyCost</th>\n",
       "    </tr>\n",
       "  </thead>\n",
       "  <tbody>\n",
       "    <tr>\n",
       "      <th>42047</th>\n",
       "      <td>42070</td>\n",
       "      <td>1</td>\n",
       "      <td>8/12/2009</td>\n",
       "      <td>OTHER</td>\n",
       "      <td>2005</td>\n",
       "      <td>4</td>\n",
       "      <td>CHRYSLER</td>\n",
       "      <td>SEBRING V6 2.7L V6 M</td>\n",
       "      <td>Tou</td>\n",
       "      <td>4D SEDAN LX</td>\n",
       "      <td>BLACK</td>\n",
       "      <td>AUTO</td>\n",
       "      <td>NaN</td>\n",
       "      <td>NaN</td>\n",
       "      <td>91090</td>\n",
       "      <td>AMERICAN</td>\n",
       "      <td>MEDIUM</td>\n",
       "      <td>CHRYSLER</td>\n",
       "      <td>4478.0</td>\n",
       "      <td>5206.0</td>\n",
       "      <td>5336.0</td>\n",
       "      <td>6122.0</td>\n",
       "      <td>4478.0</td>\n",
       "      <td>5206.0</td>\n",
       "      <td>5336.0</td>\n",
       "      <td>6122.0</td>\n",
       "      <td>NaN</td>\n",
       "      <td>NaN</td>\n",
       "      <td>17675</td>\n",
       "      <td>27407</td>\n",
       "      <td>NC</td>\n",
       "      <td>3815.0</td>\n",
       "      <td>0</td>\n",
       "      <td>1485</td>\n",
       "    </tr>\n",
       "    <tr>\n",
       "      <th>15047</th>\n",
       "      <td>15057</td>\n",
       "      <td>0</td>\n",
       "      <td>7/15/2009</td>\n",
       "      <td>MANHEIM</td>\n",
       "      <td>2007</td>\n",
       "      <td>2</td>\n",
       "      <td>FORD</td>\n",
       "      <td>FUSION 4C 2.3L I4 EF</td>\n",
       "      <td>S</td>\n",
       "      <td>4D SEDAN S</td>\n",
       "      <td>BEIGE</td>\n",
       "      <td>AUTO</td>\n",
       "      <td>1.0</td>\n",
       "      <td>Alloy</td>\n",
       "      <td>79688</td>\n",
       "      <td>AMERICAN</td>\n",
       "      <td>MEDIUM</td>\n",
       "      <td>FORD</td>\n",
       "      <td>8123.0</td>\n",
       "      <td>9919.0</td>\n",
       "      <td>9273.0</td>\n",
       "      <td>11213.0</td>\n",
       "      <td>7545.0</td>\n",
       "      <td>9206.0</td>\n",
       "      <td>8649.0</td>\n",
       "      <td>10442.0</td>\n",
       "      <td>NaN</td>\n",
       "      <td>NaN</td>\n",
       "      <td>23359</td>\n",
       "      <td>94544</td>\n",
       "      <td>CA</td>\n",
       "      <td>7525.0</td>\n",
       "      <td>0</td>\n",
       "      <td>803</td>\n",
       "    </tr>\n",
       "    <tr>\n",
       "      <th>64045</th>\n",
       "      <td>64076</td>\n",
       "      <td>0</td>\n",
       "      <td>11/11/2009</td>\n",
       "      <td>ADESA</td>\n",
       "      <td>2007</td>\n",
       "      <td>2</td>\n",
       "      <td>CHRYSLER</td>\n",
       "      <td>PACIFICA FWD</td>\n",
       "      <td>Bas</td>\n",
       "      <td>4D SPORT</td>\n",
       "      <td>SILVER</td>\n",
       "      <td>AUTO</td>\n",
       "      <td>1.0</td>\n",
       "      <td>Alloy</td>\n",
       "      <td>65371</td>\n",
       "      <td>AMERICAN</td>\n",
       "      <td>CROSSOVER</td>\n",
       "      <td>CHRYSLER</td>\n",
       "      <td>9453.0</td>\n",
       "      <td>11374.0</td>\n",
       "      <td>10709.0</td>\n",
       "      <td>12784.0</td>\n",
       "      <td>8875.0</td>\n",
       "      <td>10790.0</td>\n",
       "      <td>12848.0</td>\n",
       "      <td>14872.0</td>\n",
       "      <td>NaN</td>\n",
       "      <td>NaN</td>\n",
       "      <td>21053</td>\n",
       "      <td>85226</td>\n",
       "      <td>AZ</td>\n",
       "      <td>8495.0</td>\n",
       "      <td>0</td>\n",
       "      <td>1215</td>\n",
       "    </tr>\n",
       "    <tr>\n",
       "      <th>22202</th>\n",
       "      <td>22218</td>\n",
       "      <td>0</td>\n",
       "      <td>8/19/2009</td>\n",
       "      <td>MANHEIM</td>\n",
       "      <td>2003</td>\n",
       "      <td>6</td>\n",
       "      <td>CHEVROLET</td>\n",
       "      <td>1500 SILVERADO PICKU</td>\n",
       "      <td>W/T</td>\n",
       "      <td>EXT CAB 5.3L LS</td>\n",
       "      <td>WHITE</td>\n",
       "      <td>AUTO</td>\n",
       "      <td>1.0</td>\n",
       "      <td>Alloy</td>\n",
       "      <td>83272</td>\n",
       "      <td>AMERICAN</td>\n",
       "      <td>LARGE TRUCK</td>\n",
       "      <td>GM</td>\n",
       "      <td>6549.0</td>\n",
       "      <td>8108.0</td>\n",
       "      <td>7573.0</td>\n",
       "      <td>9257.0</td>\n",
       "      <td>4920.0</td>\n",
       "      <td>6640.0</td>\n",
       "      <td>5814.0</td>\n",
       "      <td>7671.0</td>\n",
       "      <td>NaN</td>\n",
       "      <td>NaN</td>\n",
       "      <td>23359</td>\n",
       "      <td>92807</td>\n",
       "      <td>CA</td>\n",
       "      <td>9170.0</td>\n",
       "      <td>0</td>\n",
       "      <td>1543</td>\n",
       "    </tr>\n",
       "    <tr>\n",
       "      <th>1386</th>\n",
       "      <td>1388</td>\n",
       "      <td>0</td>\n",
       "      <td>11/30/2010</td>\n",
       "      <td>ADESA</td>\n",
       "      <td>2007</td>\n",
       "      <td>3</td>\n",
       "      <td>TOYOTA</td>\n",
       "      <td>TUNDRA PICKUP 2WD V8</td>\n",
       "      <td>Bas</td>\n",
       "      <td>REG CAB 4.7L</td>\n",
       "      <td>SILVER</td>\n",
       "      <td>AUTO</td>\n",
       "      <td>1.0</td>\n",
       "      <td>Alloy</td>\n",
       "      <td>93095</td>\n",
       "      <td>TOP LINE ASIAN</td>\n",
       "      <td>LARGE TRUCK</td>\n",
       "      <td>OTHER</td>\n",
       "      <td>14810.0</td>\n",
       "      <td>16340.0</td>\n",
       "      <td>19467.0</td>\n",
       "      <td>21100.0</td>\n",
       "      <td>12568.0</td>\n",
       "      <td>14413.0</td>\n",
       "      <td>16528.0</td>\n",
       "      <td>18465.0</td>\n",
       "      <td>NO</td>\n",
       "      <td>GREEN</td>\n",
       "      <td>18111</td>\n",
       "      <td>38118</td>\n",
       "      <td>TN</td>\n",
       "      <td>9450.0</td>\n",
       "      <td>0</td>\n",
       "      <td>765</td>\n",
       "    </tr>\n",
       "    <tr>\n",
       "      <th>...</th>\n",
       "      <td>...</td>\n",
       "      <td>...</td>\n",
       "      <td>...</td>\n",
       "      <td>...</td>\n",
       "      <td>...</td>\n",
       "      <td>...</td>\n",
       "      <td>...</td>\n",
       "      <td>...</td>\n",
       "      <td>...</td>\n",
       "      <td>...</td>\n",
       "      <td>...</td>\n",
       "      <td>...</td>\n",
       "      <td>...</td>\n",
       "      <td>...</td>\n",
       "      <td>...</td>\n",
       "      <td>...</td>\n",
       "      <td>...</td>\n",
       "      <td>...</td>\n",
       "      <td>...</td>\n",
       "      <td>...</td>\n",
       "      <td>...</td>\n",
       "      <td>...</td>\n",
       "      <td>...</td>\n",
       "      <td>...</td>\n",
       "      <td>...</td>\n",
       "      <td>...</td>\n",
       "      <td>...</td>\n",
       "      <td>...</td>\n",
       "      <td>...</td>\n",
       "      <td>...</td>\n",
       "      <td>...</td>\n",
       "      <td>...</td>\n",
       "      <td>...</td>\n",
       "      <td>...</td>\n",
       "    </tr>\n",
       "    <tr>\n",
       "      <th>21243</th>\n",
       "      <td>21258</td>\n",
       "      <td>0</td>\n",
       "      <td>12/8/2010</td>\n",
       "      <td>MANHEIM</td>\n",
       "      <td>2005</td>\n",
       "      <td>5</td>\n",
       "      <td>DODGE</td>\n",
       "      <td>NEON</td>\n",
       "      <td>SXT</td>\n",
       "      <td>4D SEDAN</td>\n",
       "      <td>BLUE</td>\n",
       "      <td>AUTO</td>\n",
       "      <td>1.0</td>\n",
       "      <td>Alloy</td>\n",
       "      <td>42735</td>\n",
       "      <td>AMERICAN</td>\n",
       "      <td>COMPACT</td>\n",
       "      <td>CHRYSLER</td>\n",
       "      <td>3109.0</td>\n",
       "      <td>4171.0</td>\n",
       "      <td>5966.0</td>\n",
       "      <td>7302.0</td>\n",
       "      <td>3123.0</td>\n",
       "      <td>4082.0</td>\n",
       "      <td>5994.0</td>\n",
       "      <td>6986.0</td>\n",
       "      <td>NaN</td>\n",
       "      <td>NaN</td>\n",
       "      <td>52644</td>\n",
       "      <td>75236</td>\n",
       "      <td>TX</td>\n",
       "      <td>5325.0</td>\n",
       "      <td>0</td>\n",
       "      <td>553</td>\n",
       "    </tr>\n",
       "    <tr>\n",
       "      <th>45891</th>\n",
       "      <td>45915</td>\n",
       "      <td>0</td>\n",
       "      <td>12/2/2009</td>\n",
       "      <td>MANHEIM</td>\n",
       "      <td>2004</td>\n",
       "      <td>5</td>\n",
       "      <td>DODGE</td>\n",
       "      <td>1500 RAM PICKUP 2WD</td>\n",
       "      <td>ST</td>\n",
       "      <td>QUAD CAB 5.7L</td>\n",
       "      <td>WHITE</td>\n",
       "      <td>AUTO</td>\n",
       "      <td>1.0</td>\n",
       "      <td>Alloy</td>\n",
       "      <td>86634</td>\n",
       "      <td>AMERICAN</td>\n",
       "      <td>LARGE TRUCK</td>\n",
       "      <td>CHRYSLER</td>\n",
       "      <td>6680.0</td>\n",
       "      <td>8319.0</td>\n",
       "      <td>7714.0</td>\n",
       "      <td>9485.0</td>\n",
       "      <td>7062.0</td>\n",
       "      <td>8453.0</td>\n",
       "      <td>11314.0</td>\n",
       "      <td>12511.0</td>\n",
       "      <td>NaN</td>\n",
       "      <td>NaN</td>\n",
       "      <td>18822</td>\n",
       "      <td>64161</td>\n",
       "      <td>MO</td>\n",
       "      <td>8175.0</td>\n",
       "      <td>0</td>\n",
       "      <td>983</td>\n",
       "    </tr>\n",
       "    <tr>\n",
       "      <th>42613</th>\n",
       "      <td>42637</td>\n",
       "      <td>0</td>\n",
       "      <td>10/14/2010</td>\n",
       "      <td>MANHEIM</td>\n",
       "      <td>2005</td>\n",
       "      <td>5</td>\n",
       "      <td>PONTIAC</td>\n",
       "      <td>SUNFIRE</td>\n",
       "      <td>NaN</td>\n",
       "      <td>2D COUPE SE</td>\n",
       "      <td>BLUE</td>\n",
       "      <td>AUTO</td>\n",
       "      <td>2.0</td>\n",
       "      <td>Covers</td>\n",
       "      <td>79130</td>\n",
       "      <td>AMERICAN</td>\n",
       "      <td>COMPACT</td>\n",
       "      <td>GM</td>\n",
       "      <td>3373.0</td>\n",
       "      <td>4402.0</td>\n",
       "      <td>6472.0</td>\n",
       "      <td>7891.0</td>\n",
       "      <td>3296.0</td>\n",
       "      <td>4337.0</td>\n",
       "      <td>7009.0</td>\n",
       "      <td>9223.0</td>\n",
       "      <td>NaN</td>\n",
       "      <td>NaN</td>\n",
       "      <td>18880</td>\n",
       "      <td>29532</td>\n",
       "      <td>SC</td>\n",
       "      <td>5470.0</td>\n",
       "      <td>0</td>\n",
       "      <td>1155</td>\n",
       "    </tr>\n",
       "    <tr>\n",
       "      <th>43567</th>\n",
       "      <td>43591</td>\n",
       "      <td>0</td>\n",
       "      <td>8/26/2009</td>\n",
       "      <td>MANHEIM</td>\n",
       "      <td>2003</td>\n",
       "      <td>6</td>\n",
       "      <td>OLDSMOBILE</td>\n",
       "      <td>ALERO 4C 2.2L I4 MPI</td>\n",
       "      <td>GL</td>\n",
       "      <td>4D SEDAN GL2</td>\n",
       "      <td>GREY</td>\n",
       "      <td>AUTO</td>\n",
       "      <td>2.0</td>\n",
       "      <td>Covers</td>\n",
       "      <td>94501</td>\n",
       "      <td>AMERICAN</td>\n",
       "      <td>MEDIUM</td>\n",
       "      <td>GM</td>\n",
       "      <td>2880.0</td>\n",
       "      <td>4195.0</td>\n",
       "      <td>3610.0</td>\n",
       "      <td>5031.0</td>\n",
       "      <td>3034.0</td>\n",
       "      <td>4413.0</td>\n",
       "      <td>3777.0</td>\n",
       "      <td>5266.0</td>\n",
       "      <td>NaN</td>\n",
       "      <td>NaN</td>\n",
       "      <td>16044</td>\n",
       "      <td>22801</td>\n",
       "      <td>VA</td>\n",
       "      <td>4200.0</td>\n",
       "      <td>0</td>\n",
       "      <td>2074</td>\n",
       "    </tr>\n",
       "    <tr>\n",
       "      <th>68268</th>\n",
       "      <td>68300</td>\n",
       "      <td>0</td>\n",
       "      <td>10/15/2009</td>\n",
       "      <td>ADESA</td>\n",
       "      <td>2006</td>\n",
       "      <td>3</td>\n",
       "      <td>CHEVROLET</td>\n",
       "      <td>MALIBU V6 3.5L V6 SF</td>\n",
       "      <td>LT</td>\n",
       "      <td>4D SEDAN LT</td>\n",
       "      <td>WHITE</td>\n",
       "      <td>AUTO</td>\n",
       "      <td>1.0</td>\n",
       "      <td>Alloy</td>\n",
       "      <td>63610</td>\n",
       "      <td>AMERICAN</td>\n",
       "      <td>MEDIUM</td>\n",
       "      <td>GM</td>\n",
       "      <td>6093.0</td>\n",
       "      <td>7646.0</td>\n",
       "      <td>7080.0</td>\n",
       "      <td>8758.0</td>\n",
       "      <td>6502.0</td>\n",
       "      <td>8100.0</td>\n",
       "      <td>10140.0</td>\n",
       "      <td>11773.0</td>\n",
       "      <td>NaN</td>\n",
       "      <td>NaN</td>\n",
       "      <td>3453</td>\n",
       "      <td>80817</td>\n",
       "      <td>CO</td>\n",
       "      <td>6190.0</td>\n",
       "      <td>0</td>\n",
       "      <td>1118</td>\n",
       "    </tr>\n",
       "  </tbody>\n",
       "</table>\n",
       "<p>51088 rows × 34 columns</p>\n",
       "</div>"
      ],
      "text/plain": [
       "       RefId  IsBadBuy   PurchDate  Auction  VehYear  VehicleAge        Make  \\\n",
       "42047  42070         1   8/12/2009    OTHER     2005           4    CHRYSLER   \n",
       "15047  15057         0   7/15/2009  MANHEIM     2007           2        FORD   \n",
       "64045  64076         0  11/11/2009    ADESA     2007           2    CHRYSLER   \n",
       "22202  22218         0   8/19/2009  MANHEIM     2003           6   CHEVROLET   \n",
       "1386    1388         0  11/30/2010    ADESA     2007           3      TOYOTA   \n",
       "...      ...       ...         ...      ...      ...         ...         ...   \n",
       "21243  21258         0   12/8/2010  MANHEIM     2005           5       DODGE   \n",
       "45891  45915         0   12/2/2009  MANHEIM     2004           5       DODGE   \n",
       "42613  42637         0  10/14/2010  MANHEIM     2005           5     PONTIAC   \n",
       "43567  43591         0   8/26/2009  MANHEIM     2003           6  OLDSMOBILE   \n",
       "68268  68300         0  10/15/2009    ADESA     2006           3   CHEVROLET   \n",
       "\n",
       "                      Model Trim         SubModel   Color Transmission  \\\n",
       "42047  SEBRING V6 2.7L V6 M  Tou      4D SEDAN LX   BLACK         AUTO   \n",
       "15047  FUSION 4C 2.3L I4 EF    S       4D SEDAN S   BEIGE         AUTO   \n",
       "64045          PACIFICA FWD  Bas         4D SPORT  SILVER         AUTO   \n",
       "22202  1500 SILVERADO PICKU  W/T  EXT CAB 5.3L LS   WHITE         AUTO   \n",
       "1386   TUNDRA PICKUP 2WD V8  Bas     REG CAB 4.7L  SILVER         AUTO   \n",
       "...                     ...  ...              ...     ...          ...   \n",
       "21243                  NEON  SXT         4D SEDAN    BLUE         AUTO   \n",
       "45891   1500 RAM PICKUP 2WD   ST    QUAD CAB 5.7L   WHITE         AUTO   \n",
       "42613               SUNFIRE  NaN      2D COUPE SE    BLUE         AUTO   \n",
       "43567  ALERO 4C 2.2L I4 MPI   GL     4D SEDAN GL2    GREY         AUTO   \n",
       "68268  MALIBU V6 3.5L V6 SF   LT      4D SEDAN LT   WHITE         AUTO   \n",
       "\n",
       "       WheelTypeID WheelType  VehOdo     Nationality         Size  \\\n",
       "42047          NaN       NaN   91090        AMERICAN       MEDIUM   \n",
       "15047          1.0     Alloy   79688        AMERICAN       MEDIUM   \n",
       "64045          1.0     Alloy   65371        AMERICAN    CROSSOVER   \n",
       "22202          1.0     Alloy   83272        AMERICAN  LARGE TRUCK   \n",
       "1386           1.0     Alloy   93095  TOP LINE ASIAN  LARGE TRUCK   \n",
       "...            ...       ...     ...             ...          ...   \n",
       "21243          1.0     Alloy   42735        AMERICAN      COMPACT   \n",
       "45891          1.0     Alloy   86634        AMERICAN  LARGE TRUCK   \n",
       "42613          2.0    Covers   79130        AMERICAN      COMPACT   \n",
       "43567          2.0    Covers   94501        AMERICAN       MEDIUM   \n",
       "68268          1.0     Alloy   63610        AMERICAN       MEDIUM   \n",
       "\n",
       "      TopThreeAmericanName  MMRAcquisitionAuctionAveragePrice  \\\n",
       "42047             CHRYSLER                             4478.0   \n",
       "15047                 FORD                             8123.0   \n",
       "64045             CHRYSLER                             9453.0   \n",
       "22202                   GM                             6549.0   \n",
       "1386                 OTHER                            14810.0   \n",
       "...                    ...                                ...   \n",
       "21243             CHRYSLER                             3109.0   \n",
       "45891             CHRYSLER                             6680.0   \n",
       "42613                   GM                             3373.0   \n",
       "43567                   GM                             2880.0   \n",
       "68268                   GM                             6093.0   \n",
       "\n",
       "       MMRAcquisitionAuctionCleanPrice  MMRAcquisitionRetailAveragePrice  \\\n",
       "42047                           5206.0                            5336.0   \n",
       "15047                           9919.0                            9273.0   \n",
       "64045                          11374.0                           10709.0   \n",
       "22202                           8108.0                            7573.0   \n",
       "1386                           16340.0                           19467.0   \n",
       "...                                ...                               ...   \n",
       "21243                           4171.0                            5966.0   \n",
       "45891                           8319.0                            7714.0   \n",
       "42613                           4402.0                            6472.0   \n",
       "43567                           4195.0                            3610.0   \n",
       "68268                           7646.0                            7080.0   \n",
       "\n",
       "       MMRAcquisitonRetailCleanPrice  MMRCurrentAuctionAveragePrice  \\\n",
       "42047                         6122.0                         4478.0   \n",
       "15047                        11213.0                         7545.0   \n",
       "64045                        12784.0                         8875.0   \n",
       "22202                         9257.0                         4920.0   \n",
       "1386                         21100.0                        12568.0   \n",
       "...                              ...                            ...   \n",
       "21243                         7302.0                         3123.0   \n",
       "45891                         9485.0                         7062.0   \n",
       "42613                         7891.0                         3296.0   \n",
       "43567                         5031.0                         3034.0   \n",
       "68268                         8758.0                         6502.0   \n",
       "\n",
       "       MMRCurrentAuctionCleanPrice  MMRCurrentRetailAveragePrice  \\\n",
       "42047                       5206.0                        5336.0   \n",
       "15047                       9206.0                        8649.0   \n",
       "64045                      10790.0                       12848.0   \n",
       "22202                       6640.0                        5814.0   \n",
       "1386                       14413.0                       16528.0   \n",
       "...                            ...                           ...   \n",
       "21243                       4082.0                        5994.0   \n",
       "45891                       8453.0                       11314.0   \n",
       "42613                       4337.0                        7009.0   \n",
       "43567                       4413.0                        3777.0   \n",
       "68268                       8100.0                       10140.0   \n",
       "\n",
       "       MMRCurrentRetailCleanPrice PRIMEUNIT AUCGUART  BYRNO  VNZIP1 VNST  \\\n",
       "42047                      6122.0       NaN      NaN  17675   27407   NC   \n",
       "15047                     10442.0       NaN      NaN  23359   94544   CA   \n",
       "64045                     14872.0       NaN      NaN  21053   85226   AZ   \n",
       "22202                      7671.0       NaN      NaN  23359   92807   CA   \n",
       "1386                      18465.0        NO    GREEN  18111   38118   TN   \n",
       "...                           ...       ...      ...    ...     ...  ...   \n",
       "21243                      6986.0       NaN      NaN  52644   75236   TX   \n",
       "45891                     12511.0       NaN      NaN  18822   64161   MO   \n",
       "42613                      9223.0       NaN      NaN  18880   29532   SC   \n",
       "43567                      5266.0       NaN      NaN  16044   22801   VA   \n",
       "68268                     11773.0       NaN      NaN   3453   80817   CO   \n",
       "\n",
       "       VehBCost  IsOnlineSale  WarrantyCost  \n",
       "42047    3815.0             0          1485  \n",
       "15047    7525.0             0           803  \n",
       "64045    8495.0             0          1215  \n",
       "22202    9170.0             0          1543  \n",
       "1386     9450.0             0           765  \n",
       "...         ...           ...           ...  \n",
       "21243    5325.0             0           553  \n",
       "45891    8175.0             0           983  \n",
       "42613    5470.0             0          1155  \n",
       "43567    4200.0             0          2074  \n",
       "68268    6190.0             0          1118  \n",
       "\n",
       "[51088 rows x 34 columns]"
      ]
     },
     "execution_count": 25,
     "metadata": {
      "tags": []
     },
     "output_type": "execute_result"
    }
   ],
   "source": [
    "training_df"
   ]
  },
  {
   "cell_type": "code",
   "execution_count": 26,
   "metadata": {
    "colab": {
     "base_uri": "https://localhost:8080/"
    },
    "executionInfo": {
     "elapsed": 18,
     "status": "ok",
     "timestamp": 1627572392677,
     "user": {
      "displayName": "Matthew Oladiran",
      "photoUrl": "https://lh3.googleusercontent.com/a-/AOh14Gh8gzFroomEcpCvX9DbYCy3EqIAhBaajOv9aNCNbg=s64",
      "userId": "09145176024951036598"
     },
     "user_tz": -60
    },
    "id": "2bsoaN-0bkpj",
    "outputId": "1be5d4c1-c199-4c58-a872-f9d8b95bd85c"
   },
   "outputs": [
    {
     "name": "stdout",
     "output_type": "stream",
     "text": [
      "<class 'pandas.core.frame.DataFrame'>\n",
      "Int64Index: 21895 entries, 71921 to 48273\n",
      "Data columns (total 34 columns):\n",
      " #   Column                             Non-Null Count  Dtype  \n",
      "---  ------                             --------------  -----  \n",
      " 0   RefId                              21895 non-null  int64  \n",
      " 1   IsBadBuy                           21895 non-null  int64  \n",
      " 2   PurchDate                          21895 non-null  object \n",
      " 3   Auction                            21895 non-null  object \n",
      " 4   VehYear                            21895 non-null  int64  \n",
      " 5   VehicleAge                         21895 non-null  int64  \n",
      " 6   Make                               21895 non-null  object \n",
      " 7   Model                              21895 non-null  object \n",
      " 8   Trim                               21213 non-null  object \n",
      " 9   SubModel                           21894 non-null  object \n",
      " 10  Color                              21894 non-null  object \n",
      " 11  Transmission                       21894 non-null  object \n",
      " 12  WheelTypeID                        20914 non-null  float64\n",
      " 13  WheelType                          20912 non-null  object \n",
      " 14  VehOdo                             21895 non-null  int64  \n",
      " 15  Nationality                        21895 non-null  object \n",
      " 16  Size                               21895 non-null  object \n",
      " 17  TopThreeAmericanName               21895 non-null  object \n",
      " 18  MMRAcquisitionAuctionAveragePrice  21889 non-null  float64\n",
      " 19  MMRAcquisitionAuctionCleanPrice    21889 non-null  float64\n",
      " 20  MMRAcquisitionRetailAveragePrice   21889 non-null  float64\n",
      " 21  MMRAcquisitonRetailCleanPrice      21889 non-null  float64\n",
      " 22  MMRCurrentAuctionAveragePrice      21814 non-null  float64\n",
      " 23  MMRCurrentAuctionCleanPrice        21814 non-null  float64\n",
      " 24  MMRCurrentRetailAveragePrice       21814 non-null  float64\n",
      " 25  MMRCurrentRetailCleanPrice         21814 non-null  float64\n",
      " 26  PRIMEUNIT                          1014 non-null   object \n",
      " 27  AUCGUART                           1014 non-null   object \n",
      " 28  BYRNO                              21895 non-null  int64  \n",
      " 29  VNZIP1                             21895 non-null  int64  \n",
      " 30  VNST                               21895 non-null  object \n",
      " 31  VehBCost                           21895 non-null  float64\n",
      " 32  IsOnlineSale                       21895 non-null  int64  \n",
      " 33  WarrantyCost                       21895 non-null  int64  \n",
      "dtypes: float64(10), int64(9), object(15)\n",
      "memory usage: 5.8+ MB\n"
     ]
    }
   ],
   "source": [
    "testing_df.info()"
   ]
  },
  {
   "cell_type": "code",
   "execution_count": 27,
   "metadata": {
    "executionInfo": {
     "elapsed": 17,
     "status": "ok",
     "timestamp": 1627572392677,
     "user": {
      "displayName": "Matthew Oladiran",
      "photoUrl": "https://lh3.googleusercontent.com/a-/AOh14Gh8gzFroomEcpCvX9DbYCy3EqIAhBaajOv9aNCNbg=s64",
      "userId": "09145176024951036598"
     },
     "user_tz": -60
    },
    "id": "leWrbhrmbkpj"
   },
   "outputs": [],
   "source": [
    "input_cols = ['Auction', 'VehYear', 'VehicleAge',\n",
    "       'Make', 'Model', 'Trim', 'SubModel', 'Color', 'Transmission',\n",
    "       'WheelType', 'VehOdo', 'Nationality', 'Size',\n",
    "       'TopThreeAmericanName', 'MMRAcquisitionAuctionAveragePrice',\n",
    "       'MMRAcquisitionAuctionCleanPrice', 'MMRAcquisitionRetailAveragePrice',\n",
    "       'MMRAcquisitonRetailCleanPrice', 'MMRCurrentAuctionAveragePrice',\n",
    "       'MMRCurrentAuctionCleanPrice', 'MMRCurrentRetailAveragePrice',\n",
    "       'MMRCurrentRetailCleanPrice', 'PRIMEUNIT', 'AUCGUART', 'BYRNO',\n",
    "       'VNZIP1', 'VNST', 'VehBCost', 'IsOnlineSale', 'WarrantyCost']\n",
    "target_col = 'IsBadBuy'"
   ]
  },
  {
   "cell_type": "code",
   "execution_count": 28,
   "metadata": {
    "executionInfo": {
     "elapsed": 17,
     "status": "ok",
     "timestamp": 1627572392678,
     "user": {
      "displayName": "Matthew Oladiran",
      "photoUrl": "https://lh3.googleusercontent.com/a-/AOh14Gh8gzFroomEcpCvX9DbYCy3EqIAhBaajOv9aNCNbg=s64",
      "userId": "09145176024951036598"
     },
     "user_tz": -60
    },
    "id": "YhxxlFaTbkpk"
   },
   "outputs": [],
   "source": [
    "train_inputs = training_df[input_cols].copy()\n",
    "train_targets = training_df[target_col].copy()"
   ]
  },
  {
   "cell_type": "code",
   "execution_count": 29,
   "metadata": {
    "executionInfo": {
     "elapsed": 17,
     "status": "ok",
     "timestamp": 1627572392678,
     "user": {
      "displayName": "Matthew Oladiran",
      "photoUrl": "https://lh3.googleusercontent.com/a-/AOh14Gh8gzFroomEcpCvX9DbYCy3EqIAhBaajOv9aNCNbg=s64",
      "userId": "09145176024951036598"
     },
     "user_tz": -60
    },
    "id": "aIpUh1OCbkpk"
   },
   "outputs": [],
   "source": [
    "test_inputs = testing_df[input_cols].copy()\n",
    "test_targets = testing_df[target_col].copy()"
   ]
  },
  {
   "cell_type": "code",
   "execution_count": 30,
   "metadata": {
    "executionInfo": {
     "elapsed": 18,
     "status": "ok",
     "timestamp": 1627572392679,
     "user": {
      "displayName": "Matthew Oladiran",
      "photoUrl": "https://lh3.googleusercontent.com/a-/AOh14Gh8gzFroomEcpCvX9DbYCy3EqIAhBaajOv9aNCNbg=s64",
      "userId": "09145176024951036598"
     },
     "user_tz": -60
    },
    "id": "p8V8mmn3bkpk"
   },
   "outputs": [],
   "source": [
    "dtest_inputs = test_df[input_cols].copy()"
   ]
  },
  {
   "cell_type": "markdown",
   "metadata": {
    "id": "6JEEAEIubkpl"
   },
   "source": [
    "Let's also identify numeric and categorical columns. Note that we can treat binary categorical columns (0/1) as numeric columns.\n",
    "\n"
   ]
  },
  {
   "cell_type": "code",
   "execution_count": 31,
   "metadata": {
    "executionInfo": {
     "elapsed": 18,
     "status": "ok",
     "timestamp": 1627572392679,
     "user": {
      "displayName": "Matthew Oladiran",
      "photoUrl": "https://lh3.googleusercontent.com/a-/AOh14Gh8gzFroomEcpCvX9DbYCy3EqIAhBaajOv9aNCNbg=s64",
      "userId": "09145176024951036598"
     },
     "user_tz": -60
    },
    "id": "ghEloBASbkpl"
   },
   "outputs": [],
   "source": [
    "numeric_cols =train_inputs.select_dtypes(include=np.number).columns.tolist()\n",
    "categorical_cols = train_inputs.select_dtypes('object').columns.tolist()"
   ]
  },
  {
   "cell_type": "code",
   "execution_count": 32,
   "metadata": {
    "colab": {
     "base_uri": "https://localhost:8080/"
    },
    "executionInfo": {
     "elapsed": 18,
     "status": "ok",
     "timestamp": 1627572392680,
     "user": {
      "displayName": "Matthew Oladiran",
      "photoUrl": "https://lh3.googleusercontent.com/a-/AOh14Gh8gzFroomEcpCvX9DbYCy3EqIAhBaajOv9aNCNbg=s64",
      "userId": "09145176024951036598"
     },
     "user_tz": -60
    },
    "id": "LF_yhwPybkpl",
    "outputId": "d653a95b-7230-4c20-a466-8fac0a958dcf"
   },
   "outputs": [
    {
     "name": "stdout",
     "output_type": "stream",
     "text": [
      "['VehYear', 'VehicleAge', 'VehOdo', 'MMRAcquisitionAuctionAveragePrice', 'MMRAcquisitionAuctionCleanPrice', 'MMRAcquisitionRetailAveragePrice', 'MMRAcquisitonRetailCleanPrice', 'MMRCurrentAuctionAveragePrice', 'MMRCurrentAuctionCleanPrice', 'MMRCurrentRetailAveragePrice', 'MMRCurrentRetailCleanPrice', 'BYRNO', 'VNZIP1', 'VehBCost', 'IsOnlineSale', 'WarrantyCost']\n"
     ]
    }
   ],
   "source": [
    "print(numeric_cols)"
   ]
  },
  {
   "cell_type": "code",
   "execution_count": 33,
   "metadata": {
    "colab": {
     "base_uri": "https://localhost:8080/"
    },
    "executionInfo": {
     "elapsed": 16,
     "status": "ok",
     "timestamp": 1627572392680,
     "user": {
      "displayName": "Matthew Oladiran",
      "photoUrl": "https://lh3.googleusercontent.com/a-/AOh14Gh8gzFroomEcpCvX9DbYCy3EqIAhBaajOv9aNCNbg=s64",
      "userId": "09145176024951036598"
     },
     "user_tz": -60
    },
    "id": "Hg_1EO6Kbkpl",
    "outputId": "689f47f7-2ccb-4933-cef3-716eadf6bb0b"
   },
   "outputs": [
    {
     "name": "stdout",
     "output_type": "stream",
     "text": [
      "['Auction', 'Make', 'Model', 'Trim', 'SubModel', 'Color', 'Transmission', 'WheelType', 'Nationality', 'Size', 'TopThreeAmericanName', 'PRIMEUNIT', 'AUCGUART', 'VNST']\n"
     ]
    }
   ],
   "source": [
    "print(categorical_cols)"
   ]
  },
  {
   "cell_type": "markdown",
   "metadata": {
    "id": "_5nNBtSSbkpm"
   },
   "source": [
    "### Impute missing numerical data"
   ]
  },
  {
   "cell_type": "code",
   "execution_count": 34,
   "metadata": {
    "executionInfo": {
     "elapsed": 14,
     "status": "ok",
     "timestamp": 1627572392680,
     "user": {
      "displayName": "Matthew Oladiran",
      "photoUrl": "https://lh3.googleusercontent.com/a-/AOh14Gh8gzFroomEcpCvX9DbYCy3EqIAhBaajOv9aNCNbg=s64",
      "userId": "09145176024951036598"
     },
     "user_tz": -60
    },
    "id": "6gfL8kvnbkpm"
   },
   "outputs": [],
   "source": [
    "from sklearn.impute import SimpleImputer"
   ]
  },
  {
   "cell_type": "code",
   "execution_count": 35,
   "metadata": {
    "executionInfo": {
     "elapsed": 14,
     "status": "ok",
     "timestamp": 1627572392681,
     "user": {
      "displayName": "Matthew Oladiran",
      "photoUrl": "https://lh3.googleusercontent.com/a-/AOh14Gh8gzFroomEcpCvX9DbYCy3EqIAhBaajOv9aNCNbg=s64",
      "userId": "09145176024951036598"
     },
     "user_tz": -60
    },
    "id": "YsqFYQxfbkpm"
   },
   "outputs": [],
   "source": [
    "imputer = SimpleImputer(strategy = 'median').fit(train_df[numeric_cols])"
   ]
  },
  {
   "cell_type": "code",
   "execution_count": 36,
   "metadata": {
    "executionInfo": {
     "elapsed": 402,
     "status": "ok",
     "timestamp": 1627572393069,
     "user": {
      "displayName": "Matthew Oladiran",
      "photoUrl": "https://lh3.googleusercontent.com/a-/AOh14Gh8gzFroomEcpCvX9DbYCy3EqIAhBaajOv9aNCNbg=s64",
      "userId": "09145176024951036598"
     },
     "user_tz": -60
    },
    "id": "YbOesbc4bkpm"
   },
   "outputs": [],
   "source": [
    "train_inputs[numeric_cols] = imputer.transform(train_inputs[numeric_cols])\n",
    "test_inputs[numeric_cols] = imputer.transform(test_inputs[numeric_cols])"
   ]
  },
  {
   "cell_type": "code",
   "execution_count": 37,
   "metadata": {
    "colab": {
     "base_uri": "https://localhost:8080/",
     "height": 0
    },
    "executionInfo": {
     "elapsed": 5,
     "status": "ok",
     "timestamp": 1627572393069,
     "user": {
      "displayName": "Matthew Oladiran",
      "photoUrl": "https://lh3.googleusercontent.com/a-/AOh14Gh8gzFroomEcpCvX9DbYCy3EqIAhBaajOv9aNCNbg=s64",
      "userId": "09145176024951036598"
     },
     "user_tz": -60
    },
    "id": "SeOMVb8Mbkpm",
    "outputId": "935c1f4f-98d9-492a-8712-4edfcdcd3685"
   },
   "outputs": [
    {
     "data": {
      "text/html": [
       "<div>\n",
       "<style scoped>\n",
       "    .dataframe tbody tr th:only-of-type {\n",
       "        vertical-align: middle;\n",
       "    }\n",
       "\n",
       "    .dataframe tbody tr th {\n",
       "        vertical-align: top;\n",
       "    }\n",
       "\n",
       "    .dataframe thead th {\n",
       "        text-align: right;\n",
       "    }\n",
       "</style>\n",
       "<table border=\"1\" class=\"dataframe\">\n",
       "  <thead>\n",
       "    <tr style=\"text-align: right;\">\n",
       "      <th></th>\n",
       "      <th>VehYear</th>\n",
       "      <th>VehicleAge</th>\n",
       "      <th>VehOdo</th>\n",
       "      <th>MMRAcquisitionAuctionAveragePrice</th>\n",
       "      <th>MMRAcquisitionAuctionCleanPrice</th>\n",
       "      <th>MMRAcquisitionRetailAveragePrice</th>\n",
       "      <th>MMRAcquisitonRetailCleanPrice</th>\n",
       "      <th>MMRCurrentAuctionAveragePrice</th>\n",
       "      <th>MMRCurrentAuctionCleanPrice</th>\n",
       "      <th>MMRCurrentRetailAveragePrice</th>\n",
       "      <th>MMRCurrentRetailCleanPrice</th>\n",
       "      <th>BYRNO</th>\n",
       "      <th>VNZIP1</th>\n",
       "      <th>VehBCost</th>\n",
       "      <th>IsOnlineSale</th>\n",
       "      <th>WarrantyCost</th>\n",
       "    </tr>\n",
       "  </thead>\n",
       "  <tbody>\n",
       "    <tr>\n",
       "      <th>0</th>\n",
       "      <td>2005</td>\n",
       "      <td>4</td>\n",
       "      <td>85377</td>\n",
       "      <td>5032.0</td>\n",
       "      <td>6386.0</td>\n",
       "      <td>5935.0</td>\n",
       "      <td>7397.0</td>\n",
       "      <td>4905.0</td>\n",
       "      <td>6181.0</td>\n",
       "      <td>8557.0</td>\n",
       "      <td>9752.0</td>\n",
       "      <td>18881</td>\n",
       "      <td>30212</td>\n",
       "      <td>6500.0</td>\n",
       "      <td>0</td>\n",
       "      <td>2152</td>\n",
       "    </tr>\n",
       "    <tr>\n",
       "      <th>1</th>\n",
       "      <td>2005</td>\n",
       "      <td>4</td>\n",
       "      <td>61873</td>\n",
       "      <td>4502.0</td>\n",
       "      <td>5685.0</td>\n",
       "      <td>5362.0</td>\n",
       "      <td>6640.0</td>\n",
       "      <td>4645.0</td>\n",
       "      <td>5710.0</td>\n",
       "      <td>7562.0</td>\n",
       "      <td>9296.0</td>\n",
       "      <td>18111</td>\n",
       "      <td>30212</td>\n",
       "      <td>6300.0</td>\n",
       "      <td>0</td>\n",
       "      <td>1118</td>\n",
       "    </tr>\n",
       "    <tr>\n",
       "      <th>2</th>\n",
       "      <td>2006</td>\n",
       "      <td>3</td>\n",
       "      <td>69283</td>\n",
       "      <td>10244.0</td>\n",
       "      <td>13041.0</td>\n",
       "      <td>11564.0</td>\n",
       "      <td>14584.0</td>\n",
       "      <td>10883.0</td>\n",
       "      <td>12166.0</td>\n",
       "      <td>15340.0</td>\n",
       "      <td>16512.0</td>\n",
       "      <td>18111</td>\n",
       "      <td>30212</td>\n",
       "      <td>9700.0</td>\n",
       "      <td>0</td>\n",
       "      <td>1215</td>\n",
       "    </tr>\n",
       "    <tr>\n",
       "      <th>3</th>\n",
       "      <td>2002</td>\n",
       "      <td>7</td>\n",
       "      <td>87889</td>\n",
       "      <td>2558.0</td>\n",
       "      <td>3542.0</td>\n",
       "      <td>3263.0</td>\n",
       "      <td>4325.0</td>\n",
       "      <td>2928.0</td>\n",
       "      <td>3607.0</td>\n",
       "      <td>5725.0</td>\n",
       "      <td>6398.0</td>\n",
       "      <td>18881</td>\n",
       "      <td>30212</td>\n",
       "      <td>4150.0</td>\n",
       "      <td>0</td>\n",
       "      <td>1933</td>\n",
       "    </tr>\n",
       "    <tr>\n",
       "      <th>4</th>\n",
       "      <td>2007</td>\n",
       "      <td>2</td>\n",
       "      <td>73432</td>\n",
       "      <td>5013.0</td>\n",
       "      <td>6343.0</td>\n",
       "      <td>5914.0</td>\n",
       "      <td>7350.0</td>\n",
       "      <td>5013.0</td>\n",
       "      <td>6343.0</td>\n",
       "      <td>5914.0</td>\n",
       "      <td>7350.0</td>\n",
       "      <td>18111</td>\n",
       "      <td>30212</td>\n",
       "      <td>4100.0</td>\n",
       "      <td>0</td>\n",
       "      <td>920</td>\n",
       "    </tr>\n",
       "    <tr>\n",
       "      <th>...</th>\n",
       "      <td>...</td>\n",
       "      <td>...</td>\n",
       "      <td>...</td>\n",
       "      <td>...</td>\n",
       "      <td>...</td>\n",
       "      <td>...</td>\n",
       "      <td>...</td>\n",
       "      <td>...</td>\n",
       "      <td>...</td>\n",
       "      <td>...</td>\n",
       "      <td>...</td>\n",
       "      <td>...</td>\n",
       "      <td>...</td>\n",
       "      <td>...</td>\n",
       "      <td>...</td>\n",
       "      <td>...</td>\n",
       "    </tr>\n",
       "    <tr>\n",
       "      <th>48702</th>\n",
       "      <td>2005</td>\n",
       "      <td>5</td>\n",
       "      <td>88645</td>\n",
       "      <td>5358.0</td>\n",
       "      <td>6836.0</td>\n",
       "      <td>8987.0</td>\n",
       "      <td>10905.0</td>\n",
       "      <td>5761.0</td>\n",
       "      <td>6965.0</td>\n",
       "      <td>9764.0</td>\n",
       "      <td>11395.0</td>\n",
       "      <td>20928</td>\n",
       "      <td>33411</td>\n",
       "      <td>7955.0</td>\n",
       "      <td>0</td>\n",
       "      <td>1633</td>\n",
       "    </tr>\n",
       "    <tr>\n",
       "      <th>48703</th>\n",
       "      <td>2007</td>\n",
       "      <td>3</td>\n",
       "      <td>81862</td>\n",
       "      <td>6849.0</td>\n",
       "      <td>7992.0</td>\n",
       "      <td>10999.0</td>\n",
       "      <td>12021.0</td>\n",
       "      <td>6856.0</td>\n",
       "      <td>8183.0</td>\n",
       "      <td>10283.0</td>\n",
       "      <td>11565.0</td>\n",
       "      <td>20928</td>\n",
       "      <td>33411</td>\n",
       "      <td>7035.0</td>\n",
       "      <td>0</td>\n",
       "      <td>594</td>\n",
       "    </tr>\n",
       "    <tr>\n",
       "      <th>48704</th>\n",
       "      <td>2006</td>\n",
       "      <td>4</td>\n",
       "      <td>82451</td>\n",
       "      <td>4662.0</td>\n",
       "      <td>5655.0</td>\n",
       "      <td>7972.0</td>\n",
       "      <td>9670.0</td>\n",
       "      <td>4833.0</td>\n",
       "      <td>5856.0</td>\n",
       "      <td>7871.0</td>\n",
       "      <td>9490.0</td>\n",
       "      <td>20928</td>\n",
       "      <td>33411</td>\n",
       "      <td>6335.0</td>\n",
       "      <td>0</td>\n",
       "      <td>594</td>\n",
       "    </tr>\n",
       "    <tr>\n",
       "      <th>48705</th>\n",
       "      <td>2005</td>\n",
       "      <td>5</td>\n",
       "      <td>75760</td>\n",
       "      <td>5953.0</td>\n",
       "      <td>8166.0</td>\n",
       "      <td>9137.0</td>\n",
       "      <td>11949.0</td>\n",
       "      <td>5092.0</td>\n",
       "      <td>6853.0</td>\n",
       "      <td>8576.0</td>\n",
       "      <td>9937.0</td>\n",
       "      <td>20928</td>\n",
       "      <td>33411</td>\n",
       "      <td>8055.0</td>\n",
       "      <td>0</td>\n",
       "      <td>1038</td>\n",
       "    </tr>\n",
       "    <tr>\n",
       "      <th>48706</th>\n",
       "      <td>2003</td>\n",
       "      <td>7</td>\n",
       "      <td>82174</td>\n",
       "      <td>3269.0</td>\n",
       "      <td>4435.0</td>\n",
       "      <td>6893.0</td>\n",
       "      <td>8221.0</td>\n",
       "      <td>4526.0</td>\n",
       "      <td>5761.0</td>\n",
       "      <td>8266.0</td>\n",
       "      <td>9388.0</td>\n",
       "      <td>20928</td>\n",
       "      <td>33411</td>\n",
       "      <td>7755.0</td>\n",
       "      <td>0</td>\n",
       "      <td>5392</td>\n",
       "    </tr>\n",
       "  </tbody>\n",
       "</table>\n",
       "<p>48707 rows × 16 columns</p>\n",
       "</div>"
      ],
      "text/plain": [
       "       VehYear  VehicleAge  VehOdo  MMRAcquisitionAuctionAveragePrice  \\\n",
       "0         2005           4   85377                             5032.0   \n",
       "1         2005           4   61873                             4502.0   \n",
       "2         2006           3   69283                            10244.0   \n",
       "3         2002           7   87889                             2558.0   \n",
       "4         2007           2   73432                             5013.0   \n",
       "...        ...         ...     ...                                ...   \n",
       "48702     2005           5   88645                             5358.0   \n",
       "48703     2007           3   81862                             6849.0   \n",
       "48704     2006           4   82451                             4662.0   \n",
       "48705     2005           5   75760                             5953.0   \n",
       "48706     2003           7   82174                             3269.0   \n",
       "\n",
       "       MMRAcquisitionAuctionCleanPrice  MMRAcquisitionRetailAveragePrice  \\\n",
       "0                               6386.0                            5935.0   \n",
       "1                               5685.0                            5362.0   \n",
       "2                              13041.0                           11564.0   \n",
       "3                               3542.0                            3263.0   \n",
       "4                               6343.0                            5914.0   \n",
       "...                                ...                               ...   \n",
       "48702                           6836.0                            8987.0   \n",
       "48703                           7992.0                           10999.0   \n",
       "48704                           5655.0                            7972.0   \n",
       "48705                           8166.0                            9137.0   \n",
       "48706                           4435.0                            6893.0   \n",
       "\n",
       "       MMRAcquisitonRetailCleanPrice  MMRCurrentAuctionAveragePrice  \\\n",
       "0                             7397.0                         4905.0   \n",
       "1                             6640.0                         4645.0   \n",
       "2                            14584.0                        10883.0   \n",
       "3                             4325.0                         2928.0   \n",
       "4                             7350.0                         5013.0   \n",
       "...                              ...                            ...   \n",
       "48702                        10905.0                         5761.0   \n",
       "48703                        12021.0                         6856.0   \n",
       "48704                         9670.0                         4833.0   \n",
       "48705                        11949.0                         5092.0   \n",
       "48706                         8221.0                         4526.0   \n",
       "\n",
       "       MMRCurrentAuctionCleanPrice  MMRCurrentRetailAveragePrice  \\\n",
       "0                           6181.0                        8557.0   \n",
       "1                           5710.0                        7562.0   \n",
       "2                          12166.0                       15340.0   \n",
       "3                           3607.0                        5725.0   \n",
       "4                           6343.0                        5914.0   \n",
       "...                            ...                           ...   \n",
       "48702                       6965.0                        9764.0   \n",
       "48703                       8183.0                       10283.0   \n",
       "48704                       5856.0                        7871.0   \n",
       "48705                       6853.0                        8576.0   \n",
       "48706                       5761.0                        8266.0   \n",
       "\n",
       "       MMRCurrentRetailCleanPrice  BYRNO  VNZIP1  VehBCost  IsOnlineSale  \\\n",
       "0                          9752.0  18881   30212    6500.0             0   \n",
       "1                          9296.0  18111   30212    6300.0             0   \n",
       "2                         16512.0  18111   30212    9700.0             0   \n",
       "3                          6398.0  18881   30212    4150.0             0   \n",
       "4                          7350.0  18111   30212    4100.0             0   \n",
       "...                           ...    ...     ...       ...           ...   \n",
       "48702                     11395.0  20928   33411    7955.0             0   \n",
       "48703                     11565.0  20928   33411    7035.0             0   \n",
       "48704                      9490.0  20928   33411    6335.0             0   \n",
       "48705                      9937.0  20928   33411    8055.0             0   \n",
       "48706                      9388.0  20928   33411    7755.0             0   \n",
       "\n",
       "       WarrantyCost  \n",
       "0              2152  \n",
       "1              1118  \n",
       "2              1215  \n",
       "3              1933  \n",
       "4               920  \n",
       "...             ...  \n",
       "48702          1633  \n",
       "48703           594  \n",
       "48704           594  \n",
       "48705          1038  \n",
       "48706          5392  \n",
       "\n",
       "[48707 rows x 16 columns]"
      ]
     },
     "execution_count": 37,
     "metadata": {
      "tags": []
     },
     "output_type": "execute_result"
    }
   ],
   "source": [
    "dtest_inputs[numeric_cols]"
   ]
  },
  {
   "cell_type": "code",
   "execution_count": 38,
   "metadata": {
    "executionInfo": {
     "elapsed": 5,
     "status": "ok",
     "timestamp": 1627572393070,
     "user": {
      "displayName": "Matthew Oladiran",
      "photoUrl": "https://lh3.googleusercontent.com/a-/AOh14Gh8gzFroomEcpCvX9DbYCy3EqIAhBaajOv9aNCNbg=s64",
      "userId": "09145176024951036598"
     },
     "user_tz": -60
    },
    "id": "BIs53eBqbkpn"
   },
   "outputs": [],
   "source": [
    "imputers = SimpleImputer(strategy = 'median').fit(test_df[numeric_cols])"
   ]
  },
  {
   "cell_type": "code",
   "execution_count": 39,
   "metadata": {
    "executionInfo": {
     "elapsed": 432,
     "status": "ok",
     "timestamp": 1627572393497,
     "user": {
      "displayName": "Matthew Oladiran",
      "photoUrl": "https://lh3.googleusercontent.com/a-/AOh14Gh8gzFroomEcpCvX9DbYCy3EqIAhBaajOv9aNCNbg=s64",
      "userId": "09145176024951036598"
     },
     "user_tz": -60
    },
    "id": "sjeRNXqKbkpn"
   },
   "outputs": [],
   "source": [
    "dtest_inputs[numeric_cols] = imputers.transform(dtest_inputs[numeric_cols])"
   ]
  },
  {
   "cell_type": "code",
   "execution_count": 40,
   "metadata": {
    "colab": {
     "base_uri": "https://localhost:8080/"
    },
    "executionInfo": {
     "elapsed": 6,
     "status": "ok",
     "timestamp": 1627572393498,
     "user": {
      "displayName": "Matthew Oladiran",
      "photoUrl": "https://lh3.googleusercontent.com/a-/AOh14Gh8gzFroomEcpCvX9DbYCy3EqIAhBaajOv9aNCNbg=s64",
      "userId": "09145176024951036598"
     },
     "user_tz": -60
    },
    "id": "Oa_XzBmSbkpn",
    "outputId": "72ab60ba-f01e-4842-bcb1-54fcde65abc1"
   },
   "outputs": [
    {
     "data": {
      "text/plain": [
       "VehYear                              0\n",
       "VehicleAge                           0\n",
       "VehOdo                               0\n",
       "MMRAcquisitionAuctionAveragePrice    0\n",
       "MMRAcquisitionAuctionCleanPrice      0\n",
       "MMRAcquisitionRetailAveragePrice     0\n",
       "MMRAcquisitonRetailCleanPrice        0\n",
       "MMRCurrentAuctionAveragePrice        0\n",
       "MMRCurrentAuctionCleanPrice          0\n",
       "MMRCurrentRetailAveragePrice         0\n",
       "MMRCurrentRetailCleanPrice           0\n",
       "BYRNO                                0\n",
       "VNZIP1                               0\n",
       "VehBCost                             0\n",
       "IsOnlineSale                         0\n",
       "WarrantyCost                         0\n",
       "dtype: int64"
      ]
     },
     "execution_count": 40,
     "metadata": {
      "tags": []
     },
     "output_type": "execute_result"
    }
   ],
   "source": [
    "train_inputs[numeric_cols].isna().sum()"
   ]
  },
  {
   "cell_type": "code",
   "execution_count": 41,
   "metadata": {
    "colab": {
     "base_uri": "https://localhost:8080/"
    },
    "executionInfo": {
     "elapsed": 5,
     "status": "ok",
     "timestamp": 1627572393498,
     "user": {
      "displayName": "Matthew Oladiran",
      "photoUrl": "https://lh3.googleusercontent.com/a-/AOh14Gh8gzFroomEcpCvX9DbYCy3EqIAhBaajOv9aNCNbg=s64",
      "userId": "09145176024951036598"
     },
     "user_tz": -60
    },
    "id": "XHFn8LX4bkpn",
    "outputId": "523d5571-e4a8-470b-b390-50f6985ec320"
   },
   "outputs": [
    {
     "data": {
      "text/plain": [
       "VehYear                              0\n",
       "VehicleAge                           0\n",
       "VehOdo                               0\n",
       "MMRAcquisitionAuctionAveragePrice    0\n",
       "MMRAcquisitionAuctionCleanPrice      0\n",
       "MMRAcquisitionRetailAveragePrice     0\n",
       "MMRAcquisitonRetailCleanPrice        0\n",
       "MMRCurrentAuctionAveragePrice        0\n",
       "MMRCurrentAuctionCleanPrice          0\n",
       "MMRCurrentRetailAveragePrice         0\n",
       "MMRCurrentRetailCleanPrice           0\n",
       "BYRNO                                0\n",
       "VNZIP1                               0\n",
       "VehBCost                             0\n",
       "IsOnlineSale                         0\n",
       "WarrantyCost                         0\n",
       "dtype: int64"
      ]
     },
     "execution_count": 41,
     "metadata": {
      "tags": []
     },
     "output_type": "execute_result"
    }
   ],
   "source": [
    "dtest_inputs[numeric_cols].isnull().sum()"
   ]
  },
  {
   "cell_type": "markdown",
   "metadata": {
    "id": "XNT55488bkpo"
   },
   "source": [
    "## Scaling Numeric Features\n",
    "\n",
    "Another good practice is to scale numeric features to a small range of values e.g. $(0,1)$ or $(-1,1)$. Scaling numeric features ensures that no particular feature has a disproportionate impact on the model's loss. Optimization algorithms also work better in practice with smaller numbers.\n",
    "\n",
    "The numeric columns in our dataset have varying ranges."
   ]
  },
  {
   "cell_type": "code",
   "execution_count": 42,
   "metadata": {
    "executionInfo": {
     "elapsed": 4,
     "status": "ok",
     "timestamp": 1627572393498,
     "user": {
      "displayName": "Matthew Oladiran",
      "photoUrl": "https://lh3.googleusercontent.com/a-/AOh14Gh8gzFroomEcpCvX9DbYCy3EqIAhBaajOv9aNCNbg=s64",
      "userId": "09145176024951036598"
     },
     "user_tz": -60
    },
    "id": "-Zg9SVkybkpo"
   },
   "outputs": [],
   "source": [
    "from sklearn.preprocessing import MinMaxScaler"
   ]
  },
  {
   "cell_type": "code",
   "execution_count": 43,
   "metadata": {
    "executionInfo": {
     "elapsed": 4,
     "status": "ok",
     "timestamp": 1627572393498,
     "user": {
      "displayName": "Matthew Oladiran",
      "photoUrl": "https://lh3.googleusercontent.com/a-/AOh14Gh8gzFroomEcpCvX9DbYCy3EqIAhBaajOv9aNCNbg=s64",
      "userId": "09145176024951036598"
     },
     "user_tz": -60
    },
    "id": "pPG3xFVkbkpo"
   },
   "outputs": [],
   "source": [
    "scaler = MinMaxScaler().fit(train_inputs[numeric_cols])"
   ]
  },
  {
   "cell_type": "code",
   "execution_count": 44,
   "metadata": {
    "executionInfo": {
     "elapsed": 490,
     "status": "ok",
     "timestamp": 1627572393985,
     "user": {
      "displayName": "Matthew Oladiran",
      "photoUrl": "https://lh3.googleusercontent.com/a-/AOh14Gh8gzFroomEcpCvX9DbYCy3EqIAhBaajOv9aNCNbg=s64",
      "userId": "09145176024951036598"
     },
     "user_tz": -60
    },
    "id": "yJK9_2P8bkpo"
   },
   "outputs": [],
   "source": [
    "train_inputs[numeric_cols] = scaler.transform(train_inputs[numeric_cols])\n",
    "test_inputs[numeric_cols] = scaler.transform(test_inputs[numeric_cols])\n",
    "dtest_inputs[numeric_cols] = scaler.transform(dtest_inputs[numeric_cols])"
   ]
  },
  {
   "cell_type": "markdown",
   "metadata": {
    "id": "B2EiSxLzbkpp"
   },
   "source": [
    "### Encode Categorical Columns\n",
    "\n",
    "<img src=\"https://i.imgur.com/n8GuiOO.png\" width=\"640\">\n",
    "\n",
    "Let's one-hot encode categorical columns."
   ]
  },
  {
   "cell_type": "code",
   "execution_count": 45,
   "metadata": {
    "executionInfo": {
     "elapsed": 7,
     "status": "ok",
     "timestamp": 1627572393985,
     "user": {
      "displayName": "Matthew Oladiran",
      "photoUrl": "https://lh3.googleusercontent.com/a-/AOh14Gh8gzFroomEcpCvX9DbYCy3EqIAhBaajOv9aNCNbg=s64",
      "userId": "09145176024951036598"
     },
     "user_tz": -60
    },
    "id": "v516EtNhbkpp"
   },
   "outputs": [],
   "source": [
    "from sklearn.preprocessing import OneHotEncoder"
   ]
  },
  {
   "cell_type": "code",
   "execution_count": 46,
   "metadata": {
    "executionInfo": {
     "elapsed": 8,
     "status": "ok",
     "timestamp": 1627572393987,
     "user": {
      "displayName": "Matthew Oladiran",
      "photoUrl": "https://lh3.googleusercontent.com/a-/AOh14Gh8gzFroomEcpCvX9DbYCy3EqIAhBaajOv9aNCNbg=s64",
      "userId": "09145176024951036598"
     },
     "user_tz": -60
    },
    "id": "VKi0t-WPbkpp"
   },
   "outputs": [],
   "source": [
    "encoder = OneHotEncoder(sparse=False, handle_unknown='ignore').fit(train_inputs[categorical_cols])\n",
    "encoded_cols = list(encoder.get_feature_names(categorical_cols))"
   ]
  },
  {
   "cell_type": "code",
   "execution_count": 47,
   "metadata": {
    "colab": {
     "base_uri": "https://localhost:8080/",
     "height": 86
    },
    "executionInfo": {
     "elapsed": 2099,
     "status": "ok",
     "timestamp": 1627572396078,
     "user": {
      "displayName": "Matthew Oladiran",
      "photoUrl": "https://lh3.googleusercontent.com/a-/AOh14Gh8gzFroomEcpCvX9DbYCy3EqIAhBaajOv9aNCNbg=s64",
      "userId": "09145176024951036598"
     },
     "user_tz": -60
    },
    "id": "U1DE4BC7bkpp",
    "outputId": "71782319-1871-4845-ffc6-7832b9589ac0"
   },
   "outputs": [
    {
     "name": "stdout",
     "output_type": "stream",
     "text": [
      "[jovian] Detected Colab notebook...\u001b[0m\n",
      "[jovian] Uploading colab notebook to Jovian...\u001b[0m\n",
      "Committed successfully! https://jovian.ai/toyoski/my-jovian-project\n"
     ]
    },
    {
     "data": {
      "application/vnd.google.colaboratory.intrinsic+json": {
       "type": "string"
      },
      "text/plain": [
       "'https://jovian.ai/toyoski/my-jovian-project'"
      ]
     },
     "execution_count": 47,
     "metadata": {
      "tags": []
     },
     "output_type": "execute_result"
    }
   ],
   "source": [
    "jovian.commit()"
   ]
  },
  {
   "cell_type": "code",
   "execution_count": 48,
   "metadata": {
    "executionInfo": {
     "elapsed": 180891,
     "status": "ok",
     "timestamp": 1627572576966,
     "user": {
      "displayName": "Matthew Oladiran",
      "photoUrl": "https://lh3.googleusercontent.com/a-/AOh14Gh8gzFroomEcpCvX9DbYCy3EqIAhBaajOv9aNCNbg=s64",
      "userId": "09145176024951036598"
     },
     "user_tz": -60
    },
    "id": "9-kEpGl_bkpq"
   },
   "outputs": [],
   "source": [
    "train_inputs[encoded_cols] = encoder.transform(train_inputs[categorical_cols])\n",
    "test_inputs[encoded_cols] = encoder.transform(test_inputs[categorical_cols])\n",
    "dtest_inputs[encoded_cols] = encoder.transform(dtest_inputs[categorical_cols])"
   ]
  },
  {
   "cell_type": "code",
   "execution_count": 49,
   "metadata": {
    "executionInfo": {
     "elapsed": 1432,
     "status": "ok",
     "timestamp": 1627572578390,
     "user": {
      "displayName": "Matthew Oladiran",
      "photoUrl": "https://lh3.googleusercontent.com/a-/AOh14Gh8gzFroomEcpCvX9DbYCy3EqIAhBaajOv9aNCNbg=s64",
      "userId": "09145176024951036598"
     },
     "user_tz": -60
    },
    "id": "4g4ItGI1eTCj"
   },
   "outputs": [],
   "source": [
    "X_train = train_inputs[numeric_cols + encoded_cols]\n",
    "X_val = test_inputs[numeric_cols + encoded_cols]\n",
    "X_test = dtest_inputs[numeric_cols + encoded_cols]"
   ]
  },
  {
   "cell_type": "code",
   "execution_count": 50,
   "metadata": {
    "executionInfo": {
     "elapsed": 3,
     "status": "ok",
     "timestamp": 1627572578390,
     "user": {
      "displayName": "Matthew Oladiran",
      "photoUrl": "https://lh3.googleusercontent.com/a-/AOh14Gh8gzFroomEcpCvX9DbYCy3EqIAhBaajOv9aNCNbg=s64",
      "userId": "09145176024951036598"
     },
     "user_tz": -60
    },
    "id": "rZ8BKJXoeTbg"
   },
   "outputs": [],
   "source": [
    "from sklearn.tree import DecisionTreeClassifier\n",
    "model = DecisionTreeClassifier(random_state=0)"
   ]
  },
  {
   "cell_type": "code",
   "execution_count": 51,
   "metadata": {
    "colab": {
     "base_uri": "https://localhost:8080/"
    },
    "executionInfo": {
     "elapsed": 16969,
     "status": "ok",
     "timestamp": 1627572595357,
     "user": {
      "displayName": "Matthew Oladiran",
      "photoUrl": "https://lh3.googleusercontent.com/a-/AOh14Gh8gzFroomEcpCvX9DbYCy3EqIAhBaajOv9aNCNbg=s64",
      "userId": "09145176024951036598"
     },
     "user_tz": -60
    },
    "id": "HU59PH5xeTeX",
    "outputId": "d263e722-7cf3-46bd-fa0e-1ea14ee5303f"
   },
   "outputs": [
    {
     "name": "stdout",
     "output_type": "stream",
     "text": [
      "CPU times: user 16.7 s, sys: 259 ms, total: 17 s\n",
      "Wall time: 16.9 s\n"
     ]
    },
    {
     "data": {
      "text/plain": [
       "DecisionTreeClassifier(random_state=0)"
      ]
     },
     "execution_count": 51,
     "metadata": {
      "tags": []
     },
     "output_type": "execute_result"
    }
   ],
   "source": [
    "%%time\n",
    "model.fit(X_train, train_targets)"
   ]
  },
  {
   "cell_type": "code",
   "execution_count": 52,
   "metadata": {
    "executionInfo": {
     "elapsed": 9,
     "status": "ok",
     "timestamp": 1627572595357,
     "user": {
      "displayName": "Matthew Oladiran",
      "photoUrl": "https://lh3.googleusercontent.com/a-/AOh14Gh8gzFroomEcpCvX9DbYCy3EqIAhBaajOv9aNCNbg=s64",
      "userId": "09145176024951036598"
     },
     "user_tz": -60
    },
    "id": "AtybUse8eTgg"
   },
   "outputs": [],
   "source": [
    "from sklearn.metrics import accuracy_score, confusion_matrix"
   ]
  },
  {
   "cell_type": "code",
   "execution_count": 53,
   "metadata": {
    "executionInfo": {
     "elapsed": 9,
     "status": "ok",
     "timestamp": 1627572595358,
     "user": {
      "displayName": "Matthew Oladiran",
      "photoUrl": "https://lh3.googleusercontent.com/a-/AOh14Gh8gzFroomEcpCvX9DbYCy3EqIAhBaajOv9aNCNbg=s64",
      "userId": "09145176024951036598"
     },
     "user_tz": -60
    },
    "id": "-0W6_7tCeTjv"
   },
   "outputs": [],
   "source": [
    "train_preds = model.predict(X_train)"
   ]
  },
  {
   "cell_type": "code",
   "execution_count": 54,
   "metadata": {
    "colab": {
     "base_uri": "https://localhost:8080/"
    },
    "executionInfo": {
     "elapsed": 552,
     "status": "ok",
     "timestamp": 1627572595901,
     "user": {
      "displayName": "Matthew Oladiran",
      "photoUrl": "https://lh3.googleusercontent.com/a-/AOh14Gh8gzFroomEcpCvX9DbYCy3EqIAhBaajOv9aNCNbg=s64",
      "userId": "09145176024951036598"
     },
     "user_tz": -60
    },
    "id": "gOo4y4i3gTg3",
    "outputId": "fb03ff8b-8e8e-4a8d-ed3e-11ff10f578b4"
   },
   "outputs": [
    {
     "data": {
      "text/plain": [
       "array([1, 0, 0, ..., 0, 0, 0])"
      ]
     },
     "execution_count": 54,
     "metadata": {
      "tags": []
     },
     "output_type": "execute_result"
    }
   ],
   "source": [
    "train_preds"
   ]
  },
  {
   "cell_type": "code",
   "execution_count": 55,
   "metadata": {
    "colab": {
     "base_uri": "https://localhost:8080/"
    },
    "executionInfo": {
     "elapsed": 4,
     "status": "ok",
     "timestamp": 1627572595901,
     "user": {
      "displayName": "Matthew Oladiran",
      "photoUrl": "https://lh3.googleusercontent.com/a-/AOh14Gh8gzFroomEcpCvX9DbYCy3EqIAhBaajOv9aNCNbg=s64",
      "userId": "09145176024951036598"
     },
     "user_tz": -60
    },
    "id": "h24TMN1IgTjB",
    "outputId": "97bd7bbf-2dc0-4963-8aaf-6dd9c1f3c1d3"
   },
   "outputs": [
    {
     "data": {
      "text/plain": [
       "1.0"
      ]
     },
     "execution_count": 55,
     "metadata": {
      "tags": []
     },
     "output_type": "execute_result"
    }
   ],
   "source": [
    "accuracy_score(train_targets, train_preds)"
   ]
  },
  {
   "cell_type": "code",
   "execution_count": 56,
   "metadata": {
    "colab": {
     "base_uri": "https://localhost:8080/"
    },
    "executionInfo": {
     "elapsed": 3,
     "status": "ok",
     "timestamp": 1627572595901,
     "user": {
      "displayName": "Matthew Oladiran",
      "photoUrl": "https://lh3.googleusercontent.com/a-/AOh14Gh8gzFroomEcpCvX9DbYCy3EqIAhBaajOv9aNCNbg=s64",
      "userId": "09145176024951036598"
     },
     "user_tz": -60
    },
    "id": "2i5WfeDQgTmf",
    "outputId": "ca9b1acf-808f-4848-8b36-fafd07c4bf5e"
   },
   "outputs": [
    {
     "data": {
      "text/plain": [
       "0.8345741036766385"
      ]
     },
     "execution_count": 56,
     "metadata": {
      "tags": []
     },
     "output_type": "execute_result"
    }
   ],
   "source": [
    "model.score(X_val, test_targets)"
   ]
  },
  {
   "cell_type": "code",
   "execution_count": 57,
   "metadata": {
    "executionInfo": {
     "elapsed": 3,
     "status": "ok",
     "timestamp": 1627572595902,
     "user": {
      "displayName": "Matthew Oladiran",
      "photoUrl": "https://lh3.googleusercontent.com/a-/AOh14Gh8gzFroomEcpCvX9DbYCy3EqIAhBaajOv9aNCNbg=s64",
      "userId": "09145176024951036598"
     },
     "user_tz": -60
    },
    "id": "uip-g5-EgTo8"
   },
   "outputs": [],
   "source": [
    "from sklearn.tree import plot_tree, export_text"
   ]
  },
  {
   "cell_type": "code",
   "execution_count": 58,
   "metadata": {
    "colab": {
     "base_uri": "https://localhost:8080/",
     "height": 459
    },
    "executionInfo": {
     "elapsed": 3428,
     "status": "ok",
     "timestamp": 1627572599327,
     "user": {
      "displayName": "Matthew Oladiran",
      "photoUrl": "https://lh3.googleusercontent.com/a-/AOh14Gh8gzFroomEcpCvX9DbYCy3EqIAhBaajOv9aNCNbg=s64",
      "userId": "09145176024951036598"
     },
     "user_tz": -60
    },
    "id": "pVc5zBlWgTrY",
    "outputId": "624ebb22-65f9-4589-e04c-59bc5847b1d4"
   },
   "outputs": [
    {
     "data": {
      "image/png": "[encoded data removed]",
      "text/plain": [
       "<Figure size 5760x1440 with 1 Axes>"
      ]
     },
     "metadata": {
      "needs_background": "light",
      "tags": []
     },
     "output_type": "display_data"
    }
   ],
   "source": [
    "plt.figure(figsize=(80,20))\n",
    "plot_tree(model, feature_names=X_train.columns, max_depth=2, filled=True);"
   ]
  },
  {
   "cell_type": "code",
   "execution_count": 59,
   "metadata": {
    "colab": {
     "base_uri": "https://localhost:8080/"
    },
    "executionInfo": {
     "elapsed": 13,
     "status": "ok",
     "timestamp": 1627572599328,
     "user": {
      "displayName": "Matthew Oladiran",
      "photoUrl": "https://lh3.googleusercontent.com/a-/AOh14Gh8gzFroomEcpCvX9DbYCy3EqIAhBaajOv9aNCNbg=s64",
      "userId": "09145176024951036598"
     },
     "user_tz": -60
    },
    "id": "s--ucfxQgTtw",
    "outputId": "c2f3c331-9d69-4c58-d31f-c453613aed71"
   },
   "outputs": [
    {
     "data": {
      "text/plain": [
       "103"
      ]
     },
     "execution_count": 59,
     "metadata": {
      "tags": []
     },
     "output_type": "execute_result"
    }
   ],
   "source": [
    "model.tree_.max_depth"
   ]
  },
  {
   "cell_type": "code",
   "execution_count": 60,
   "metadata": {
    "colab": {
     "base_uri": "https://localhost:8080/"
    },
    "executionInfo": {
     "elapsed": 10,
     "status": "ok",
     "timestamp": 1627572599329,
     "user": {
      "displayName": "Matthew Oladiran",
      "photoUrl": "https://lh3.googleusercontent.com/a-/AOh14Gh8gzFroomEcpCvX9DbYCy3EqIAhBaajOv9aNCNbg=s64",
      "userId": "09145176024951036598"
     },
     "user_tz": -60
    },
    "id": "-hZJ6W87gTv2",
    "outputId": "0691ac28-9af3-43f2-9815-d42f6846e500"
   },
   "outputs": [
    {
     "data": {
      "text/plain": [
       "array([0.00636379, 0.01890466, 0.06782123, ..., 0.00161483, 0.00023681,\n",
       "       0.00050239])"
      ]
     },
     "execution_count": 60,
     "metadata": {
      "tags": []
     },
     "output_type": "execute_result"
    }
   ],
   "source": [
    "model.feature_importances_"
   ]
  },
  {
   "cell_type": "code",
   "execution_count": 61,
   "metadata": {
    "executionInfo": {
     "elapsed": 9,
     "status": "ok",
     "timestamp": 1627572599329,
     "user": {
      "displayName": "Matthew Oladiran",
      "photoUrl": "https://lh3.googleusercontent.com/a-/AOh14Gh8gzFroomEcpCvX9DbYCy3EqIAhBaajOv9aNCNbg=s64",
      "userId": "09145176024951036598"
     },
     "user_tz": -60
    },
    "id": "GpPIWlD2gTzX"
   },
   "outputs": [],
   "source": [
    "importance_df = pd.DataFrame({\n",
    "    'feature': X_train.columns,\n",
    "    'importance': model.feature_importances_\n",
    "}).sort_values('importance', ascending=False)"
   ]
  },
  {
   "cell_type": "code",
   "execution_count": 62,
   "metadata": {
    "colab": {
     "base_uri": "https://localhost:8080/",
     "height": 359
    },
    "executionInfo": {
     "elapsed": 8,
     "status": "ok",
     "timestamp": 1627572599329,
     "user": {
      "displayName": "Matthew Oladiran",
      "photoUrl": "https://lh3.googleusercontent.com/a-/AOh14Gh8gzFroomEcpCvX9DbYCy3EqIAhBaajOv9aNCNbg=s64",
      "userId": "09145176024951036598"
     },
     "user_tz": -60
    },
    "id": "x0LuLpx5jJVx",
    "outputId": "0fa4a231-a5c1-4a89-8b9c-5e7d0f3afd72"
   },
   "outputs": [
    {
     "data": {
      "text/html": [
       "<div>\n",
       "<style scoped>\n",
       "    .dataframe tbody tr th:only-of-type {\n",
       "        vertical-align: middle;\n",
       "    }\n",
       "\n",
       "    .dataframe tbody tr th {\n",
       "        vertical-align: top;\n",
       "    }\n",
       "\n",
       "    .dataframe thead th {\n",
       "        text-align: right;\n",
       "    }\n",
       "</style>\n",
       "<table border=\"1\" class=\"dataframe\">\n",
       "  <thead>\n",
       "    <tr style=\"text-align: right;\">\n",
       "      <th></th>\n",
       "      <th>feature</th>\n",
       "      <th>importance</th>\n",
       "    </tr>\n",
       "  </thead>\n",
       "  <tbody>\n",
       "    <tr>\n",
       "      <th>2045</th>\n",
       "      <td>WheelType_nan</td>\n",
       "      <td>0.139639</td>\n",
       "    </tr>\n",
       "    <tr>\n",
       "      <th>2</th>\n",
       "      <td>VehOdo</td>\n",
       "      <td>0.067821</td>\n",
       "    </tr>\n",
       "    <tr>\n",
       "      <th>13</th>\n",
       "      <td>VehBCost</td>\n",
       "      <td>0.052303</td>\n",
       "    </tr>\n",
       "    <tr>\n",
       "      <th>12</th>\n",
       "      <td>VNZIP1</td>\n",
       "      <td>0.045093</td>\n",
       "    </tr>\n",
       "    <tr>\n",
       "      <th>11</th>\n",
       "      <td>BYRNO</td>\n",
       "      <td>0.038137</td>\n",
       "    </tr>\n",
       "    <tr>\n",
       "      <th>10</th>\n",
       "      <td>MMRCurrentRetailCleanPrice</td>\n",
       "      <td>0.036912</td>\n",
       "    </tr>\n",
       "    <tr>\n",
       "      <th>9</th>\n",
       "      <td>MMRCurrentRetailAveragePrice</td>\n",
       "      <td>0.034438</td>\n",
       "    </tr>\n",
       "    <tr>\n",
       "      <th>3</th>\n",
       "      <td>MMRAcquisitionAuctionAveragePrice</td>\n",
       "      <td>0.031590</td>\n",
       "    </tr>\n",
       "    <tr>\n",
       "      <th>7</th>\n",
       "      <td>MMRCurrentAuctionAveragePrice</td>\n",
       "      <td>0.029812</td>\n",
       "    </tr>\n",
       "    <tr>\n",
       "      <th>8</th>\n",
       "      <td>MMRCurrentAuctionCleanPrice</td>\n",
       "      <td>0.028847</td>\n",
       "    </tr>\n",
       "  </tbody>\n",
       "</table>\n",
       "</div>"
      ],
      "text/plain": [
       "                                feature  importance\n",
       "2045                      WheelType_nan    0.139639\n",
       "2                                VehOdo    0.067821\n",
       "13                             VehBCost    0.052303\n",
       "12                               VNZIP1    0.045093\n",
       "11                                BYRNO    0.038137\n",
       "10           MMRCurrentRetailCleanPrice    0.036912\n",
       "9          MMRCurrentRetailAveragePrice    0.034438\n",
       "3     MMRAcquisitionAuctionAveragePrice    0.031590\n",
       "7         MMRCurrentAuctionAveragePrice    0.029812\n",
       "8           MMRCurrentAuctionCleanPrice    0.028847"
      ]
     },
     "execution_count": 62,
     "metadata": {
      "tags": []
     },
     "output_type": "execute_result"
    }
   ],
   "source": [
    "importance_df.head(10)"
   ]
  },
  {
   "cell_type": "code",
   "execution_count": 63,
   "metadata": {
    "colab": {
     "base_uri": "https://localhost:8080/",
     "height": 416
    },
    "executionInfo": {
     "elapsed": 912,
     "status": "ok",
     "timestamp": 1627572600234,
     "user": {
      "displayName": "Matthew Oladiran",
      "photoUrl": "https://lh3.googleusercontent.com/a-/AOh14Gh8gzFroomEcpCvX9DbYCy3EqIAhBaajOv9aNCNbg=s64",
      "userId": "09145176024951036598"
     },
     "user_tz": -60
    },
    "id": "HNWB-5k4jJZY",
    "outputId": "50138ab9-543a-4c07-bfce-324e5b7e3e65"
   },
   "outputs": [
    {
     "data": {
      "image/png": "[encoded data removed]",
      "text/plain": [
       "<Figure size 720x432 with 1 Axes>"
      ]
     },
     "metadata": {
      "needs_background": "light",
      "tags": []
     },
     "output_type": "display_data"
    }
   ],
   "source": [
    "plt.title('Feature Importance')\n",
    "sns.barplot(data=importance_df.head(10), x='importance', y='feature');"
   ]
  },
  {
   "cell_type": "code",
   "execution_count": 64,
   "metadata": {
    "colab": {
     "base_uri": "https://localhost:8080/",
     "height": 86
    },
    "executionInfo": {
     "elapsed": 566,
     "status": "ok",
     "timestamp": 1627572600795,
     "user": {
      "displayName": "Matthew Oladiran",
      "photoUrl": "https://lh3.googleusercontent.com/a-/AOh14Gh8gzFroomEcpCvX9DbYCy3EqIAhBaajOv9aNCNbg=s64",
      "userId": "09145176024951036598"
     },
     "user_tz": -60
    },
    "id": "aKuFVtg0jJcx",
    "outputId": "61a106a0-41f7-4213-e6c1-0d36e4c4a917"
   },
   "outputs": [
    {
     "name": "stdout",
     "output_type": "stream",
     "text": [
      "[jovian] Detected Colab notebook...\u001b[0m\n",
      "[jovian] Uploading colab notebook to Jovian...\u001b[0m\n",
      "Committed successfully! https://jovian.ai/toyoski/my-jovian-project\n"
     ]
    },
    {
     "data": {
      "application/vnd.google.colaboratory.intrinsic+json": {
       "type": "string"
      },
      "text/plain": [
       "'https://jovian.ai/toyoski/my-jovian-project'"
      ]
     },
     "execution_count": 64,
     "metadata": {
      "tags": []
     },
     "output_type": "execute_result"
    }
   ],
   "source": [
    "jovian.commit()"
   ]
  },
  {
   "cell_type": "markdown",
   "metadata": {
    "id": "F_kLtgNMjnKs"
   },
   "source": [
    "Hyperparameter Tuning and Overfitting\n",
    "As we saw in the previous section, our decision tree classifier memorized all training examples, leading to a 100% training accuracy, while the validation accuracy was only marginally better than a dumb baseline model. This phenomenon is called overfitting, and in this section, we'll look at some strategies for reducing overfitting. The process of reducing overfitting is known as regularlization.\n",
    "\n",
    "The DecisionTreeClassifier accepts several arguments, some of which can be modified to reduce overfitting."
   ]
  },
  {
   "cell_type": "code",
   "execution_count": 65,
   "metadata": {
    "executionInfo": {
     "elapsed": 5,
     "status": "ok",
     "timestamp": 1627572600796,
     "user": {
      "displayName": "Matthew Oladiran",
      "photoUrl": "https://lh3.googleusercontent.com/a-/AOh14Gh8gzFroomEcpCvX9DbYCy3EqIAhBaajOv9aNCNbg=s64",
      "userId": "09145176024951036598"
     },
     "user_tz": -60
    },
    "id": "PXRWULIbjJfp"
   },
   "outputs": [],
   "source": [
    "model = DecisionTreeClassifier(max_depth=5, random_state=0)"
   ]
  },
  {
   "cell_type": "code",
   "execution_count": 66,
   "metadata": {
    "colab": {
     "base_uri": "https://localhost:8080/"
    },
    "executionInfo": {
     "elapsed": 2273,
     "status": "ok",
     "timestamp": 1627572603065,
     "user": {
      "displayName": "Matthew Oladiran",
      "photoUrl": "https://lh3.googleusercontent.com/a-/AOh14Gh8gzFroomEcpCvX9DbYCy3EqIAhBaajOv9aNCNbg=s64",
      "userId": "09145176024951036598"
     },
     "user_tz": -60
    },
    "id": "pedw4xQEjJiZ",
    "outputId": "37000d87-28c3-4deb-df78-5a968d93b4d6"
   },
   "outputs": [
    {
     "data": {
      "text/plain": [
       "DecisionTreeClassifier(max_depth=5, random_state=0)"
      ]
     },
     "execution_count": 66,
     "metadata": {
      "tags": []
     },
     "output_type": "execute_result"
    }
   ],
   "source": [
    "model.fit(X_train, train_targets)"
   ]
  },
  {
   "cell_type": "code",
   "execution_count": 67,
   "metadata": {
    "colab": {
     "base_uri": "https://localhost:8080/"
    },
    "executionInfo": {
     "elapsed": 4,
     "status": "ok",
     "timestamp": 1627572603065,
     "user": {
      "displayName": "Matthew Oladiran",
      "photoUrl": "https://lh3.googleusercontent.com/a-/AOh14Gh8gzFroomEcpCvX9DbYCy3EqIAhBaajOv9aNCNbg=s64",
      "userId": "09145176024951036598"
     },
     "user_tz": -60
    },
    "id": "B2Rq1TjejJlH",
    "outputId": "40d973f8-c1c4-4979-cd69-bcb8cbb85762"
   },
   "outputs": [
    {
     "data": {
      "text/plain": [
       "0.900270122142186"
      ]
     },
     "execution_count": 67,
     "metadata": {
      "tags": []
     },
     "output_type": "execute_result"
    }
   ],
   "source": [
    "model.score(X_train, train_targets)"
   ]
  },
  {
   "cell_type": "code",
   "execution_count": 68,
   "metadata": {
    "colab": {
     "base_uri": "https://localhost:8080/"
    },
    "executionInfo": {
     "elapsed": 658,
     "status": "ok",
     "timestamp": 1627572603720,
     "user": {
      "displayName": "Matthew Oladiran",
      "photoUrl": "https://lh3.googleusercontent.com/a-/AOh14Gh8gzFroomEcpCvX9DbYCy3EqIAhBaajOv9aNCNbg=s64",
      "userId": "09145176024951036598"
     },
     "user_tz": -60
    },
    "id": "ICDKPNMpjJoL",
    "outputId": "7cd9721d-9900-4f98-94ff-7d00f081f27f"
   },
   "outputs": [
    {
     "data": {
      "text/plain": [
       "0.9028545329984015"
      ]
     },
     "execution_count": 68,
     "metadata": {
      "tags": []
     },
     "output_type": "execute_result"
    }
   ],
   "source": [
    "model.score(X_val, test_targets)"
   ]
  },
  {
   "cell_type": "code",
   "execution_count": 69,
   "metadata": {
    "colab": {
     "base_uri": "https://localhost:8080/"
    },
    "executionInfo": {
     "elapsed": 4,
     "status": "ok",
     "timestamp": 1627572603720,
     "user": {
      "displayName": "Matthew Oladiran",
      "photoUrl": "https://lh3.googleusercontent.com/a-/AOh14Gh8gzFroomEcpCvX9DbYCy3EqIAhBaajOv9aNCNbg=s64",
      "userId": "09145176024951036598"
     },
     "user_tz": -60
    },
    "id": "nzz6D96IjJsf",
    "outputId": "651f0053-c500-4c0b-a9f8-0eb8b6cd4d4f"
   },
   "outputs": [
    {
     "data": {
      "text/plain": [
       "array([0, 1])"
      ]
     },
     "execution_count": 69,
     "metadata": {
      "tags": []
     },
     "output_type": "execute_result"
    }
   ],
   "source": [
    "model.classes_"
   ]
  },
  {
   "cell_type": "code",
   "execution_count": 70,
   "metadata": {
    "executionInfo": {
     "elapsed": 3,
     "status": "ok",
     "timestamp": 1627572603720,
     "user": {
      "displayName": "Matthew Oladiran",
      "photoUrl": "https://lh3.googleusercontent.com/a-/AOh14Gh8gzFroomEcpCvX9DbYCy3EqIAhBaajOv9aNCNbg=s64",
      "userId": "09145176024951036598"
     },
     "user_tz": -60
    },
    "id": "tKqnCiBBmpxb"
   },
   "outputs": [],
   "source": [
    "def max_depth_error(md):\n",
    "    model = DecisionTreeClassifier(max_depth=md, random_state=0)\n",
    "    model.fit(X_train, train_targets)\n",
    "    train_acc = 1 - model.score(X_train, train_targets)\n",
    "    val_acc = 1 - model.score(X_val, test_targets)\n",
    "    return {'Max Depth': md, 'Training Error': train_acc, 'Validation Error': val_acc}"
   ]
  },
  {
   "cell_type": "code",
   "execution_count": 71,
   "metadata": {
    "colab": {
     "base_uri": "https://localhost:8080/"
    },
    "executionInfo": {
     "elapsed": 107840,
     "status": "ok",
     "timestamp": 1627572711557,
     "user": {
      "displayName": "Matthew Oladiran",
      "photoUrl": "https://lh3.googleusercontent.com/a-/AOh14Gh8gzFroomEcpCvX9DbYCy3EqIAhBaajOv9aNCNbg=s64",
      "userId": "09145176024951036598"
     },
     "user_tz": -60
    },
    "id": "l4_msxLYm37O",
    "outputId": "6b38332f-b279-48cb-e968-3d80901a30ce"
   },
   "outputs": [
    {
     "name": "stdout",
     "output_type": "stream",
     "text": [
      "CPU times: user 1min 46s, sys: 218 ms, total: 1min 46s\n",
      "Wall time: 1min 46s\n"
     ]
    }
   ],
   "source": [
    "%%time\n",
    "errors_df = pd.DataFrame([max_depth_error(md) for md in range(1, 21)])"
   ]
  },
  {
   "cell_type": "code",
   "execution_count": 72,
   "metadata": {
    "colab": {
     "base_uri": "https://localhost:8080/",
     "height": 669
    },
    "executionInfo": {
     "elapsed": 12,
     "status": "ok",
     "timestamp": 1627572711558,
     "user": {
      "displayName": "Matthew Oladiran",
      "photoUrl": "https://lh3.googleusercontent.com/a-/AOh14Gh8gzFroomEcpCvX9DbYCy3EqIAhBaajOv9aNCNbg=s64",
      "userId": "09145176024951036598"
     },
     "user_tz": -60
    },
    "id": "9b-d9hxmm3-m",
    "outputId": "98a96903-b2cb-400f-8d7f-0f28ebf449b3"
   },
   "outputs": [
    {
     "data": {
      "text/html": [
       "<div>\n",
       "<style scoped>\n",
       "    .dataframe tbody tr th:only-of-type {\n",
       "        vertical-align: middle;\n",
       "    }\n",
       "\n",
       "    .dataframe tbody tr th {\n",
       "        vertical-align: top;\n",
       "    }\n",
       "\n",
       "    .dataframe thead th {\n",
       "        text-align: right;\n",
       "    }\n",
       "</style>\n",
       "<table border=\"1\" class=\"dataframe\">\n",
       "  <thead>\n",
       "    <tr style=\"text-align: right;\">\n",
       "      <th></th>\n",
       "      <th>Max Depth</th>\n",
       "      <th>Training Error</th>\n",
       "      <th>Validation Error</th>\n",
       "    </tr>\n",
       "  </thead>\n",
       "  <tbody>\n",
       "    <tr>\n",
       "      <th>0</th>\n",
       "      <td>1</td>\n",
       "      <td>0.106072</td>\n",
       "      <td>0.103083</td>\n",
       "    </tr>\n",
       "    <tr>\n",
       "      <th>1</th>\n",
       "      <td>2</td>\n",
       "      <td>0.102137</td>\n",
       "      <td>0.099703</td>\n",
       "    </tr>\n",
       "    <tr>\n",
       "      <th>2</th>\n",
       "      <td>3</td>\n",
       "      <td>0.101609</td>\n",
       "      <td>0.099064</td>\n",
       "    </tr>\n",
       "    <tr>\n",
       "      <th>3</th>\n",
       "      <td>4</td>\n",
       "      <td>0.100082</td>\n",
       "      <td>0.098333</td>\n",
       "    </tr>\n",
       "    <tr>\n",
       "      <th>4</th>\n",
       "      <td>5</td>\n",
       "      <td>0.099730</td>\n",
       "      <td>0.097145</td>\n",
       "    </tr>\n",
       "    <tr>\n",
       "      <th>5</th>\n",
       "      <td>6</td>\n",
       "      <td>0.098869</td>\n",
       "      <td>0.098013</td>\n",
       "    </tr>\n",
       "    <tr>\n",
       "      <th>6</th>\n",
       "      <td>7</td>\n",
       "      <td>0.097831</td>\n",
       "      <td>0.098424</td>\n",
       "    </tr>\n",
       "    <tr>\n",
       "      <th>7</th>\n",
       "      <td>8</td>\n",
       "      <td>0.096520</td>\n",
       "      <td>0.097968</td>\n",
       "    </tr>\n",
       "    <tr>\n",
       "      <th>8</th>\n",
       "      <td>9</td>\n",
       "      <td>0.094680</td>\n",
       "      <td>0.098013</td>\n",
       "    </tr>\n",
       "    <tr>\n",
       "      <th>9</th>\n",
       "      <td>10</td>\n",
       "      <td>0.092585</td>\n",
       "      <td>0.099018</td>\n",
       "    </tr>\n",
       "    <tr>\n",
       "      <th>10</th>\n",
       "      <td>11</td>\n",
       "      <td>0.090217</td>\n",
       "      <td>0.100434</td>\n",
       "    </tr>\n",
       "    <tr>\n",
       "      <th>11</th>\n",
       "      <td>12</td>\n",
       "      <td>0.087848</td>\n",
       "      <td>0.101028</td>\n",
       "    </tr>\n",
       "    <tr>\n",
       "      <th>12</th>\n",
       "      <td>13</td>\n",
       "      <td>0.085088</td>\n",
       "      <td>0.102535</td>\n",
       "    </tr>\n",
       "    <tr>\n",
       "      <th>13</th>\n",
       "      <td>14</td>\n",
       "      <td>0.082681</td>\n",
       "      <td>0.104544</td>\n",
       "    </tr>\n",
       "    <tr>\n",
       "      <th>14</th>\n",
       "      <td>15</td>\n",
       "      <td>0.080293</td>\n",
       "      <td>0.105549</td>\n",
       "    </tr>\n",
       "    <tr>\n",
       "      <th>15</th>\n",
       "      <td>16</td>\n",
       "      <td>0.077083</td>\n",
       "      <td>0.108746</td>\n",
       "    </tr>\n",
       "    <tr>\n",
       "      <th>16</th>\n",
       "      <td>17</td>\n",
       "      <td>0.073716</td>\n",
       "      <td>0.111258</td>\n",
       "    </tr>\n",
       "    <tr>\n",
       "      <th>17</th>\n",
       "      <td>18</td>\n",
       "      <td>0.070702</td>\n",
       "      <td>0.112126</td>\n",
       "    </tr>\n",
       "    <tr>\n",
       "      <th>18</th>\n",
       "      <td>19</td>\n",
       "      <td>0.067883</td>\n",
       "      <td>0.112354</td>\n",
       "    </tr>\n",
       "    <tr>\n",
       "      <th>19</th>\n",
       "      <td>20</td>\n",
       "      <td>0.064966</td>\n",
       "      <td>0.114821</td>\n",
       "    </tr>\n",
       "  </tbody>\n",
       "</table>\n",
       "</div>"
      ],
      "text/plain": [
       "    Max Depth  Training Error  Validation Error\n",
       "0           1        0.106072          0.103083\n",
       "1           2        0.102137          0.099703\n",
       "2           3        0.101609          0.099064\n",
       "3           4        0.100082          0.098333\n",
       "4           5        0.099730          0.097145\n",
       "5           6        0.098869          0.098013\n",
       "6           7        0.097831          0.098424\n",
       "7           8        0.096520          0.097968\n",
       "8           9        0.094680          0.098013\n",
       "9          10        0.092585          0.099018\n",
       "10         11        0.090217          0.100434\n",
       "11         12        0.087848          0.101028\n",
       "12         13        0.085088          0.102535\n",
       "13         14        0.082681          0.104544\n",
       "14         15        0.080293          0.105549\n",
       "15         16        0.077083          0.108746\n",
       "16         17        0.073716          0.111258\n",
       "17         18        0.070702          0.112126\n",
       "18         19        0.067883          0.112354\n",
       "19         20        0.064966          0.114821"
      ]
     },
     "execution_count": 72,
     "metadata": {
      "tags": []
     },
     "output_type": "execute_result"
    }
   ],
   "source": [
    "errors_df"
   ]
  },
  {
   "cell_type": "code",
   "execution_count": 73,
   "metadata": {
    "colab": {
     "base_uri": "https://localhost:8080/",
     "height": 433
    },
    "executionInfo": {
     "elapsed": 14,
     "status": "ok",
     "timestamp": 1627572711561,
     "user": {
      "displayName": "Matthew Oladiran",
      "photoUrl": "https://lh3.googleusercontent.com/a-/AOh14Gh8gzFroomEcpCvX9DbYCy3EqIAhBaajOv9aNCNbg=s64",
      "userId": "09145176024951036598"
     },
     "user_tz": -60
    },
    "id": "j9Fy3ivqm4CH",
    "outputId": "37238993-71a8-4189-88dc-47d716282301"
   },
   "outputs": [
    {
     "data": {
      "text/plain": [
       "<matplotlib.legend.Legend at 0x7ff97945d850>"
      ]
     },
     "execution_count": 73,
     "metadata": {
      "tags": []
     },
     "output_type": "execute_result"
    },
    {
     "data": {
      "image/png": "[encoded data removed]",
      "text/plain": [
       "<Figure size 720x432 with 1 Axes>"
      ]
     },
     "metadata": {
      "needs_background": "light",
      "tags": []
     },
     "output_type": "display_data"
    }
   ],
   "source": [
    "plt.figure()\n",
    "plt.plot(errors_df['Max Depth'], errors_df['Training Error'])\n",
    "plt.plot(errors_df['Max Depth'], errors_df['Validation Error'])\n",
    "plt.title('Training vs. Validation Error')\n",
    "plt.xticks(range(0,21, 2))\n",
    "plt.xlabel('Max. Depth')\n",
    "plt.ylabel('Prediction Error (1 - Accuracy)')\n",
    "plt.legend(['Training', 'Validation'])"
   ]
  },
  {
   "cell_type": "markdown",
   "metadata": {
    "id": "yfOBVpETnVAy"
   },
   "source": [
    "This is a common pattern you'll see with all machine learning algorithms:\n",
    "\n",
    "<img src=\"https://i.imgur.com/EJCrSZw.png\" width=\"480\">\n",
    "\n",
    "\n"
   ]
  },
  {
   "cell_type": "markdown",
   "metadata": {
    "id": "MPnTVUKVoah4"
   },
   "source": [
    "You'll often need to tune hyperparameters carefully to find the optimal fit. In the above case, it appears that a maximum depth of 7 results in the lowest validation error."
   ]
  },
  {
   "cell_type": "code",
   "execution_count": 74,
   "metadata": {
    "colab": {
     "base_uri": "https://localhost:8080/"
    },
    "executionInfo": {
     "elapsed": 1420,
     "status": "ok",
     "timestamp": 1627572712972,
     "user": {
      "displayName": "Matthew Oladiran",
      "photoUrl": "https://lh3.googleusercontent.com/a-/AOh14Gh8gzFroomEcpCvX9DbYCy3EqIAhBaajOv9aNCNbg=s64",
      "userId": "09145176024951036598"
     },
     "user_tz": -60
    },
    "id": "oBg0j8sxnLnm",
    "outputId": "b6fed72c-9836-4167-b250-c48e670f2e72"
   },
   "outputs": [
    {
     "data": {
      "text/plain": [
       "0.9028545329984015"
      ]
     },
     "execution_count": 74,
     "metadata": {
      "tags": []
     },
     "output_type": "execute_result"
    }
   ],
   "source": [
    "model = DecisionTreeClassifier(max_depth=5, random_state=0).fit(X_train, train_targets)\n",
    "model.score(X_val, test_targets)"
   ]
  },
  {
   "cell_type": "markdown",
   "metadata": {
    "id": "sdKrqdzZpJPi"
   },
   "source": [
    "### `max_leaf_nodes`\n",
    "\n",
    "Another way to control the size of complexity of a decision tree is to limit the number of leaf nodes. This allows branches of the tree to have varying depths. "
   ]
  },
  {
   "cell_type": "code",
   "execution_count": 112,
   "metadata": {
    "executionInfo": {
     "elapsed": 2317,
     "status": "ok",
     "timestamp": 1627573560228,
     "user": {
      "displayName": "Matthew Oladiran",
      "photoUrl": "https://lh3.googleusercontent.com/a-/AOh14Gh8gzFroomEcpCvX9DbYCy3EqIAhBaajOv9aNCNbg=s64",
      "userId": "09145176024951036598"
     },
     "user_tz": -60
    },
    "id": "ugcag2cDnLrf"
   },
   "outputs": [],
   "source": [
    "model = DecisionTreeClassifier(max_leaf_nodes=35, random_state=0)"
   ]
  },
  {
   "cell_type": "code",
   "execution_count": 113,
   "metadata": {
    "colab": {
     "base_uri": "https://localhost:8080/"
    },
    "executionInfo": {
     "elapsed": 4,
     "status": "ok",
     "timestamp": 1627573569356,
     "user": {
      "displayName": "Matthew Oladiran",
      "photoUrl": "https://lh3.googleusercontent.com/a-/AOh14Gh8gzFroomEcpCvX9DbYCy3EqIAhBaajOv9aNCNbg=s64",
      "userId": "09145176024951036598"
     },
     "user_tz": -60
    },
    "id": "f0V3Fh2AnLuz",
    "outputId": "34bd5c50-4534-4715-f8a0-20e332954bf3"
   },
   "outputs": [
    {
     "data": {
      "text/plain": [
       "DecisionTreeClassifier(max_leaf_nodes=35, random_state=0)"
      ]
     },
     "execution_count": 113,
     "metadata": {
      "tags": []
     },
     "output_type": "execute_result"
    }
   ],
   "source": [
    "model.fit(X_train, train_targets)"
   ]
  },
  {
   "cell_type": "code",
   "execution_count": 114,
   "metadata": {
    "colab": {
     "base_uri": "https://localhost:8080/"
    },
    "executionInfo": {
     "elapsed": 521,
     "status": "ok",
     "timestamp": 1627573569875,
     "user": {
      "displayName": "Matthew Oladiran",
      "photoUrl": "https://lh3.googleusercontent.com/a-/AOh14Gh8gzFroomEcpCvX9DbYCy3EqIAhBaajOv9aNCNbg=s64",
      "userId": "09145176024951036598"
     },
     "user_tz": -60
    },
    "id": "gaSkRUoenLyg",
    "outputId": "002a1ac6-f760-4b4a-ef30-d2f5d65ae95b"
   },
   "outputs": [
    {
     "data": {
      "text/plain": [
       "0.9011901033510805"
      ]
     },
     "execution_count": 114,
     "metadata": {
      "tags": []
     },
     "output_type": "execute_result"
    }
   ],
   "source": [
    "model.score(X_train, train_targets)"
   ]
  },
  {
   "cell_type": "code",
   "execution_count": 115,
   "metadata": {
    "colab": {
     "base_uri": "https://localhost:8080/"
    },
    "executionInfo": {
     "elapsed": 3,
     "status": "ok",
     "timestamp": 1627573574346,
     "user": {
      "displayName": "Matthew Oladiran",
      "photoUrl": "https://lh3.googleusercontent.com/a-/AOh14Gh8gzFroomEcpCvX9DbYCy3EqIAhBaajOv9aNCNbg=s64",
      "userId": "09145176024951036598"
     },
     "user_tz": -60
    },
    "id": "MQdlocDfm4Ey",
    "outputId": "7068995f-32a1-49e6-cd3c-815309db8b79"
   },
   "outputs": [
    {
     "data": {
      "text/plain": [
       "0.903128568166248"
      ]
     },
     "execution_count": 115,
     "metadata": {
      "tags": []
     },
     "output_type": "execute_result"
    }
   ],
   "source": [
    "model.score(X_val, test_targets)"
   ]
  },
  {
   "cell_type": "code",
   "execution_count": 79,
   "metadata": {
    "colab": {
     "base_uri": "https://localhost:8080/"
    },
    "executionInfo": {
     "elapsed": 4,
     "status": "ok",
     "timestamp": 1627572718092,
     "user": {
      "displayName": "Matthew Oladiran",
      "photoUrl": "https://lh3.googleusercontent.com/a-/AOh14Gh8gzFroomEcpCvX9DbYCy3EqIAhBaajOv9aNCNbg=s64",
      "userId": "09145176024951036598"
     },
     "user_tz": -60
    },
    "id": "kv_cQr34m4Hf",
    "outputId": "896258ba-3c67-4c40-d2dd-d2d665c1978f"
   },
   "outputs": [
    {
     "data": {
      "text/plain": [
       "11"
      ]
     },
     "execution_count": 79,
     "metadata": {
      "tags": []
     },
     "output_type": "execute_result"
    }
   ],
   "source": [
    "model.tree_.max_depth"
   ]
  },
  {
   "cell_type": "code",
   "execution_count": 80,
   "metadata": {
    "colab": {
     "base_uri": "https://localhost:8080/"
    },
    "executionInfo": {
     "elapsed": 4,
     "status": "ok",
     "timestamp": 1627572718092,
     "user": {
      "displayName": "Matthew Oladiran",
      "photoUrl": "https://lh3.googleusercontent.com/a-/AOh14Gh8gzFroomEcpCvX9DbYCy3EqIAhBaajOv9aNCNbg=s64",
      "userId": "09145176024951036598"
     },
     "user_tz": -60
    },
    "id": "fQgWaIWKm4Kc",
    "outputId": "f2c0fd49-fc22-4940-ac0f-86af46cabd4e"
   },
   "outputs": [
    {
     "name": "stdout",
     "output_type": "stream",
     "text": [
      "|--- WheelType_nan <= 0.50\n",
      "|   |--- VehicleAge <= 0.50\n",
      "|   |   |--- VehBCost <= 0.26\n",
      "|   |   |   |--- VehBCost <= 0.13\n",
      "|   |   |   |   |--- VehOdo <= 0.47\n",
      "|   |   |   |   |   |--- class: 0\n",
      "|   |   |   |   |--- VehOdo >  0.47\n",
      "|   |   |   |   |   |--- class: 0\n",
      "|   |   |   |--- VehBCost >  0.13\n",
      "|   |   |   |   |--- VehicleAge <= 0.28\n",
      "|   |   |   |   |   |--- class: 0\n",
      "|   |   |   |   |--- VehicleAge >  0.28\n",
      "|   |   |   |   |   |--- class: 0\n",
      "|   |   |--- VehBCost >  0.26\n",
      "|   |   |   |--- class: 1\n",
      "|   |--- VehicleAge >  0.50\n",
      "|   |   |--- VehYear <= 0.17\n",
      "|   |   |   |--- VehOdo <= 0.64\n",
      "|   |   |   |   |--- class: 0\n",
      "|   |   |   |--- VehOdo >  0.64\n",
      "|   |   |   |   |--- MMRAcquisitionAuctionCleanPrice <= 0.15\n",
      "|   |   |   |   |   |--- PRIMEUNIT_nan <= 0.50\n",
      "|   |   |   |   |   |   |--- class: 0\n",
      "|   |   |   |   |   |--- PRIMEUNIT_nan >  0.50\n",
      "|   |   |   |   |   |   |--- class: 0\n",
      "|   |   |   |   |--- MMRAcquisitionAuctionCleanPrice >  0.15\n",
      "|   |   |   |   |   |--- class: 0\n",
      "|   |   |--- VehYear >  0.17\n",
      "|   |   |   |--- VehBCost <= 0.10\n",
      "|   |   |   |   |--- WarrantyCost <= 0.30\n",
      "|   |   |   |   |   |--- class: 0\n",
      "|   |   |   |   |--- WarrantyCost >  0.30\n",
      "|   |   |   |   |   |--- class: 0\n",
      "|   |   |   |--- VehBCost >  0.10\n",
      "|   |   |   |   |--- PRIMEUNIT_NO <= 0.50\n",
      "|   |   |   |   |   |--- VehicleAge <= 0.61\n",
      "|   |   |   |   |   |   |--- Model_EXPLORER 2WD V6 4.0L <= 0.50\n",
      "|   |   |   |   |   |   |   |--- class: 0\n",
      "|   |   |   |   |   |   |--- Model_EXPLORER 2WD V6 4.0L >  0.50\n",
      "|   |   |   |   |   |   |   |--- class: 0\n",
      "|   |   |   |   |   |--- VehicleAge >  0.61\n",
      "|   |   |   |   |   |   |--- class: 0\n",
      "|   |   |   |   |--- PRIMEUNIT_NO >  0.50\n",
      "|   |   |   |   |   |--- class: 0\n",
      "|--- WheelType_nan >  0.50\n",
      "|   |--- Auction_MANHEIM <= 0.50\n",
      "|   |   |--- BYRNO <= 0.53\n",
      "|   |   |   |--- VNST_SC <= 0.50\n",
      "|   |   |   |   |--- VNST_KY <= 0.50\n",
      "|   |   |   |   |   |--- AUCGUART_GREEN <= 0.50\n",
      "|   |   |   |   |   |   |--- Transmission_AUTO <= 0.50\n",
      "|   |   |   |   |   |   |   |--- class: 0\n",
      "|   |   |   |   |   |   |--- Transmission_AUTO >  0.50\n",
      "|   |   |   |   |   |   |   |--- class: 1\n",
      "|   |   |   |   |   |--- AUCGUART_GREEN >  0.50\n",
      "|   |   |   |   |   |   |--- class: 0\n",
      "|   |   |   |   |--- VNST_KY >  0.50\n",
      "|   |   |   |   |   |--- class: 0\n",
      "|   |   |   |--- VNST_SC >  0.50\n",
      "|   |   |   |   |--- BYRNO <= 0.19\n",
      "|   |   |   |   |   |--- BYRNO <= 0.18\n",
      "|   |   |   |   |   |   |--- class: 1\n",
      "|   |   |   |   |   |--- BYRNO >  0.18\n",
      "|   |   |   |   |   |   |--- MMRCurrentRetailCleanPrice <= 0.30\n",
      "|   |   |   |   |   |   |   |--- MMRAcquisitonRetailCleanPrice <= 0.19\n",
      "|   |   |   |   |   |   |   |   |--- MMRCurrentRetailAveragePrice <= 0.18\n",
      "|   |   |   |   |   |   |   |   |   |--- MMRAcquisitionRetailAveragePrice <= 0.09\n",
      "|   |   |   |   |   |   |   |   |   |   |--- class: 0\n",
      "|   |   |   |   |   |   |   |   |   |--- MMRAcquisitionRetailAveragePrice >  0.09\n",
      "|   |   |   |   |   |   |   |   |   |   |--- BYRNO <= 0.18\n",
      "|   |   |   |   |   |   |   |   |   |   |   |--- class: 1\n",
      "|   |   |   |   |   |   |   |   |   |\n"
     ]
    }
   ],
   "source": [
    "model_text = export_text(model, feature_names=list(X_train.columns))\n",
    "print(model_text[:3000])"
   ]
  },
  {
   "cell_type": "code",
   "execution_count": 81,
   "metadata": {
    "colab": {
     "base_uri": "https://localhost:8080/",
     "height": 86
    },
    "executionInfo": {
     "elapsed": 2532,
     "status": "ok",
     "timestamp": 1627572720621,
     "user": {
      "displayName": "Matthew Oladiran",
      "photoUrl": "https://lh3.googleusercontent.com/a-/AOh14Gh8gzFroomEcpCvX9DbYCy3EqIAhBaajOv9aNCNbg=s64",
      "userId": "09145176024951036598"
     },
     "user_tz": -60
    },
    "id": "B9K4CLFfqde5",
    "outputId": "9c04eec2-4a20-421f-942d-f7d0a48038b6"
   },
   "outputs": [
    {
     "name": "stdout",
     "output_type": "stream",
     "text": [
      "[jovian] Detected Colab notebook...\u001b[0m\n",
      "[jovian] Uploading colab notebook to Jovian...\u001b[0m\n",
      "Committed successfully! https://jovian.ai/toyoski/my-jovian-project\n"
     ]
    },
    {
     "data": {
      "application/vnd.google.colaboratory.intrinsic+json": {
       "type": "string"
      },
      "text/plain": [
       "'https://jovian.ai/toyoski/my-jovian-project'"
      ]
     },
     "execution_count": 81,
     "metadata": {
      "tags": []
     },
     "output_type": "execute_result"
    }
   ],
   "source": [
    "jovian.commit()"
   ]
  },
  {
   "cell_type": "markdown",
   "metadata": {
    "id": "M18A9eEAq9g_"
   },
   "source": [
    "## Training a Random Forest\n",
    "\n",
    "While tuning the hyperparameters of a single decision tree may lead to some improvements, a much more effective strategy is to combine the results of several decision trees trained with slightly different parameters. This is called a random forest model. \n",
    "\n",
    "The key idea here is that each decision tree in the forest will make different kinds of errors, and upon averaging, many of their errors will cancel out. This idea is also commonly known as the \"wisdom of the crowd\":\n",
    "\n",
    "<img src=\"https://i.imgur.com/4Dg0XK4.png\" width=\"480\">"
   ]
  },
  {
   "cell_type": "markdown",
   "metadata": {
    "id": "rojdcqpirCcX"
   },
   "source": [
    "A random forest works by averaging/combining the results of several decision trees:\n",
    "\n",
    "<img src=\"https://1.bp.blogspot.com/-Ax59WK4DE8w/YK6o9bt_9jI/AAAAAAAAEQA/9KbBf9cdL6kOFkJnU39aUn4m8ydThPenwCLcBGAsYHQ/s0/Random%2BForest%2B03.gif\" width=\"640\">\n",
    "\n",
    "\n",
    "We'll use the `RandomForestClassifier` class from `sklearn.ensemble`."
   ]
  },
  {
   "cell_type": "code",
   "execution_count": 82,
   "metadata": {
    "executionInfo": {
     "elapsed": 4,
     "status": "ok",
     "timestamp": 1627572721107,
     "user": {
      "displayName": "Matthew Oladiran",
      "photoUrl": "https://lh3.googleusercontent.com/a-/AOh14Gh8gzFroomEcpCvX9DbYCy3EqIAhBaajOv9aNCNbg=s64",
      "userId": "09145176024951036598"
     },
     "user_tz": -60
    },
    "id": "97S-lNKkqdiD"
   },
   "outputs": [],
   "source": [
    "from sklearn.ensemble import RandomForestClassifier"
   ]
  },
  {
   "cell_type": "code",
   "execution_count": 83,
   "metadata": {
    "executionInfo": {
     "elapsed": 4,
     "status": "ok",
     "timestamp": 1627572721108,
     "user": {
      "displayName": "Matthew Oladiran",
      "photoUrl": "https://lh3.googleusercontent.com/a-/AOh14Gh8gzFroomEcpCvX9DbYCy3EqIAhBaajOv9aNCNbg=s64",
      "userId": "09145176024951036598"
     },
     "user_tz": -60
    },
    "id": "GQ35dyzHqdlY"
   },
   "outputs": [],
   "source": [
    "model = RandomForestClassifier(n_jobs=2, random_state=0)"
   ]
  },
  {
   "cell_type": "code",
   "execution_count": 84,
   "metadata": {
    "colab": {
     "base_uri": "https://localhost:8080/"
    },
    "executionInfo": {
     "elapsed": 48038,
     "status": "ok",
     "timestamp": 1627572769142,
     "user": {
      "displayName": "Matthew Oladiran",
      "photoUrl": "https://lh3.googleusercontent.com/a-/AOh14Gh8gzFroomEcpCvX9DbYCy3EqIAhBaajOv9aNCNbg=s64",
      "userId": "09145176024951036598"
     },
     "user_tz": -60
    },
    "id": "yECmdH_wqdnk",
    "outputId": "37f8935e-ce91-4107-b2f7-a4d8aaf891ad"
   },
   "outputs": [
    {
     "name": "stdout",
     "output_type": "stream",
     "text": [
      "CPU times: user 1min 33s, sys: 216 ms, total: 1min 34s\n",
      "Wall time: 48.1 s\n"
     ]
    },
    {
     "data": {
      "text/plain": [
       "RandomForestClassifier(n_jobs=2, random_state=0)"
      ]
     },
     "execution_count": 84,
     "metadata": {
      "tags": []
     },
     "output_type": "execute_result"
    }
   ],
   "source": [
    "\n",
    "%%time\n",
    "model.fit(X_train, train_targets)"
   ]
  },
  {
   "cell_type": "code",
   "execution_count": 85,
   "metadata": {
    "colab": {
     "base_uri": "https://localhost:8080/"
    },
    "executionInfo": {
     "elapsed": 2528,
     "status": "ok",
     "timestamp": 1627572771660,
     "user": {
      "displayName": "Matthew Oladiran",
      "photoUrl": "https://lh3.googleusercontent.com/a-/AOh14Gh8gzFroomEcpCvX9DbYCy3EqIAhBaajOv9aNCNbg=s64",
      "userId": "09145176024951036598"
     },
     "user_tz": -60
    },
    "id": "5HxZI7-IqdrO",
    "outputId": "fdf8168c-e5a2-412b-fda0-092453ca0a6b"
   },
   "outputs": [
    {
     "data": {
      "text/plain": [
       "1.0"
      ]
     },
     "execution_count": 85,
     "metadata": {
      "tags": []
     },
     "output_type": "execute_result"
    }
   ],
   "source": [
    "model.score(X_train, train_targets)"
   ]
  },
  {
   "cell_type": "code",
   "execution_count": 86,
   "metadata": {
    "colab": {
     "base_uri": "https://localhost:8080/"
    },
    "executionInfo": {
     "elapsed": 1394,
     "status": "ok",
     "timestamp": 1627572773048,
     "user": {
      "displayName": "Matthew Oladiran",
      "photoUrl": "https://lh3.googleusercontent.com/a-/AOh14Gh8gzFroomEcpCvX9DbYCy3EqIAhBaajOv9aNCNbg=s64",
      "userId": "09145176024951036598"
     },
     "user_tz": -60
    },
    "id": "9YVtpBD-rg0K",
    "outputId": "774d7a64-107c-49b6-f75c-46b33ea342b6"
   },
   "outputs": [
    {
     "data": {
      "text/plain": [
       "0.8999314912080384"
      ]
     },
     "execution_count": 86,
     "metadata": {
      "tags": []
     },
     "output_type": "execute_result"
    }
   ],
   "source": [
    "model.score(X_val, test_targets)"
   ]
  },
  {
   "cell_type": "code",
   "execution_count": 87,
   "metadata": {
    "colab": {
     "base_uri": "https://localhost:8080/"
    },
    "executionInfo": {
     "elapsed": 9177,
     "status": "ok",
     "timestamp": 1627572782223,
     "user": {
      "displayName": "Matthew Oladiran",
      "photoUrl": "https://lh3.googleusercontent.com/a-/AOh14Gh8gzFroomEcpCvX9DbYCy3EqIAhBaajOv9aNCNbg=s64",
      "userId": "09145176024951036598"
     },
     "user_tz": -60
    },
    "id": "NnAllJTCrg38",
    "outputId": "9282f91b-9091-4b4a-a9b1-293009a6ec89"
   },
   "outputs": [
    {
     "data": {
      "text/plain": [
       "array([[0.16, 0.84],\n",
       "       [0.95, 0.05],\n",
       "       [0.98, 0.02],\n",
       "       ...,\n",
       "       [0.99, 0.01],\n",
       "       [0.91, 0.09],\n",
       "       [0.98, 0.02]])"
      ]
     },
     "execution_count": 87,
     "metadata": {
      "tags": []
     },
     "output_type": "execute_result"
    }
   ],
   "source": [
    "train_probs = model.predict_proba(X_train)\n",
    "train_probs"
   ]
  },
  {
   "cell_type": "code",
   "execution_count": 88,
   "metadata": {
    "colab": {
     "base_uri": "https://localhost:8080/"
    },
    "executionInfo": {
     "elapsed": 14,
     "status": "ok",
     "timestamp": 1627572782224,
     "user": {
      "displayName": "Matthew Oladiran",
      "photoUrl": "https://lh3.googleusercontent.com/a-/AOh14Gh8gzFroomEcpCvX9DbYCy3EqIAhBaajOv9aNCNbg=s64",
      "userId": "09145176024951036598"
     },
     "user_tz": -60
    },
    "id": "rwFG4AWarhEw",
    "outputId": "0c3db95b-5f52-4a29-d148-911c640726da"
   },
   "outputs": [
    {
     "data": {
      "text/plain": [
       "DecisionTreeClassifier(max_features='auto', random_state=209652396)"
      ]
     },
     "execution_count": 88,
     "metadata": {
      "tags": []
     },
     "output_type": "execute_result"
    }
   ],
   "source": [
    "model.estimators_[0]"
   ]
  },
  {
   "cell_type": "code",
   "execution_count": 89,
   "metadata": {
    "colab": {
     "base_uri": "https://localhost:8080/"
    },
    "executionInfo": {
     "elapsed": 14,
     "status": "ok",
     "timestamp": 1627572782225,
     "user": {
      "displayName": "Matthew Oladiran",
      "photoUrl": "https://lh3.googleusercontent.com/a-/AOh14Gh8gzFroomEcpCvX9DbYCy3EqIAhBaajOv9aNCNbg=s64",
      "userId": "09145176024951036598"
     },
     "user_tz": -60
    },
    "id": "BDklGRdGsMVG",
    "outputId": "6f287f52-b7cd-4094-ac65-74ee5f564caf"
   },
   "outputs": [
    {
     "data": {
      "text/plain": [
       "100"
      ]
     },
     "execution_count": 89,
     "metadata": {
      "tags": []
     },
     "output_type": "execute_result"
    }
   ],
   "source": [
    "len(model.estimators_)"
   ]
  },
  {
   "cell_type": "code",
   "execution_count": 90,
   "metadata": {
    "executionInfo": {
     "elapsed": 13,
     "status": "ok",
     "timestamp": 1627572782225,
     "user": {
      "displayName": "Matthew Oladiran",
      "photoUrl": "https://lh3.googleusercontent.com/a-/AOh14Gh8gzFroomEcpCvX9DbYCy3EqIAhBaajOv9aNCNbg=s64",
      "userId": "09145176024951036598"
     },
     "user_tz": -60
    },
    "id": "my-rvfAlsMYP"
   },
   "outputs": [],
   "source": [
    "importance_df = pd.DataFrame({\n",
    "    'feature': X_train.columns,\n",
    "    'importance': model.feature_importances_\n",
    "}).sort_values('importance', ascending=False)"
   ]
  },
  {
   "cell_type": "code",
   "execution_count": 91,
   "metadata": {
    "colab": {
     "base_uri": "https://localhost:8080/",
     "height": 416
    },
    "executionInfo": {
     "elapsed": 13,
     "status": "ok",
     "timestamp": 1627572782226,
     "user": {
      "displayName": "Matthew Oladiran",
      "photoUrl": "https://lh3.googleusercontent.com/a-/AOh14Gh8gzFroomEcpCvX9DbYCy3EqIAhBaajOv9aNCNbg=s64",
      "userId": "09145176024951036598"
     },
     "user_tz": -60
    },
    "id": "wnWBReJ2sMb2",
    "outputId": "715a8212-5aaf-491b-ad09-e411010d63d4"
   },
   "outputs": [
    {
     "data": {
      "image/png": "[encoded data removed]",
      "text/plain": [
       "<Figure size 720x432 with 1 Axes>"
      ]
     },
     "metadata": {
      "needs_background": "light",
      "tags": []
     },
     "output_type": "display_data"
    }
   ],
   "source": [
    "plt.title('Feature Importance')\n",
    "sns.barplot(data=importance_df.head(10), x='importance', y='feature');"
   ]
  },
  {
   "cell_type": "code",
   "execution_count": 92,
   "metadata": {
    "colab": {
     "base_uri": "https://localhost:8080/",
     "height": 86
    },
    "executionInfo": {
     "elapsed": 392,
     "status": "ok",
     "timestamp": 1627572782606,
     "user": {
      "displayName": "Matthew Oladiran",
      "photoUrl": "https://lh3.googleusercontent.com/a-/AOh14Gh8gzFroomEcpCvX9DbYCy3EqIAhBaajOv9aNCNbg=s64",
      "userId": "09145176024951036598"
     },
     "user_tz": -60
    },
    "id": "TptZU3eHsMeP",
    "outputId": "1cd31441-faf4-4fe4-dfca-ba9232a4dee0"
   },
   "outputs": [
    {
     "name": "stdout",
     "output_type": "stream",
     "text": [
      "[jovian] Detected Colab notebook...\u001b[0m\n",
      "[jovian] Uploading colab notebook to Jovian...\u001b[0m\n",
      "Committed successfully! https://jovian.ai/toyoski/my-jovian-project\n"
     ]
    },
    {
     "data": {
      "application/vnd.google.colaboratory.intrinsic+json": {
       "type": "string"
      },
      "text/plain": [
       "'https://jovian.ai/toyoski/my-jovian-project'"
      ]
     },
     "execution_count": 92,
     "metadata": {
      "tags": []
     },
     "output_type": "execute_result"
    }
   ],
   "source": [
    "jovian.commit()"
   ]
  },
  {
   "cell_type": "markdown",
   "metadata": {
    "id": "hdivizqKteif"
   },
   "source": [
    "## Hyperparameter Tuning with Random Forests\n",
    "\n",
    "Just like decision trees, random forests also have several hyperparameters. In fact many of these hyperparameters are applied to the underlying decision trees. \n",
    "\n",
    "Let's study some the hyperparameters for random forests. You can learn more about them here: https://scikit-learn.org/stable/modules/generated/sklearn.ensemble.RandomForestClassifier.html"
   ]
  },
  {
   "cell_type": "code",
   "execution_count": 93,
   "metadata": {
    "executionInfo": {
     "elapsed": 45690,
     "status": "ok",
     "timestamp": 1627572828292,
     "user": {
      "displayName": "Matthew Oladiran",
      "photoUrl": "https://lh3.googleusercontent.com/a-/AOh14Gh8gzFroomEcpCvX9DbYCy3EqIAhBaajOv9aNCNbg=s64",
      "userId": "09145176024951036598"
     },
     "user_tz": -60
    },
    "id": "bAMA2_Q_sMhn"
   },
   "outputs": [],
   "source": [
    "base_model = RandomForestClassifier(random_state=0, n_jobs=-1).fit(X_train, train_targets)"
   ]
  },
  {
   "cell_type": "code",
   "execution_count": 94,
   "metadata": {
    "executionInfo": {
     "elapsed": 2586,
     "status": "ok",
     "timestamp": 1627572830877,
     "user": {
      "displayName": "Matthew Oladiran",
      "photoUrl": "https://lh3.googleusercontent.com/a-/AOh14Gh8gzFroomEcpCvX9DbYCy3EqIAhBaajOv9aNCNbg=s64",
      "userId": "09145176024951036598"
     },
     "user_tz": -60
    },
    "id": "ytf4p2_mtbQw"
   },
   "outputs": [],
   "source": [
    "base_train_acc = base_model.score(X_train, train_targets)\n",
    "base_val_acc = base_model.score(X_val, test_targets)"
   ]
  },
  {
   "cell_type": "code",
   "execution_count": 95,
   "metadata": {
    "colab": {
     "base_uri": "https://localhost:8080/"
    },
    "executionInfo": {
     "elapsed": 5,
     "status": "ok",
     "timestamp": 1627572830878,
     "user": {
      "displayName": "Matthew Oladiran",
      "photoUrl": "https://lh3.googleusercontent.com/a-/AOh14Gh8gzFroomEcpCvX9DbYCy3EqIAhBaajOv9aNCNbg=s64",
      "userId": "09145176024951036598"
     },
     "user_tz": -60
    },
    "id": "_8Qf1jgftbWE",
    "outputId": "63ea3872-bad7-4e6a-dc59-23fc3a5f9fea"
   },
   "outputs": [
    {
     "data": {
      "text/plain": [
       "(1.0, 0.8999314912080384)"
      ]
     },
     "execution_count": 95,
     "metadata": {
      "tags": []
     },
     "output_type": "execute_result"
    }
   ],
   "source": [
    "base_accs = base_train_acc, base_val_acc\n",
    "base_accs"
   ]
  },
  {
   "cell_type": "markdown",
   "metadata": {
    "id": "-XfkWwypt5Wg"
   },
   "source": [
    "### `n_estimators`\n",
    "\n",
    "This argument controls the number of decision trees in the random forest. The default value is 100. For larger datasets, it helps to have a greater number of estimators. As a general rule, try to have as few estimators as needed. \n",
    "\n",
    "\n",
    "**200 estimators**"
   ]
  },
  {
   "cell_type": "code",
   "execution_count": 96,
   "metadata": {
    "executionInfo": {
     "elapsed": 3,
     "status": "ok",
     "timestamp": 1627572830878,
     "user": {
      "displayName": "Matthew Oladiran",
      "photoUrl": "https://lh3.googleusercontent.com/a-/AOh14Gh8gzFroomEcpCvX9DbYCy3EqIAhBaajOv9aNCNbg=s64",
      "userId": "09145176024951036598"
     },
     "user_tz": -60
    },
    "id": "j7s1diLctbZp"
   },
   "outputs": [],
   "source": [
    "model = RandomForestClassifier(random_state=0, n_jobs=-1, n_estimators=200)"
   ]
  },
  {
   "cell_type": "code",
   "execution_count": 97,
   "metadata": {
    "colab": {
     "base_uri": "https://localhost:8080/"
    },
    "executionInfo": {
     "elapsed": 97000,
     "status": "ok",
     "timestamp": 1627572927876,
     "user": {
      "displayName": "Matthew Oladiran",
      "photoUrl": "https://lh3.googleusercontent.com/a-/AOh14Gh8gzFroomEcpCvX9DbYCy3EqIAhBaajOv9aNCNbg=s64",
      "userId": "09145176024951036598"
     },
     "user_tz": -60
    },
    "id": "6l0VdGiFtbcT",
    "outputId": "445611c3-64ef-46ed-f4b3-f80376ac6571"
   },
   "outputs": [
    {
     "data": {
      "text/plain": [
       "RandomForestClassifier(n_estimators=200, n_jobs=-1, random_state=0)"
      ]
     },
     "execution_count": 97,
     "metadata": {
      "tags": []
     },
     "output_type": "execute_result"
    }
   ],
   "source": [
    "model.fit(X_train, train_targets)"
   ]
  },
  {
   "cell_type": "code",
   "execution_count": 98,
   "metadata": {
    "colab": {
     "base_uri": "https://localhost:8080/"
    },
    "executionInfo": {
     "elapsed": 6724,
     "status": "ok",
     "timestamp": 1627572934596,
     "user": {
      "displayName": "Matthew Oladiran",
      "photoUrl": "https://lh3.googleusercontent.com/a-/AOh14Gh8gzFroomEcpCvX9DbYCy3EqIAhBaajOv9aNCNbg=s64",
      "userId": "09145176024951036598"
     },
     "user_tz": -60
    },
    "id": "C_CO3L8Htblv",
    "outputId": "ba5262e7-b1d9-4e11-af6f-604bc5ecee8b"
   },
   "outputs": [
    {
     "data": {
      "text/plain": [
       "(1.0, 0.9002968714318338)"
      ]
     },
     "execution_count": 98,
     "metadata": {
      "tags": []
     },
     "output_type": "execute_result"
    }
   ],
   "source": [
    "model.score(X_train, train_targets), model.score(X_val, test_targets)"
   ]
  },
  {
   "cell_type": "code",
   "execution_count": 99,
   "metadata": {
    "colab": {
     "base_uri": "https://localhost:8080/"
    },
    "executionInfo": {
     "elapsed": 10,
     "status": "ok",
     "timestamp": 1627572934597,
     "user": {
      "displayName": "Matthew Oladiran",
      "photoUrl": "https://lh3.googleusercontent.com/a-/AOh14Gh8gzFroomEcpCvX9DbYCy3EqIAhBaajOv9aNCNbg=s64",
      "userId": "09145176024951036598"
     },
     "user_tz": -60
    },
    "id": "vCcOCQmmtbov",
    "outputId": "fbdce6fc-7304-405f-cf35-5f31f3de3b24"
   },
   "outputs": [
    {
     "data": {
      "text/plain": [
       "(1.0, 0.8999314912080384)"
      ]
     },
     "execution_count": 99,
     "metadata": {
      "tags": []
     },
     "output_type": "execute_result"
    }
   ],
   "source": [
    "base_accs"
   ]
  },
  {
   "cell_type": "code",
   "execution_count": 100,
   "metadata": {
    "colab": {
     "base_uri": "https://localhost:8080/"
    },
    "executionInfo": {
     "elapsed": 246898,
     "status": "ok",
     "timestamp": 1627573181487,
     "user": {
      "displayName": "Matthew Oladiran",
      "photoUrl": "https://lh3.googleusercontent.com/a-/AOh14Gh8gzFroomEcpCvX9DbYCy3EqIAhBaajOv9aNCNbg=s64",
      "userId": "09145176024951036598"
     },
     "user_tz": -60
    },
    "id": "aF03gX8BrhLO",
    "outputId": "30816a4c-3ad0-417e-8b59-733a0e059bf0"
   },
   "outputs": [
    {
     "data": {
      "text/plain": [
       "RandomForestClassifier(n_estimators=500, n_jobs=-1, random_state=0)"
      ]
     },
     "execution_count": 100,
     "metadata": {
      "tags": []
     },
     "output_type": "execute_result"
    }
   ],
   "source": [
    "model = RandomForestClassifier(random_state=0, n_jobs=-1, n_estimators=500)\n",
    "model.fit(X_train, train_targets)"
   ]
  },
  {
   "cell_type": "code",
   "execution_count": 101,
   "metadata": {
    "colab": {
     "base_uri": "https://localhost:8080/"
    },
    "executionInfo": {
     "elapsed": 8396,
     "status": "ok",
     "timestamp": 1627573189880,
     "user": {
      "displayName": "Matthew Oladiran",
      "photoUrl": "https://lh3.googleusercontent.com/a-/AOh14Gh8gzFroomEcpCvX9DbYCy3EqIAhBaajOv9aNCNbg=s64",
      "userId": "09145176024951036598"
     },
     "user_tz": -60
    },
    "id": "dod8jHuXvjOR",
    "outputId": "8cdb07ad-18c9-4b21-ff28-0b3e6b10fcca"
   },
   "outputs": [
    {
     "data": {
      "text/plain": [
       "1.0"
      ]
     },
     "execution_count": 101,
     "metadata": {
      "tags": []
     },
     "output_type": "execute_result"
    }
   ],
   "source": [
    "model.score(X_train, train_targets)"
   ]
  },
  {
   "cell_type": "code",
   "execution_count": 102,
   "metadata": {
    "colab": {
     "base_uri": "https://localhost:8080/"
    },
    "executionInfo": {
     "elapsed": 4900,
     "status": "ok",
     "timestamp": 1627573194771,
     "user": {
      "displayName": "Matthew Oladiran",
      "photoUrl": "https://lh3.googleusercontent.com/a-/AOh14Gh8gzFroomEcpCvX9DbYCy3EqIAhBaajOv9aNCNbg=s64",
      "userId": "09145176024951036598"
     },
     "user_tz": -60
    },
    "id": "bIQSKBWovn3W",
    "outputId": "9d761f62-2355-4c89-b716-98fa7b664813"
   },
   "outputs": [
    {
     "data": {
      "text/plain": [
       "0.9005252340717058"
      ]
     },
     "execution_count": 102,
     "metadata": {
      "tags": []
     },
     "output_type": "execute_result"
    }
   ],
   "source": [
    "model.score(X_val, test_targets)"
   ]
  },
  {
   "cell_type": "code",
   "execution_count": 103,
   "metadata": {
    "colab": {
     "base_uri": "https://localhost:8080/"
    },
    "executionInfo": {
     "elapsed": 14,
     "status": "ok",
     "timestamp": 1627573194772,
     "user": {
      "displayName": "Matthew Oladiran",
      "photoUrl": "https://lh3.googleusercontent.com/a-/AOh14Gh8gzFroomEcpCvX9DbYCy3EqIAhBaajOv9aNCNbg=s64",
      "userId": "09145176024951036598"
     },
     "user_tz": -60
    },
    "id": "FKTPs984vn6u",
    "outputId": "6dec1922-f1ee-4959-cb42-3eedc8fd601b"
   },
   "outputs": [
    {
     "data": {
      "text/plain": [
       "(1.0, 0.8999314912080384)"
      ]
     },
     "execution_count": 103,
     "metadata": {
      "tags": []
     },
     "output_type": "execute_result"
    }
   ],
   "source": [
    "base_accs"
   ]
  },
  {
   "cell_type": "code",
   "execution_count": 109,
   "metadata": {
    "executionInfo": {
     "elapsed": 3420,
     "status": "ok",
     "timestamp": 1627573343126,
     "user": {
      "displayName": "Matthew Oladiran",
      "photoUrl": "https://lh3.googleusercontent.com/a-/AOh14Gh8gzFroomEcpCvX9DbYCy3EqIAhBaajOv9aNCNbg=s64",
      "userId": "09145176024951036598"
     },
     "user_tz": -60
    },
    "id": "NwfimkqwvoB-"
   },
   "outputs": [],
   "source": [
    "def test_params(**params):\n",
    "    model = RandomForestClassifier(random_state=0, n_jobs=-1, **params).fit(X_train, train_targets)\n",
    "    return model.score(X_train, train_targets), model.score(X_val, test_targets)"
   ]
  },
  {
   "cell_type": "code",
   "execution_count": 110,
   "metadata": {
    "colab": {
     "base_uri": "https://localhost:8080/"
    },
    "executionInfo": {
     "elapsed": 8026,
     "status": "ok",
     "timestamp": 1627573360070,
     "user": {
      "displayName": "Matthew Oladiran",
      "photoUrl": "https://lh3.googleusercontent.com/a-/AOh14Gh8gzFroomEcpCvX9DbYCy3EqIAhBaajOv9aNCNbg=s64",
      "userId": "09145176024951036598"
     },
     "user_tz": -60
    },
    "id": "_uxQDL3svoFA",
    "outputId": "f549af1d-8081-4c65-9d6b-2a2861c9a30a"
   },
   "outputs": [
    {
     "data": {
      "text/plain": [
       "(0.8763701847792045, 0.8785110755880338)"
      ]
     },
     "execution_count": 110,
     "metadata": {
      "tags": []
     },
     "output_type": "execute_result"
    }
   ],
   "source": [
    "test_params(max_depth=5)"
   ]
  },
  {
   "cell_type": "code",
   "execution_count": 111,
   "metadata": {
    "colab": {
     "base_uri": "https://localhost:8080/"
    },
    "executionInfo": {
     "elapsed": 35559,
     "status": "ok",
     "timestamp": 1627573402140,
     "user": {
      "displayName": "Matthew Oladiran",
      "photoUrl": "https://lh3.googleusercontent.com/a-/AOh14Gh8gzFroomEcpCvX9DbYCy3EqIAhBaajOv9aNCNbg=s64",
      "userId": "09145176024951036598"
     },
     "user_tz": -60
    },
    "id": "9JWR7B_ovoJ9",
    "outputId": "a2fd9d98-9c57-4439-bdda-c9aa6e877260"
   },
   "outputs": [
    {
     "data": {
      "text/plain": [
       "(0.9246202630754776, 0.8982416076729847)"
      ]
     },
     "execution_count": 111,
     "metadata": {
      "tags": []
     },
     "output_type": "execute_result"
    }
   ],
   "source": [
    "test_params(max_depth=35)"
   ]
  },
  {
   "cell_type": "code",
   "execution_count": 107,
   "metadata": {
    "colab": {
     "base_uri": "https://localhost:8080/"
    },
    "executionInfo": {
     "elapsed": 5341,
     "status": "ok",
     "timestamp": 1627573249405,
     "user": {
      "displayName": "Matthew Oladiran",
      "photoUrl": "https://lh3.googleusercontent.com/a-/AOh14Gh8gzFroomEcpCvX9DbYCy3EqIAhBaajOv9aNCNbg=s64",
      "userId": "09145176024951036598"
     },
     "user_tz": -60
    },
    "id": "3A9MhmqCwJxe",
    "outputId": "67a2ea3f-5622-442e-e747-11bd169f79bc"
   },
   "outputs": [
    {
     "data": {
      "text/plain": [
       "(0.876565925461948, 0.8785567481160083)"
      ]
     },
     "execution_count": 107,
     "metadata": {
      "tags": []
     },
     "output_type": "execute_result"
    }
   ],
   "source": [
    "test_params(max_leaf_nodes=2**5)"
   ]
  },
  {
   "cell_type": "code",
   "execution_count": 116,
   "metadata": {
    "executionInfo": {
     "elapsed": 676,
     "status": "ok",
     "timestamp": 1627573765636,
     "user": {
      "displayName": "Matthew Oladiran",
      "photoUrl": "https://lh3.googleusercontent.com/a-/AOh14Gh8gzFroomEcpCvX9DbYCy3EqIAhBaajOv9aNCNbg=s64",
      "userId": "09145176024951036598"
     },
     "user_tz": -60
    },
    "id": "oODGpWGs9FlX"
   },
   "outputs": [],
   "source": [
    "test_preds = model.predict(X_test)"
   ]
  },
  {
   "cell_type": "code",
   "execution_count": 117,
   "metadata": {
    "executionInfo": {
     "elapsed": 563,
     "status": "ok",
     "timestamp": 1627573878713,
     "user": {
      "displayName": "Matthew Oladiran",
      "photoUrl": "https://lh3.googleusercontent.com/a-/AOh14Gh8gzFroomEcpCvX9DbYCy3EqIAhBaajOv9aNCNbg=s64",
      "userId": "09145176024951036598"
     },
     "user_tz": -60
    },
    "id": "lOn9QYOH9Fn-"
   },
   "outputs": [],
   "source": [
    "entry_df['IsBadBuy']  = test_preds"
   ]
  },
  {
   "cell_type": "code",
   "execution_count": 118,
   "metadata": {
    "colab": {
     "base_uri": "https://localhost:8080/",
     "height": 419
    },
    "executionInfo": {
     "elapsed": 387,
     "status": "ok",
     "timestamp": 1627573895384,
     "user": {
      "displayName": "Matthew Oladiran",
      "photoUrl": "https://lh3.googleusercontent.com/a-/AOh14Gh8gzFroomEcpCvX9DbYCy3EqIAhBaajOv9aNCNbg=s64",
      "userId": "09145176024951036598"
     },
     "user_tz": -60
    },
    "id": "TSihqxeU9Fs3",
    "outputId": "2ddb1eb8-ad5c-499a-b64a-c976894c1d8b"
   },
   "outputs": [
    {
     "data": {
      "text/html": [
       "<div>\n",
       "<style scoped>\n",
       "    .dataframe tbody tr th:only-of-type {\n",
       "        vertical-align: middle;\n",
       "    }\n",
       "\n",
       "    .dataframe tbody tr th {\n",
       "        vertical-align: top;\n",
       "    }\n",
       "\n",
       "    .dataframe thead th {\n",
       "        text-align: right;\n",
       "    }\n",
       "</style>\n",
       "<table border=\"1\" class=\"dataframe\">\n",
       "  <thead>\n",
       "    <tr style=\"text-align: right;\">\n",
       "      <th></th>\n",
       "      <th>RefId</th>\n",
       "      <th>IsBadBuy</th>\n",
       "    </tr>\n",
       "  </thead>\n",
       "  <tbody>\n",
       "    <tr>\n",
       "      <th>0</th>\n",
       "      <td>73015</td>\n",
       "      <td>0</td>\n",
       "    </tr>\n",
       "    <tr>\n",
       "      <th>1</th>\n",
       "      <td>73016</td>\n",
       "      <td>0</td>\n",
       "    </tr>\n",
       "    <tr>\n",
       "      <th>2</th>\n",
       "      <td>73017</td>\n",
       "      <td>0</td>\n",
       "    </tr>\n",
       "    <tr>\n",
       "      <th>3</th>\n",
       "      <td>73018</td>\n",
       "      <td>0</td>\n",
       "    </tr>\n",
       "    <tr>\n",
       "      <th>4</th>\n",
       "      <td>73019</td>\n",
       "      <td>1</td>\n",
       "    </tr>\n",
       "    <tr>\n",
       "      <th>...</th>\n",
       "      <td>...</td>\n",
       "      <td>...</td>\n",
       "    </tr>\n",
       "    <tr>\n",
       "      <th>48702</th>\n",
       "      <td>121742</td>\n",
       "      <td>0</td>\n",
       "    </tr>\n",
       "    <tr>\n",
       "      <th>48703</th>\n",
       "      <td>121743</td>\n",
       "      <td>0</td>\n",
       "    </tr>\n",
       "    <tr>\n",
       "      <th>48704</th>\n",
       "      <td>121744</td>\n",
       "      <td>0</td>\n",
       "    </tr>\n",
       "    <tr>\n",
       "      <th>48705</th>\n",
       "      <td>121745</td>\n",
       "      <td>0</td>\n",
       "    </tr>\n",
       "    <tr>\n",
       "      <th>48706</th>\n",
       "      <td>121746</td>\n",
       "      <td>0</td>\n",
       "    </tr>\n",
       "  </tbody>\n",
       "</table>\n",
       "<p>48707 rows × 2 columns</p>\n",
       "</div>"
      ],
      "text/plain": [
       "        RefId  IsBadBuy\n",
       "0       73015         0\n",
       "1       73016         0\n",
       "2       73017         0\n",
       "3       73018         0\n",
       "4       73019         1\n",
       "...       ...       ...\n",
       "48702  121742         0\n",
       "48703  121743         0\n",
       "48704  121744         0\n",
       "48705  121745         0\n",
       "48706  121746         0\n",
       "\n",
       "[48707 rows x 2 columns]"
      ]
     },
     "execution_count": 118,
     "metadata": {
      "tags": []
     },
     "output_type": "execute_result"
    }
   ],
   "source": [
    "entry_df"
   ]
  },
  {
   "cell_type": "code",
   "execution_count": 119,
   "metadata": {
    "executionInfo": {
     "elapsed": 509,
     "status": "ok",
     "timestamp": 1627573963880,
     "user": {
      "displayName": "Matthew Oladiran",
      "photoUrl": "https://lh3.googleusercontent.com/a-/AOh14Gh8gzFroomEcpCvX9DbYCy3EqIAhBaajOv9aNCNbg=s64",
      "userId": "09145176024951036598"
     },
     "user_tz": -60
    },
    "id": "J3-m32oA9FwP"
   },
   "outputs": [],
   "source": [
    "entry_df.to_csv('example_entry.csv', index=None)"
   ]
  },
  {
   "cell_type": "code",
   "execution_count": 120,
   "metadata": {
    "colab": {
     "base_uri": "https://localhost:8080/"
    },
    "executionInfo": {
     "elapsed": 4413,
     "status": "ok",
     "timestamp": 1627574096543,
     "user": {
      "displayName": "Matthew Oladiran",
      "photoUrl": "https://lh3.googleusercontent.com/a-/AOh14Gh8gzFroomEcpCvX9DbYCy3EqIAhBaajOv9aNCNbg=s64",
      "userId": "09145176024951036598"
     },
     "user_tz": -60
    },
    "id": "VZuUGoUJ9qy2",
    "outputId": "9106ad84-532b-4396-b571-b6a81ce6c833"
   },
   "outputs": [
    {
     "name": "stdout",
     "output_type": "stream",
     "text": [
      "[jovian] Detected Colab notebook...\u001b[0m\n",
      "[jovian] Uploading colab notebook to Jovian...\u001b[0m\n",
      "Committed successfully! https://jovian.ai/toyoski/my-jovian-project\n",
      "[jovian] Submitting assignment..\u001b[0m\n",
      "[jovian] Verify your submission at https://jovian.ai/learn/machine-learning-with-python-zero-to-gbms/assignment/course-project-real-world-machine-learning-model\u001b[0m\n"
     ]
    }
   ],
   "source": [
    "jovian.submit(assignment=\"zerotogbms-project\")"
   ]
  },
  {
   "cell_type": "code",
   "execution_count": null,
   "metadata": {
    "id": "kdIMIwAN9q18"
   },
   "outputs": [],
   "source": []
  },
  {
   "cell_type": "code",
   "execution_count": null,
   "metadata": {
    "id": "mPXjAWLb9q42"
   },
   "outputs": [],
   "source": []
  },
  {
   "cell_type": "code",
   "execution_count": null,
   "metadata": {
    "id": "gAYXJv929q7k"
   },
   "outputs": [],
   "source": []
  },
  {
   "cell_type": "code",
   "execution_count": null,
   "metadata": {
    "id": "kxnYXvZa9q-C"
   },
   "outputs": [],
   "source": []
  },
  {
   "cell_type": "code",
   "execution_count": null,
   "metadata": {
    "id": "8DWBnYq59rBG"
   },
   "outputs": [],
   "source": []
  }
 ],
 "metadata": {
  "colab": {
   "collapsed_sections": [
    "_5nNBtSSbkpm",
    "sdKrqdzZpJPi"
   ],
   "name": "my-jovian-project.ipynb",
   "provenance": []
  },
  "language_info": {
   "codemirror_mode": {
    "name": "ipython",
    "version": 3
   },
   "file_extension": ".py",
   "mimetype": "text/x-python",
   "name": "python",
   "nbconvert_exporter": "python",
   "pygments_lexer": "ipython3",
   "version": "3.9.5"
  }
 },
 "nbformat": 4,
 "nbformat_minor": 0
}